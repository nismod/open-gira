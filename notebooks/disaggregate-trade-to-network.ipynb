{
 "cells": [
  {
   "cell_type": "code",
   "execution_count": null,
   "id": "0",
   "metadata": {},
   "outputs": [],
   "source": [
    "import os\n",
    "import warnings\n",
    "from glob import glob\n",
    "from pathlib import Path\n",
    "\n",
    "import geopandas\n",
    "import pandas\n",
    "from tqdm.notebook import tqdm"
   ]
  },
  {
   "cell_type": "code",
   "execution_count": null,
   "id": "1",
   "metadata": {},
   "outputs": [],
   "source": [
    "og_results_path = Path(\"~/projects/open-gira/results\")"
   ]
  },
  {
   "cell_type": "code",
   "execution_count": null,
   "id": "2",
   "metadata": {},
   "outputs": [],
   "source": [
    "trade_adm1_total = pandas.read_csv(\"baci_total_adm1_trade_THA.csv\")"
   ]
  },
  {
   "cell_type": "code",
   "execution_count": null,
   "id": "3",
   "metadata": {},
   "outputs": [],
   "source": [
    "nodes_path = (\n",
    "    og_results_path / \"composite_network\" / \"south-east-asia-road\" / \"nodes.gpq\"\n",
    ")\n",
    "nodes = geopandas.read_parquet(nodes_path).query('iso_a3 == \"THA\"')"
   ]
  },
  {
   "cell_type": "code",
   "execution_count": null,
   "id": "4",
   "metadata": {},
   "outputs": [],
   "source": [
    "if not os.path.exists(\"adm1_tha.gpq\"):\n",
    "    adm1_path = og_results_path / \"input\" / \"admin-boundaries\" / \"gadm36_levels.gpkg\"\n",
    "    adm1 = geopandas.read_file(adm1_path, driver=\"pyogrio\", layer=\"level1\")\n",
    "    adm1_tha = adm1.query('GID_0 == \"THA\"')\n",
    "    adm1_tha.to_parquet(\"adm1_tha.gpq\")\n",
    "else:\n",
    "    adm1_tha = geopandas.read_parquet(\"adm1_tha.gpq\")\n",
    "\n",
    "adm1_tha = adm1_tha[[\"GID_1\", \"geometry\"]].copy()"
   ]
  },
  {
   "cell_type": "code",
   "execution_count": null,
   "id": "5",
   "metadata": {},
   "outputs": [],
   "source": [
    "def group_to_nodes(basename, nodes):\n",
    "    out_base = basename.replace(\"3ss\", \"nodes\")\n",
    "    dfs = []\n",
    "    warnings.filterwarnings(action=\"ignore\", message=\"Geometry is in a geographic CRS\")\n",
    "    for fname in tqdm(list(glob(f\"{basename}.parquet/*\"))):\n",
    "        df = geopandas.read_parquet(fname)\n",
    "        if not df.empty:\n",
    "            df_nodes = (\n",
    "                df.sjoin_nearest(nodes[[\"id\", \"geometry\"]], how=\"left\")[[\"id\", \"data\"]]\n",
    "                .groupby(\"id\")\n",
    "                .sum()\n",
    "                .reset_index()\n",
    "            )\n",
    "            dfs.append(df_nodes)\n",
    "    data_nodes = pandas.concat(dfs).groupby(\"id\").sum()\n",
    "    data_nodes = nodes.set_index(\"id\").join(data_nodes)\n",
    "    data_nodes.to_parquet(f\"{out_base}.parquet\")\n",
    "    data_nodes.to_file(f\"{out_base}.gpkg\", engine=\"pyogrio\", driver=\"GPKG\")"
   ]
  },
  {
   "cell_type": "code",
   "execution_count": null,
   "id": "6",
   "metadata": {},
   "outputs": [],
   "source": [
    "for sector in (\"ag\", \"man\", \"serv\"):\n",
    "    if not os.path.exists(f\"gva_{sector}_3ss.parquet\"):\n",
    "        group_to_nodes(f\"gva_{sector}_3ss\", nodes)"
   ]
  },
  {
   "cell_type": "code",
   "execution_count": null,
   "id": "7",
   "metadata": {},
   "outputs": [],
   "source": [
    "gva_man_nodes = geopandas.read_parquet(\"gva_man_nodes.parquet\")\n",
    "gva_ag_nodes = geopandas.read_parquet(\"gva_ag_nodes.parquet\")\n",
    "gva_serv_nodes = geopandas.read_parquet(\"gva_serv_nodes.parquet\")"
   ]
  },
  {
   "cell_type": "code",
   "execution_count": null,
   "id": "8",
   "metadata": {},
   "outputs": [],
   "source": [
    "nodes_adm1 = nodes.sjoin(adm1_tha, how=\"left\")\n",
    "a = nodes_adm1.dropna()\n",
    "b = (\n",
    "    nodes_adm1[nodes_adm1.GID_1.isna()]\n",
    "    .drop(columns=[\"index_right\", \"GID_1\"])\n",
    "    .sjoin_nearest(adm1_tha, how=\"left\")\n",
    ")\n",
    "nodes_adm1 = pandas.concat([a, b]).fillna(0)\n",
    "nodes_adm1.shape"
   ]
  },
  {
   "cell_type": "code",
   "execution_count": null,
   "id": "9",
   "metadata": {},
   "outputs": [],
   "source": [
    "nodes_with_gva = (\n",
    "    nodes_adm1.set_index(\"id\")\n",
    "    .join(gva_ag_nodes[[\"data\"]])\n",
    "    .rename(columns={\"data\": \"gva_ag_usd\"})\n",
    "    .join(gva_man_nodes[[\"data\"]])\n",
    "    .rename(columns={\"data\": \"gva_man_usd\"})\n",
    "    .join(gva_serv_nodes[[\"data\"]])\n",
    "    .rename(columns={\"data\": \"gva_ser_usd\"})\n",
    ")"
   ]
  },
  {
   "cell_type": "code",
   "execution_count": null,
   "id": "10",
   "metadata": {},
   "outputs": [],
   "source": [
    "gva_from_nodes_adm1 = (\n",
    "    nodes_with_gva.fillna(0)\n",
    "    .drop(columns=[\"geometry\", \"iso_a3\", \"component_id\", \"index_right\"])\n",
    "    .groupby(\"GID_1\")\n",
    "    .sum()\n",
    "    .rename(\n",
    "        columns={\n",
    "            \"gva_ag_usd\": \"gva_ag_adm1_usd\",\n",
    "            \"gva_man_usd\": \"gva_man_adm1_usd\",\n",
    "            \"gva_ser_usd\": \"gva_ser_adm1_usd\",\n",
    "        }\n",
    "    )\n",
    ")"
   ]
  },
  {
   "cell_type": "code",
   "execution_count": null,
   "id": "11",
   "metadata": {},
   "outputs": [],
   "source": [
    "nodes_weighted = nodes_with_gva.reset_index().merge(\n",
    "    gva_from_nodes_adm1.reset_index(), on=\"GID_1\", how=\"left\"\n",
    ")\n",
    "\n",
    "for sector in (\"ag\", \"man\", \"ser\"):\n",
    "    nodes_weighted[f\"proportion_of_adm1_{sector}\"] = (\n",
    "        nodes_weighted[f\"gva_{sector}_usd\"] / nodes_weighted[f\"gva_{sector}_adm1_usd\"]\n",
    "    )\n",
    "\n",
    "nodes_weighted = (\n",
    "    nodes_weighted[\n",
    "        [\n",
    "            \"id\",\n",
    "            \"GID_1\",\n",
    "            \"proportion_of_adm1_ag\",\n",
    "            \"proportion_of_adm1_man\",\n",
    "            \"proportion_of_adm1_ser\",\n",
    "            \"geometry\",\n",
    "        ]\n",
    "    ]\n",
    "    .copy()\n",
    "    .fillna(0)\n",
    ")"
   ]
  },
  {
   "cell_type": "code",
   "execution_count": null,
   "id": "12",
   "metadata": {},
   "outputs": [],
   "source": [
    "nodes_weighted.to_parquet(\"tha_road_nodes.parquet\")"
   ]
  },
  {
   "cell_type": "code",
   "execution_count": null,
   "id": "13",
   "metadata": {},
   "outputs": [],
   "source": [
    "nodes_weighted = geopandas.read_parquet(\"tha_road_nodes.parquet\")"
   ]
  },
  {
   "cell_type": "code",
   "execution_count": null,
   "id": "14",
   "metadata": {},
   "outputs": [],
   "source": [
    "nodes_weighted.head()"
   ]
  },
  {
   "cell_type": "code",
   "execution_count": null,
   "id": "15",
   "metadata": {},
   "outputs": [],
   "source": [
    "trade_adm1 = pandas.read_csv(\"baci_sector_adm1_trade_THA.csv\").rename(\n",
    "    columns={\n",
    "        \"trade_value_thousandUSD\": \"value_kusd_adm1\",\n",
    "        \"trade_quantity_tons\": \"volume_tons_adm1\",\n",
    "    }\n",
    ")\n",
    "trade_adm1.head(2)"
   ]
  },
  {
   "cell_type": "code",
   "execution_count": null,
   "id": "16",
   "metadata": {},
   "outputs": [],
   "source": [
    "nodes_with_prop = (\n",
    "    nodes_weighted[\n",
    "        [\n",
    "            \"id\",\n",
    "            \"GID_1\",\n",
    "            \"proportion_of_adm1_ag\",\n",
    "            \"proportion_of_adm1_man\",\n",
    "            \"proportion_of_adm1_ser\",\n",
    "        ]\n",
    "    ]\n",
    "    .rename(\n",
    "        columns={\n",
    "            \"proportion_of_adm1_ag\": \"ag\",\n",
    "            \"proportion_of_adm1_man\": \"man\",\n",
    "            \"proportion_of_adm1_ser\": \"ser\",\n",
    "        }\n",
    "    )\n",
    "    .melt(id_vars=[\"id\", \"GID_1\"], var_name=\"sector\", value_name=\"proportion_of_adm1\")\n",
    ")"
   ]
  },
  {
   "cell_type": "code",
   "execution_count": null,
   "id": "17",
   "metadata": {},
   "outputs": [],
   "source": [
    "def disaggregate_to_nodes(nodes_with_prop, trade_adm1, adm1):\n",
    "    trade_nodes = nodes_with_prop.query(f'GID_1 == \"{adm1}\"').merge(\n",
    "        trade_adm1.query(f'THA_GID_1 == \"{adm1}\"'),\n",
    "        left_on=(\"GID_1\", \"sector\"),\n",
    "        right_on=(\"THA_GID_1\", \"sector\"),\n",
    "    )\n",
    "    trade_nodes[\"value_kusd\"] = (\n",
    "        trade_nodes.proportion_of_adm1 * trade_nodes.value_kusd_adm1\n",
    "    )\n",
    "    trade_nodes[\"volume_tons\"] = (\n",
    "        trade_nodes.proportion_of_adm1 * trade_nodes.volume_tons_adm1\n",
    "    )\n",
    "    trade_nodes = trade_nodes[\n",
    "        [\n",
    "            \"id\",\n",
    "            \"THA_GID_1\",\n",
    "            \"partner_GID_0\",\n",
    "            \"sector\",\n",
    "            \"export_country_code\",\n",
    "            \"export_zone\",\n",
    "            \"import_country_code\",\n",
    "            \"import_zone\",\n",
    "            \"value_kusd\",\n",
    "            \"volume_tons\",\n",
    "        ]\n",
    "    ]\n",
    "    return trade_nodes"
   ]
  },
  {
   "cell_type": "code",
   "execution_count": null,
   "id": "18",
   "metadata": {},
   "outputs": [],
   "source": [
    "! rm -r trade_nodes.parquet\n",
    "! rm -r trade_nodes_total.parquet\n",
    "! mkdir -p trade_nodes.parquet\n",
    "! mkdir -p trade_nodes_total.parquet"
   ]
  },
  {
   "cell_type": "code",
   "execution_count": null,
   "id": "19",
   "metadata": {},
   "outputs": [],
   "source": [
    "adm1s = trade_adm1.THA_GID_1.unique()\n",
    "\n",
    "for adm1 in tqdm(adm1s):\n",
    "    trade_nodes_adm1 = disaggregate_to_nodes(nodes_with_prop, trade_adm1, adm1)\n",
    "    os.mkdir(f\"trade_nodes.parquet/GID_1={adm1}\")\n",
    "    trade_nodes_adm1.to_parquet(f\"trade_nodes.parquet/GID_1={adm1}/data.parquet\")\n",
    "    trade_nodes_total = (\n",
    "        trade_nodes_adm1[\n",
    "            [\"id\", \"THA_GID_1\", \"partner_GID_0\", \"value_kusd\", \"volume_tons\"]\n",
    "        ]\n",
    "        .groupby([\"id\", \"THA_GID_1\", \"partner_GID_0\"])\n",
    "        .sum()\n",
    "        .reset_index()\n",
    "    )\n",
    "\n",
    "    os.mkdir(f\"trade_nodes_total.parquet/GID_1={adm1}\")\n",
    "    trade_nodes_total.to_parquet(f\"trade_nodes_total.parquet/GID_1={adm1}/data.parquet\")\n",
    "    trade_nodes_adm1 = None\n",
    "    trade_nodes_total = None"
   ]
  }
 ],
 "metadata": {
  "kernelspec": {
   "display_name": "Python 3 (ipykernel)",
   "language": "python",
   "name": "python3"
  },
  "language_info": {
   "codemirror_mode": {
    "name": "ipython",
    "version": 3
   },
   "file_extension": ".py",
   "mimetype": "text/x-python",
   "name": "python",
   "nbconvert_exporter": "python",
   "pygments_lexer": "ipython3",
   "version": "3.10.14"
  }
 },
 "nbformat": 4,
 "nbformat_minor": 5
}
