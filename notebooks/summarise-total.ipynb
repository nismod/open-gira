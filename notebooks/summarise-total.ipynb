{
 "cells": [
  {
   "cell_type": "code",
   "execution_count": null,
   "metadata": {},
   "outputs": [],
   "source": [
    "from pathlib import Path\n",
    "import pandas"
   ]
  },
  {
   "cell_type": "code",
   "execution_count": null,
   "metadata": {},
   "outputs": [],
   "source": [
    "! ls '/data/sharepoint/SharePoint_Geography_-_Jim_Halls_group_-_World_Bank_project_(ext)/World Bank project (ext)/Data/Thai Floods 2011/results/buildings_flood'"
   ]
  },
  {
   "cell_type": "code",
   "execution_count": null,
   "metadata": {},
   "outputs": [],
   "source": [
    "base_dir = Path(\n",
    "    \"/data/sharepoint/SharePoint_Geography_-_Jim_Halls_group_-_World_Bank_project_(ext)/World Bank project (ext)/Data/Thai Floods 2011/results/buildings_flood\"\n",
    ")"
   ]
  },
  {
   "cell_type": "code",
   "execution_count": null,
   "metadata": {},
   "outputs": [],
   "source": [
    "adm1_building_damage = pandas.read_csv(base_dir / \"adm1_building_damage.csv\")\n",
    "disruption_ag_1ss = pandas.read_csv(base_dir / \"disruption_ag_1ss.csv\")\n",
    "disruption_serv_1ss = pandas.read_csv(base_dir / \"disruption_serv_1ss.csv\")\n",
    "disruption_man_1ss = pandas.read_csv(base_dir / \"disruption_man_1ss.csv\")"
   ]
  },
  {
   "cell_type": "code",
   "execution_count": null,
   "metadata": {},
   "outputs": [],
   "source": [
    "adm1_building_damage[\n",
    "    [c for c in adm1_building_damage.columns if \"usd\" in c]\n",
    "].sum() / 1e9"
   ]
  },
  {
   "cell_type": "code",
   "execution_count": null,
   "metadata": {},
   "outputs": [],
   "source": [
    "{\n",
    "    \"ag\": disruption_ag_1ss[\"sum\"].sum() / (1e6 * 365),\n",
    "    \"man\": disruption_man_1ss[\"sum\"].sum() / (1e6 * 365),\n",
    "    \"serv\": disruption_serv_1ss[\"sum\"].sum() / (1e6 * 365),\n",
    "}"
   ]
  },
  {
   "cell_type": "code",
   "execution_count": null,
   "metadata": {},
   "outputs": [],
   "source": [
    "dose = pandas.read_csv(\"../results/input/giri/THA/trade/DOSE_V2.csv\")"
   ]
  },
  {
   "cell_type": "code",
   "execution_count": null,
   "metadata": {},
   "outputs": [],
   "source": [
    "dose_tha = dose.query('GID_0 == \"THA\" & year == 2018').copy()\n",
    "\n",
    "for sector in (\"ag\", \"man\", \"serv\"):\n",
    "    dose_tha[sector] = dose_tha[\"pop\"] * dose_tha[f\"{sector}_grp_pc_usd_2015\"]\n",
    "\n",
    "(dose_tha[[\"ag\", \"man\", \"serv\"]].sum() / 1e9)  # .sum(), dose_tha.shape"
   ]
  }
 ],
 "metadata": {
  "kernelspec": {
   "display_name": "Python 3",
   "language": "python",
   "name": "python3"
  },
  "language_info": {
   "codemirror_mode": {
    "name": "ipython",
    "version": 3
   },
   "file_extension": ".py",
   "mimetype": "text/x-python",
   "name": "python",
   "nbconvert_exporter": "python",
   "pygments_lexer": "ipython3",
   "version": "3.10.13"
  }
 },
 "nbformat": 4,
 "nbformat_minor": 2
}
