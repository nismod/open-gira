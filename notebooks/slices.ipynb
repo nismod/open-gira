{
 "cells": [
  {
   "cell_type": "markdown",
   "metadata": {},
   "source": [
    "# Save slice boxes and number to a GeoPackage for visualisation"
   ]
  },
  {
   "cell_type": "code",
   "execution_count": null,
   "metadata": {},
   "outputs": [],
   "source": [
    "import json\n",
    "from pathlib import Path\n",
    "import geopandas\n",
    "import shapely"
   ]
  },
  {
   "cell_type": "code",
   "execution_count": null,
   "metadata": {},
   "outputs": [],
   "source": [
    "fnames  =sorted(list(Path(\"../results/json/planet-latest_extracts\").glob(\"*\")))"
   ]
  },
  {
   "cell_type": "code",
   "execution_count": null,
   "metadata": {},
   "outputs": [],
   "source": [
    "geoms = []\n",
    "slices = []\n",
    "for fname in fnames:\n",
    "    with open(fname) as fh:\n",
    "        data = json.load(fh)\n",
    "        xmin, ymin, xmax, ymax = data[\"extracts\"][0][\"bbox\"]\n",
    "        b = shapely.box(xmin, ymin, xmax, ymax)\n",
    "        geoms.append(b)\n",
    "        slices.append(fname.stem)"
   ]
  },
  {
   "cell_type": "code",
   "execution_count": null,
   "metadata": {},
   "outputs": [],
   "source": [
    "df = geopandas.GeoDataFrame(data={'slice': slices}, geometry=geoms)"
   ]
  },
  {
   "cell_type": "code",
   "execution_count": null,
   "metadata": {},
   "outputs": [],
   "source": [
    "df.to_file(\"../results/planet-latest_slices.gpkg\")"
   ]
  }
 ],
 "metadata": {
  "kernelspec": {
   "display_name": "Python 3",
   "language": "python",
   "name": "python3"
  },
  "language_info": {
   "codemirror_mode": {
    "name": "ipython",
    "version": 3
   },
   "file_extension": ".py",
   "mimetype": "text/x-python",
   "name": "python",
   "nbconvert_exporter": "python",
   "pygments_lexer": "ipython3",
   "version": "3.12.9"
  }
 },
 "nbformat": 4,
 "nbformat_minor": 2
}
