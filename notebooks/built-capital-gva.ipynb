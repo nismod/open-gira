{
 "cells": [
  {
   "cell_type": "code",
   "execution_count": null,
   "metadata": {},
   "outputs": [],
   "source": [
    "from pathlib import Path\n",
    "\n",
    "import matplotlib.pyplot as plt\n",
    "import numpy as np\n",
    "import geopandas\n",
    "import pandas\n",
    "import rasterio\n",
    "\n",
    "from affine import Affine\n",
    "from open_gira.io import write_raster_ds as write_ds, read_raster_ds as read_ds\n",
    "from open_gira.geometry import (\n",
    "    resample_sum,\n",
    "    clip_array,\n",
    "    repeat_2d,\n",
    "    floor_int,\n",
    "    zero_divide,\n",
    "    rasterize,\n",
    ")\n",
    "from snail.damages import PiecewiseLinearDamageCurve"
   ]
  },
  {
   "cell_type": "code",
   "execution_count": null,
   "metadata": {},
   "outputs": [],
   "source": [
    "base_dir = Path(\"../results/input\")\n",
    "# see scripts/building_damage.py for alternative implementation\n",
    "\n",
    "# inputs\n",
    "rr_val_150ss_tif = base_dir / \"giri/THA/bem_5x5_valfis_res__THA.tif\"\n",
    "rr_vol_3ss_tif = base_dir / \"ghsl/THA/ghs_built_v_res_3ss__THA.tif\"\n",
    "nr_val_150ss_tif = base_dir / \"giri/THA/bem_5x5_valfis_nres__THA.tif\"\n",
    "nr_vol_3ss_tif = base_dir / \"ghsl/THA/ghs_built_v_nres_3ss__THA.tif\"\n",
    "flood_1ss_tif = base_dir / \"footprints/JBA/Raster/TH_FLRF_ChaoPhraya2011_RD_01.tif\"\n",
    "\n",
    "# outputs\n",
    "rr_val_3ss_tif = base_dir / \"giri/THA/bem_3ss_valfis_res__THA.tif\"\n",
    "nr_val_3ss_tif = base_dir / \"giri/THA/bem_3ss_valfis_nres__THA.tif\"\n",
    "rr_dmg_val_1ss_tif = base_dir / \"giri/THA/dmg_val_res_1ss.tif\"\n",
    "nr_dmg_val_1ss_tif = base_dir / \"giri/THA/dmg_val_nres_1ss.tif\""
   ]
  },
  {
   "cell_type": "code",
   "execution_count": null,
   "metadata": {},
   "outputs": [],
   "source": [
    "def process_val_3ss(val_150ss_tif, vol_3ss_tif, val_3ss_tif):\n",
    "    val_150ss, val_150ss_ds = read_ds(val_150ss_tif, replace_nodata=True)\n",
    "    vol_3ss, vol_3ss_ds = read_ds(vol_3ss_tif, replace_nodata=True)\n",
    "    volume_3ss, t_3ss = calculate_volume_3ss(\n",
    "        val_150ss, val_150ss_ds, vol_3ss, vol_3ss_ds\n",
    "    )\n",
    "    write_ds(val_3ss_tif, volume_3ss, t_3ss)\n",
    "\n",
    "\n",
    "def calculate_volume_3ss(val_150ss, val_150ss_ds, vol_3ss, vol_3ss_ds):\n",
    "    # lon, lat of volume_3ss top left\n",
    "    vol_3ss_ul_xy = vol_3ss_ds.transform * (0, 0)\n",
    "    # col, row in value_150ss_all, inset one extra\n",
    "    val_150ss_ul_cr = floor_int(~val_150ss_ds.transform * (vol_3ss_ul_xy)) + 1\n",
    "    # lon, lat of that val_150ss_all pixel - this is our new top left\n",
    "    ul_xy_150ss = val_150ss_ds.transform * val_150ss_ul_cr\n",
    "    # col, row in vol_3ss_all\n",
    "    vol_3ss_ul_cr = floor_int(~vol_3ss_ds.transform * ul_xy_150ss)\n",
    "    # lon, lat of that vol_3ss_all pixel - new top left for 3ss purposes (tiny bit offset)\n",
    "    ul_xy_3ss = vol_3ss_ds.transform * vol_3ss_ul_cr\n",
    "    ul_xy_150ss, ul_xy_3ss\n",
    "\n",
    "    # Clip out vol array\n",
    "    col_idx, row_idx = vol_3ss_ul_cr\n",
    "    vol_3ss = vol_3ss[row_idx:, col_idx:]\n",
    "    vol_3ss = clip_array(vol_3ss, 50)\n",
    "    # Resample vol to coarse-scale, \"sum\"\n",
    "    vol_150ss = resample_sum(vol_3ss, 50)\n",
    "\n",
    "    a, b, _, d, e, _ = vol_3ss_ds.transform[:6]\n",
    "    # t_150ss = Affine(a * 50, b, ul_xy_150ss[0], d, e * 50, ul_xy_150ss[1])\n",
    "    t_3ss = Affine(a, b, ul_xy_3ss[0], d, e, ul_xy_3ss[1])\n",
    "\n",
    "    col_idx, row_idx = val_150ss_ul_cr\n",
    "    ncols, nrows = vol_150ss.shape\n",
    "    val_150ss = val_150ss[col_idx : col_idx + ncols, row_idx : row_idx + nrows]\n",
    "\n",
    "    if val_150ss.shape != vol_150ss.shape:\n",
    "        print(\"CHKS\", val_150ss.shape, vol_150ss.shape)\n",
    "        assert False\n",
    "\n",
    "    # Calculate val per unit vol\n",
    "    # val_per_vol_150ss = val_150ss / vol_150ss\n",
    "    val_per_vol_150ss = np.divide(\n",
    "        val_150ss, vol_150ss, out=np.zeros_like(val_150ss), where=vol_150ss != 0\n",
    "    )\n",
    "    # Resample to fine-scale val per vol, \"nearest\"\n",
    "    val_per_vol_3ss = repeat_2d(val_per_vol_150ss, 50)\n",
    "    # Calculate fine-scale val\n",
    "    val_3ss = val_per_vol_3ss * vol_3ss\n",
    "\n",
    "    return val_3ss, t_3ss\n",
    "\n",
    "\n",
    "# ~15s\n",
    "process_val_3ss(rr_val_150ss_tif, rr_vol_3ss_tif, rr_val_3ss_tif)\n",
    "process_val_3ss(nr_val_150ss_tif, nr_vol_3ss_tif, nr_val_3ss_tif)"
   ]
  },
  {
   "cell_type": "markdown",
   "metadata": {},
   "source": [
    "## Flood intersection\n"
   ]
  },
  {
   "cell_type": "code",
   "execution_count": null,
   "metadata": {},
   "outputs": [],
   "source": [
    "flood_1ss, flood_1ss_ds = read_ds(flood_1ss_tif, replace_nodata=True)"
   ]
  },
  {
   "cell_type": "code",
   "execution_count": null,
   "metadata": {},
   "outputs": [],
   "source": [
    "nr_val_3ss, nr_val_3ss_ds = read_ds(nr_val_3ss_tif)\n",
    "rr_val_3ss, rr_val_3ss_ds = read_ds(rr_val_3ss_tif)\n",
    "t_3ss = rr_val_3ss_ds.transform"
   ]
  },
  {
   "cell_type": "code",
   "execution_count": null,
   "metadata": {},
   "outputs": [],
   "source": [
    "rr_damage_curve = PiecewiseLinearDamageCurve.from_csv(\n",
    "    \"../config/damage_curves/flood/residential_asia.csv\",\n",
    "    intensity_col=\"inundation_depth_(m)\",\n",
    "    damage_col=\"damage_fraction\",\n",
    ")\n",
    "nr_damage_curve = PiecewiseLinearDamageCurve.from_csv(\n",
    "    \"../config/damage_curves/flood/commercial_asia.csv\",\n",
    "    intensity_col=\"inundation_depth_(m)\",\n",
    "    damage_col=\"damage_fraction\",\n",
    ")"
   ]
  },
  {
   "cell_type": "code",
   "execution_count": null,
   "metadata": {},
   "outputs": [],
   "source": [
    "def clip_rescale_1ss_3ss(t_1ss, t_3ss, data_1ss, data_3ss):\n",
    "    # lon, lat of footprint top left\n",
    "    t_1ss_ul_xy = t_1ss * (0, 0)\n",
    "    # col, row in value_3ss\n",
    "    t_3ss_ul_cr = floor_int(~t_3ss * (t_1ss_ul_xy))\n",
    "    # lon, lat of that pixel - this is our new top left\n",
    "    footprint_ul_xy_3ss = t_3ss * t_3ss_ul_cr\n",
    "    # col, row in flood_1ss\n",
    "    t_1ss_ul_cr = floor_int(~t_1ss * footprint_ul_xy_3ss)\n",
    "\n",
    "    # lon, lat of that 1ss pixel - new top left for 1ss purposes (tiny bit offset)\n",
    "    ul_xy_1ss = t_1ss * t_1ss_ul_cr\n",
    "\n",
    "    # clip to match coarser array extent\n",
    "    data_1ss_clipped = clip_array(data_1ss, 3)\n",
    "    data_1ss_height, data_1ss_width = data_1ss_clipped.shape\n",
    "\n",
    "    # lon, lat of footprint lower right\n",
    "    t_1ss_lr_xy = t_1ss * (data_1ss_width, data_1ss_height)\n",
    "    # col, row in value_3ss\n",
    "    t_3ss_lr_cr = floor_int(~t_3ss * (t_1ss_lr_xy))\n",
    "\n",
    "    ulc, ulr = t_3ss_ul_cr\n",
    "    lrc, lrr = t_3ss_lr_cr\n",
    "\n",
    "    data_3ss_clipped = data_3ss[ulr:lrr, ulc:lrc]\n",
    "    data_3ss_as_1ss = repeat_2d(data_3ss_clipped, 3) / 9\n",
    "\n",
    "    # Adapt transform to new top-left and resolution\n",
    "    a, b, _, d, e, _ = t_1ss[:6]\n",
    "    t_1ss_clipped = Affine(a, b, ul_xy_1ss[0], d, e, ul_xy_1ss[1])\n",
    "\n",
    "    return data_1ss_clipped, data_3ss_as_1ss, t_1ss_clipped\n",
    "\n",
    "\n",
    "def calculate_damage_val(flood_1ss, t_1ss, val_3ss, t_3ss, damage_curve):\n",
    "    flood_1ss_clipped, val_1ss, t_1ss_clipped = clip_rescale_1ss_3ss(\n",
    "        t_1ss, t_3ss, flood_1ss, val_3ss\n",
    "    )\n",
    "\n",
    "    if val_1ss.shape != flood_1ss_clipped.shape:\n",
    "        print(\"CHKS\", val_1ss.shape, flood_1ss_clipped.shape)\n",
    "        assert False\n",
    "\n",
    "    damage_fraction_1ss = damage_curve.damage_fraction(flood_1ss_clipped)\n",
    "    damage_value_1ss = val_1ss * damage_fraction_1ss\n",
    "    return damage_value_1ss, t_1ss_clipped\n",
    "\n",
    "\n",
    "rr_dmg_val_1ss, t_1ss_clipped = calculate_damage_val(\n",
    "    flood_1ss,\n",
    "    flood_1ss_ds.transform,\n",
    "    rr_val_3ss,\n",
    "    rr_val_3ss_ds.transform,\n",
    "    rr_damage_curve,\n",
    ")\n",
    "nr_dmg_val_1ss, t_1ss_clipped = calculate_damage_val(\n",
    "    flood_1ss,\n",
    "    flood_1ss_ds.transform,\n",
    "    nr_val_3ss,\n",
    "    nr_val_3ss_ds.transform,\n",
    "    nr_damage_curve,\n",
    ")"
   ]
  },
  {
   "cell_type": "code",
   "execution_count": null,
   "metadata": {},
   "outputs": [],
   "source": [
    "write_ds(rr_dmg_val_1ss_tif, rr_dmg_val_1ss, t_1ss_clipped)\n",
    "write_ds(nr_dmg_val_1ss_tif, nr_dmg_val_1ss, t_1ss_clipped)"
   ]
  },
  {
   "cell_type": "code",
   "execution_count": null,
   "metadata": {},
   "outputs": [],
   "source": [
    "(\n",
    "    rr_dmg_val_1ss.sum() / 1e9,\n",
    "    nr_dmg_val_1ss.sum() / 1e9,\n",
    ")"
   ]
  },
  {
   "cell_type": "code",
   "execution_count": null,
   "metadata": {},
   "outputs": [],
   "source": [
    "rr_val_3ss.sum() / 1e9, nr_val_3ss.sum() / 1e9"
   ]
  },
  {
   "cell_type": "markdown",
   "metadata": {},
   "source": [
    "# GVA downscaling"
   ]
  },
  {
   "cell_type": "code",
   "execution_count": null,
   "metadata": {},
   "outputs": [],
   "source": [
    "\"\"\"\n",
    "ADM1 damage values:\n",
    "\n",
    "    exactextract \\\n",
    "        -p ../../admin-boundaries/tha_adm1.shp \\\n",
    "        -r dmg_val_1ss.tif \\\n",
    "        -f GID_1 \\\n",
    "        -s sum \\\n",
    "        -o dmg_val_1ss.csv\n",
    "\n",
    "ADM1 total built volume:\n",
    "\n",
    "    exactextract \\\n",
    "        -p ../../admin-boundaries/tha_adm1.shp \\\n",
    "        -r ../../ghsl/THA/GHS_BUILT_V_E2020_GLOBE_R2023A_4326_3ss_V1_0__THA.tif \\\n",
    "        -f GID_1 \\\n",
    "        -s sum \\\n",
    "        -o ghs_built_v_3ss.csv\n",
    "\"\"\""
   ]
  },
  {
   "cell_type": "code",
   "execution_count": null,
   "metadata": {},
   "outputs": [],
   "source": [
    "adm1_vol = pandas.read_csv(\"input/giri/THA/ghs_built_v_3ss.csv\").rename(\n",
    "    columns={\"sum\": \"built_volume\"}\n",
    ")"
   ]
  },
  {
   "cell_type": "code",
   "execution_count": null,
   "metadata": {},
   "outputs": [],
   "source": [
    "adm1 = geopandas.read_file(\"input/admin-boundaries/tha_adm1.shp\").merge(\n",
    "    adm1_vol, on=\"GID_1\"\n",
    ")[[\"GID_1\", \"NAME_1\", \"built_volume\", \"geometry\"]]"
   ]
  },
  {
   "cell_type": "code",
   "execution_count": null,
   "metadata": {},
   "outputs": [],
   "source": [
    "with rasterio.open(\n",
    "    \"input/ghsl/THA/GHS_BUILT_V_E2020_GLOBE_R2023A_4326_3ss_V1_0__THA.tif\"\n",
    ") as vol_3ss_ds:\n",
    "    vol_3ss = vol_3ss_ds.read(1)"
   ]
  },
  {
   "cell_type": "code",
   "execution_count": null,
   "metadata": {},
   "outputs": [],
   "source": [
    "vol_adm1_3ss = rasterize(adm1, \"built_volume\", vol_3ss_ds)"
   ]
  },
  {
   "cell_type": "code",
   "execution_count": null,
   "metadata": {},
   "outputs": [],
   "source": [
    "plt.imshow(vol_adm1_3ss)"
   ]
  },
  {
   "cell_type": "code",
   "execution_count": null,
   "metadata": {},
   "outputs": [],
   "source": [
    "adm1_gva = pandas.read_csv(\n",
    "    \"/data/incoming/wenz-2023-dose-reported-subnational-output/DOSE_V2_THA.csv\"\n",
    ")\n",
    "adm1_gva[\"ag_grp\"] = adm1_gva[\"pop\"] * adm1_gva.ag_grp_pc_usd\n",
    "adm1_gva[\"man_grp\"] = adm1_gva[\"pop\"] * adm1_gva.man_grp_pc_usd\n",
    "adm1_gva[\"serv_grp\"] = adm1_gva[\"pop\"] * adm1_gva.serv_grp_pc_usd\n",
    "\n",
    "adm1_gva = geopandas.read_file(\"input/admin-boundaries/tha_adm1.shp\").merge(\n",
    "    adm1_gva, on=\"GID_1\"\n",
    ")[[\"GID_1\", \"NAME_1\", \"ag_grp\", \"man_grp\", \"serv_grp\", \"geometry\"]]"
   ]
  },
  {
   "cell_type": "code",
   "execution_count": null,
   "metadata": {},
   "outputs": [],
   "source": [
    "adm1_gva.drop(columns=\"geometry\").to_csv(\"input/giri/THA/DOSE_V2_THA_rgva.csv\")\n",
    "adm1_gva.to_file(\"input/giri/THA/DOSE_V2_THA_rgva.gpkg\", driver=\"GPKG\")"
   ]
  },
  {
   "cell_type": "code",
   "execution_count": null,
   "metadata": {},
   "outputs": [],
   "source": [
    "adm1_gva_ag_3ss = rasterize(adm1_gva, \"ag_grp\", vol_3ss_ds)\n",
    "adm1_gva_man_3ss = rasterize(adm1_gva, \"man_grp\", vol_3ss_ds)\n",
    "adm1_gva_serv_3ss = rasterize(adm1_gva, \"serv_grp\", vol_3ss_ds)"
   ]
  },
  {
   "cell_type": "code",
   "execution_count": null,
   "metadata": {},
   "outputs": [],
   "source": [
    "gva_ag_3ss = zero_divide(vol_3ss, vol_adm1_3ss) * adm1_gva_ag_3ss\n",
    "gva_man_3ss = zero_divide(vol_3ss, vol_adm1_3ss) * adm1_gva_man_3ss\n",
    "gva_serv_3ss = zero_divide(vol_3ss, vol_adm1_3ss) * adm1_gva_serv_3ss"
   ]
  },
  {
   "cell_type": "code",
   "execution_count": null,
   "metadata": {},
   "outputs": [],
   "source": [
    "write_ds(\"input/giri/THA/gva_ag_3ss.tif\", gva_ag_3ss, vol_3ss_ds.transform)\n",
    "write_ds(\"input/giri/THA/gva_man_3ss.tif\", gva_man_3ss, vol_3ss_ds.transform)\n",
    "write_ds(\"input/giri/THA/gva_serv_3ss.tif\", gva_serv_3ss, vol_3ss_ds.transform)"
   ]
  },
  {
   "cell_type": "code",
   "execution_count": null,
   "metadata": {},
   "outputs": [],
   "source": [
    "gva_ag_1ss = repeat_2d(gva_ag_3ss, 3) / 9\n",
    "gva_man_1ss = repeat_2d(gva_man_3ss, 3) / 9\n",
    "gva_serv_1ss = repeat_2d(gva_serv_3ss, 3) / 9"
   ]
  },
  {
   "cell_type": "code",
   "execution_count": null,
   "metadata": {},
   "outputs": [],
   "source": [
    "# TODO figure out transform, check we're on the right grid, write out to files\n",
    "# TODO compare with damage fraction, write out interruption\n",
    "# TODO calculate per day, sum back to zonal stats\n",
    "# TODO check totals (re-aggregate after disaggregation) maybe rescale???"
   ]
  },
  {
   "cell_type": "code",
   "execution_count": null,
   "metadata": {},
   "outputs": [],
   "source": [
    "a, b, c, d, e, f = vol_3ss_ds.transform[:6]\n",
    "gva_t_1ss = Affine(a / 3, b, c, d, e / 3, f)\n",
    "gva_t_1ss"
   ]
  },
  {
   "cell_type": "code",
   "execution_count": null,
   "metadata": {},
   "outputs": [],
   "source": [
    "write_ds(\"input/giri/THA/gva_ag_1ss.tif\", gva_ag_1ss, gva_t_1ss)\n",
    "write_ds(\"input/giri/THA/gva_man_1ss.tif\", gva_man_1ss, gva_t_1ss)\n",
    "write_ds(\"input/giri/THA/gva_serv_1ss.tif\", gva_serv_1ss, gva_t_1ss)"
   ]
  },
  {
   "cell_type": "code",
   "execution_count": null,
   "metadata": {},
   "outputs": [],
   "source": [
    "\"\"\"\n",
    "gdalwarp -te 99.2393056 13.2781945 101.5259723 17.6765279 gva_man_1ss.tif gva_man_1ss_clipped.tif\n",
    "gdal_calc.py -A nres_dmg_frac_1ss.tif -B gva_man_1ss_clipped.tif --outfile=disruption_man_1ss.tif --calc=\"(A>0.1)*B\"\n",
    "\n",
    "\n",
    "gdalwarp -te 99.2393056 13.2781945 101.5259723 17.6765279 gva_ag_1ss.tif gva_ag_1ss_clipped.tif\n",
    "gdal_calc.py -A nres_dmg_frac_1ss.tif -B gva_ag_1ss_clipped.tif --outfile=disruption_ag_1ss.tif --calc=\"(A>0.1)*B\"\n",
    "\n",
    "\n",
    "gdalwarp -te 99.2393056 13.2781945 101.5259723 17.6765279 gva_serv_1ss.tif gva_serv_1ss_clipped.tif\n",
    "gdal_calc.py -A nres_dmg_frac_1ss.tif -B gva_serv_1ss_clipped.tif --outfile=disruption_serv_1ss.tif --calc=\"(A>0.1)*B\"\n",
    "\n",
    "\n",
    "for sector in serv ag man\n",
    "    exactextract \\\n",
    "        -p ../../admin-boundaries/tha_adm1.shp \\\n",
    "        -r disruption_{$sector}_1ss.tif \\\n",
    "        -f GID_1 \\\n",
    "        -s sum \\\n",
    "        -o disruption_{$sector}_1ss.csv\n",
    "end\n",
    "\"\"\""
   ]
  },
  {
   "cell_type": "code",
   "execution_count": null,
   "metadata": {},
   "outputs": [],
   "source": [
    "\"\"\"\n",
    "gdalwarp -te 99.2393056 13.2781945 101.5259723 17.6765279  ../../footprints/JBA/Raster/TH_FLRF_ChaoPhraya2011_RD_01.tif ../../footprints/JBA/Raster/TH_FLRF_ChaoPhraya2011_RD_01_clipped.tif\n",
    "for sector in serv ag man\n",
    "    gdal_calc.py \\\n",
    "        -A ../../footprints/JBA/Raster/TH_FLRF_ChaoPhraya2011_RD_01_clipped.tif \\\n",
    "        -B gva_{$sector}_1ss_clipped.tif \\\n",
    "        --outfile=disruption_0.3m_{$sector}_1ss.tif \\\n",
    "        --calc=\"(A>0.3)*B\"\n",
    "    exactextract \\\n",
    "        -p ../../admin-boundaries/tha_adm1.shp \\\n",
    "        -r disruption_0.3m_{$sector}_1ss.tif \\\n",
    "        -f GID_1 \\\n",
    "        -s sum \\\n",
    "        -o disruption_0.3m_{$sector}_1ss.csv\n",
    "end\n",
    "\n",
    "for sector in serv ag man\n",
    "    gdal_calc.py \\\n",
    "        -A nres_dmg_frac_1ss.tif \\\n",
    "        -B gva_{$sector}_1ss_clipped.tif \\\n",
    "        --outfile=disruption_dmg_{$sector}_1ss.tif \\\n",
    "        --calc=\"A*B\"\n",
    "    exactextract \\\n",
    "        -p ../../admin-boundaries/tha_adm1.shp \\\n",
    "        -r disruption_dmg_{$sector}_1ss.tif \\\n",
    "        -f GID_1 \\\n",
    "        -s sum \\\n",
    "        -o disruption_dmg_{$sector}_1ss.csv\n",
    "end\n",
    "\"\"\""
   ]
  }
 ],
 "metadata": {
  "kernelspec": {
   "display_name": "Python 3",
   "language": "python",
   "name": "python3"
  },
  "language_info": {
   "codemirror_mode": {
    "name": "ipython",
    "version": 3
   },
   "file_extension": ".py",
   "mimetype": "text/x-python",
   "name": "python",
   "nbconvert_exporter": "python",
   "pygments_lexer": "ipython3",
   "version": "3.10.13"
  }
 },
 "nbformat": 4,
 "nbformat_minor": 2
}
