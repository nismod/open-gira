{
 "cells": [
  {
   "cell_type": "code",
   "execution_count": null,
   "metadata": {},
   "outputs": [],
   "source": [
    "import pandas\n",
    "import matplotlib.pyplot as plt\n",
    "from snail.damages import PiecewiseLinearDamageCurve"
   ]
  },
  {
   "cell_type": "code",
   "execution_count": null,
   "metadata": {},
   "outputs": [],
   "source": [
    "res = PiecewiseLinearDamageCurve.from_csv(\n",
    "    \"../bundled_data/damage_curves/flood/residential_asia.csv\",\n",
    "    intensity_col=\"inundation_depth_(m)\",\n",
    "    damage_col=\"damage_fraction\",\n",
    ")"
   ]
  },
  {
   "cell_type": "code",
   "execution_count": null,
   "metadata": {},
   "outputs": [],
   "source": [
    "nres = PiecewiseLinearDamageCurve.from_csv(\n",
    "    \"../bundled_data/damage_curves/flood/commercial_asia.csv\",\n",
    "    intensity_col=\"inundation_depth_(m)\",\n",
    "    damage_col=\"damage_fraction\",\n",
    ")"
   ]
  },
  {
   "cell_type": "code",
   "execution_count": null,
   "metadata": {},
   "outputs": [],
   "source": [
    "nres.damage_fraction(0.15)"
   ]
  },
  {
   "cell_type": "code",
   "execution_count": null,
   "metadata": {},
   "outputs": [],
   "source": [
    "fig, ax = plt.subplots()\n",
    "df = pandas.DataFrame(\n",
    "    {\n",
    "        \"depth\": nres.intensity,\n",
    "        \"Residential (3-2)\": res.damage,\n",
    "        \"Commercial (3-6)\": nres.damage,\n",
    "    }\n",
    ").set_index(\"depth\")\n",
    "df.plot(ax=ax)\n",
    "ax.set_ylabel(\"Damage Fraction\")\n",
    "ax.set_xlabel(\"Inundation Depth (m)\")\n",
    "ax.set_title(\n",
    "    \"\"\"Average continental damage functions for flooding\n",
    "of buildings in Asia, Huizinga et al. (2017)\"\"\"\n",
    ")"
   ]
  },
  {
   "cell_type": "code",
   "execution_count": null,
   "metadata": {},
   "outputs": [],
   "source": [
    "fig.savefig(\"../bundled_data/damage_curves/asia-buildings.png\")"
   ]
  },
  {
   "cell_type": "code",
   "execution_count": null,
   "metadata": {},
   "outputs": [],
   "source": [
    "paved = PiecewiseLinearDamageCurve.from_csv(\n",
    "    \"../bundled_data/damage_curves/flood/road_paved.csv\",\n",
    "    intensity_col=\"inundation_depth_(m)\",\n",
    "    damage_col=\"central\",\n",
    ")\n",
    "lower = PiecewiseLinearDamageCurve.from_csv(\n",
    "    \"../bundled_data/damage_curves/flood/road_paved.csv\",\n",
    "    intensity_col=\"inundation_depth_(m)\",\n",
    "    damage_col=\"damage_fraction\",\n",
    ")\n",
    "upper = PiecewiseLinearDamageCurve.from_csv(\n",
    "    \"../bundled_data/damage_curves/flood/road_paved.csv\",\n",
    "    intensity_col=\"inundation_depth_(m)\",\n",
    "    damage_col=\"upper\",\n",
    ")\n",
    "motorway = PiecewiseLinearDamageCurve.from_csv(\n",
    "    \"../bundled_data/damage_curves/flood/road_motorway.csv\",\n",
    "    intensity_col=\"inundation_depth_(m)\",\n",
    "    damage_col=\"damage_fraction\",\n",
    ")\n",
    "motorway_high = PiecewiseLinearDamageCurve.from_csv(\n",
    "    \"../bundled_data/damage_curves/flood/road_motorway.csv\",\n",
    "    intensity_col=\"inundation_depth_(m)\",\n",
    "    damage_col=\"high flow\",\n",
    ")\n",
    "rail_a = PiecewiseLinearDamageCurve.from_csv(\n",
    "    \"../bundled_data/damage_curves/flood/rail_railway.csv\",\n",
    "    intensity_col=\"inundation_depth_(m)\",\n",
    "    damage_col=\"damage_fraction\",\n",
    ")\n",
    "rail_b = PiecewiseLinearDamageCurve.from_csv(\n",
    "    \"../bundled_data/damage_curves/flood/rail_railway.csv\",\n",
    "    intensity_col=\"inundation_depth_(m)\",\n",
    "    damage_col=\"high\",\n",
    ")"
   ]
  },
  {
   "cell_type": "code",
   "execution_count": null,
   "metadata": {},
   "outputs": [],
   "source": [
    "fig, ax = plt.subplots()\n",
    "df = pandas.DataFrame(\n",
    "    {\n",
    "        \"depth\": paved.intensity,\n",
    "        \"Roads (F7.2a)\": lower.damage,\n",
    "        \"Roads (F7.2b)\": upper.damage,\n",
    "        \"Trunk roads (F7.4)\": motorway.damage,\n",
    "        \"Trunk roads (F7.5)\": motorway_high.damage,\n",
    "    }\n",
    ").set_index(\"depth\")\n",
    "df.plot(ax=ax)\n",
    "ax.set_ylabel(\"Damage Fraction\")\n",
    "ax.set_xlabel(\"Inundation Depth (m)\")\n",
    "ax.set_title(\n",
    "    \"\"\"Continental damage functions for flooding\n",
    "of roads in Asia, Huizinga et al. (2017)\"\"\"\n",
    ")\n",
    "fig.savefig(\"../bundled_data/damage_curves/asia-road.png\")"
   ]
  },
  {
   "cell_type": "code",
   "execution_count": null,
   "metadata": {},
   "outputs": [],
   "source": [
    "fig, ax = plt.subplots()\n",
    "df = pandas.DataFrame(\n",
    "    {\n",
    "        \"depth\": paved.intensity,\n",
    "        \"Rail (F8.6a)\": rail_a.damage,\n",
    "        \"Rail (F8.6b)\": rail_b.damage,\n",
    "    }\n",
    ").set_index(\"depth\")\n",
    "df.plot(ax=ax)\n",
    "ax.set_ylabel(\"Damage Fraction\")\n",
    "ax.set_xlabel(\"Inundation Depth (m)\")\n",
    "ax.set_title(\n",
    "    \"\"\"Continental damage functions for flooding\n",
    "of rail in Asia, Huizinga et al. (2017)\"\"\"\n",
    ")\n",
    "fig.savefig(\"../bundled_data/damage_curves/asia-rail.png\")"
   ]
  }
 ],
 "metadata": {
  "kernelspec": {
   "display_name": "Python 3",
   "language": "python",
   "name": "python3"
  },
  "language_info": {
   "codemirror_mode": {
    "name": "ipython",
    "version": 3
   },
   "file_extension": ".py",
   "mimetype": "text/x-python",
   "name": "python",
   "nbconvert_exporter": "python",
   "pygments_lexer": "ipython3",
   "version": "3.10.13"
  }
 },
 "nbformat": 4,
 "nbformat_minor": 2
}
