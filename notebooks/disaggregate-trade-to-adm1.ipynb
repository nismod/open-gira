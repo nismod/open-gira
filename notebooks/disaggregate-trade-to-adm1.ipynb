{
 "cells": [
  {
   "cell_type": "code",
   "execution_count": null,
   "id": "0",
   "metadata": {},
   "outputs": [],
   "source": [
    "from pathlib import Path\n",
    "base_dir = Path(\"../results/input/giri/THA/trade\")"
   ]
  },
  {
   "cell_type": "code",
   "execution_count": null,
   "id": "1",
   "metadata": {},
   "outputs": [],
   "source": [
    "! ls -lah {base_dir}"
   ]
  },
  {
   "cell_type": "code",
   "execution_count": null,
   "id": "2",
   "metadata": {},
   "outputs": [],
   "source": [
    "import pandas"
   ]
  },
  {
   "cell_type": "code",
   "execution_count": null,
   "id": "3",
   "metadata": {},
   "outputs": [],
   "source": [
    "trade_adm0 = pandas.read_csv(base_dir / \"baci_sector_trade_THA.csv\")\n",
    "trade_adm0[\"GID_0\"] = \"THA\""
   ]
  },
  {
   "cell_type": "code",
   "execution_count": null,
   "id": "4",
   "metadata": {},
   "outputs": [],
   "source": [
    "trade_adm0.groupby(\"sector\").count()"
   ]
  },
  {
   "cell_type": "code",
   "execution_count": null,
   "id": "5",
   "metadata": {},
   "outputs": [],
   "source": [
    "adm0_codes = sorted(list(set(trade_adm0.export_country_code) | set(trade_adm0.import_country_code)))"
   ]
  },
  {
   "cell_type": "code",
   "execution_count": null,
   "id": "6",
   "metadata": {},
   "outputs": [],
   "source": [
    "gva_adm1_all = pandas.read_csv(base_dir / \"DOSE_V2.csv\")\n",
    "gva_adm1 = gva_adm1_all.query(f'year == 2018 and GID_0 in {adm0_codes}')[[\n",
    "    'GID_0', 'GID_1', 'year', 'pop',\n",
    "    'ag_grp_pc_usd', 'man_grp_pc_usd', 'serv_grp_pc_usd'\n",
    "]].dropna()\n",
    "\n",
    "for sector in (\"ag\", \"man\", \"serv\"):\n",
    "    gva_adm1[sector] = gva_adm1[\"pop\"] * gva_adm1[f\"{sector}_grp_pc_usd\"]"
   ]
  },
  {
   "cell_type": "code",
   "execution_count": null,
   "id": "7",
   "metadata": {},
   "outputs": [],
   "source": [
    "len(set(adm0_codes) - set(gva_adm1.GID_0.unique())), len(gva_adm1.GID_0.unique()), len(adm0_codes)"
   ]
  },
  {
   "cell_type": "code",
   "execution_count": null,
   "id": "8",
   "metadata": {},
   "outputs": [],
   "source": [
    "gva_adm1_all[['GID_0','country','year']].groupby(\"GID_0\").max()"
   ]
  },
  {
   "cell_type": "code",
   "execution_count": null,
   "id": "9",
   "metadata": {},
   "outputs": [],
   "source": [
    "wenz_codes = set(gva_adm1.GID_0.unique())\n",
    "adm_codes_df = pandas.DataFrame({'GID_0': adm0_codes})\n",
    "adm_codes_df['ADM1_available_in_wenz'] = adm_codes_df.GID_0.isin(wenz_codes)\n",
    "adm_codes_df.to_csv(base_dir / \"gdp_adm1_availability_for_THA_trade_partners.csv\", index=False)"
   ]
  },
  {
   "cell_type": "code",
   "execution_count": null,
   "id": "10",
   "metadata": {},
   "outputs": [],
   "source": [
    "gva_adm1.head(2)"
   ]
  },
  {
   "cell_type": "code",
   "execution_count": null,
   "id": "11",
   "metadata": {},
   "outputs": [],
   "source": [
    "\n",
    "gva_adm1_sector_tha = gva_adm1.drop(columns=[\"GID_0\", \"year\", \"pop\", 'ag_grp_pc_usd', 'man_grp_pc_usd', 'serv_grp_pc_usd']) \\\n",
    "    .set_index(\"GID_1\")\n",
    "\n",
    "# TODO\n",
    "# population-weighted (even gdp pc) for gap-filling\n",
    "# downscale partner O/Ds to ADM1\n",
    "# find weighted centroid to use as representative node\n",
    "# global ADM1 land routing grid\n",
    "# TODO\n",
    "\n",
    "gva_proportion_adm1_sector = (gva_adm1_sector_tha / gva_adm1_sector_tha.sum()).rename(columns={\"serv\":\"ser\"}) \\\n",
    "    .reset_index().melt(id_vars=\"GID_1\", var_name=\"sector\", value_name=\"proportion\")\n",
    "gva_proportion_adm1_sector[\"GID_0\"] = \"THA\"\n",
    "gva_proportion_adm1_sector.shape"
   ]
  },
  {
   "cell_type": "code",
   "execution_count": null,
   "id": "12",
   "metadata": {},
   "outputs": [],
   "source": [
    "trade_adm1 = trade_adm0.merge(gva_proportion_adm1_sector, left_on=(\"GID_0\", \"sector\"), right_on=(\"GID_0\", \"sector\"), how=\"outer\")\n",
    "trade_adm1.trade_value_thousandUSD *= trade_adm1.proportion\n",
    "trade_adm1.trade_quantity_tons *= trade_adm1.proportion\n",
    "trade_adm1 = trade_adm1.drop(columns=[\"GID_0\", \"proportion\"])\n",
    "\n",
    "imports_adm1 = trade_adm1.query('import_country_code == \"THA\"').copy()\n",
    "imports_adm1['export_zone'] = imports_adm1.export_country_code\n",
    "imports_adm1['import_zone'] = imports_adm1.GID_1\n",
    "imports_adm1['partner_GID_0'] = imports_adm1.export_country_code\n",
    "\n",
    "exports_adm1 = trade_adm1.query('export_country_code == \"THA\"').copy()\n",
    "exports_adm1['export_zone'] = exports_adm1.GID_1\n",
    "exports_adm1['import_zone'] = exports_adm1.import_country_code\n",
    "exports_adm1['partner_GID_0'] = exports_adm1.import_country_code\n",
    "\n",
    "trade_adm1 = pandas.concat([exports_adm1, imports_adm1]).rename(columns={\"GID_1\": \"THA_GID_1\"})[[\n",
    "    'export_country_code',\n",
    "    'export_zone',\n",
    "    'import_country_code',\n",
    "    'import_zone',\n",
    "    'THA_GID_1',\n",
    "    'partner_GID_0',\n",
    "    'sector',\n",
    "    'trade_value_thousandUSD',\n",
    "    'trade_quantity_tons',\n",
    "]]"
   ]
  },
  {
   "cell_type": "code",
   "execution_count": null,
   "id": "13",
   "metadata": {},
   "outputs": [],
   "source": [
    "trade_adm1.to_csv(\"baci_sector_adm1_trade_THA.csv\", index=False)\n",
    "trade_adm1.head(2)"
   ]
  },
  {
   "cell_type": "code",
   "execution_count": null,
   "id": "14",
   "metadata": {},
   "outputs": [],
   "source": [
    "trade_adm1_total = trade_adm1.drop(columns=['export_country_code','export_zone','import_country_code','import_zone','sector']) \\\n",
    "    .groupby(['THA_GID_1','partner_GID_0']) \\\n",
    "    .sum()\n",
    "trade_adm1_total.to_csv(\"baci_total_adm1_trade_THA.csv\")\n",
    "trade_adm1_total.head(2)"
   ]
  }
 ],
 "metadata": {
  "kernelspec": {
   "display_name": "Python 3 (ipykernel)",
   "language": "python",
   "name": "python3"
  },
  "language_info": {
   "codemirror_mode": {
    "name": "ipython",
    "version": 3
   },
   "file_extension": ".py",
   "mimetype": "text/x-python",
   "name": "python",
   "nbconvert_exporter": "python",
   "pygments_lexer": "ipython3",
   "version": "3.10.13"
  }
 },
 "nbformat": 4,
 "nbformat_minor": 5
}
