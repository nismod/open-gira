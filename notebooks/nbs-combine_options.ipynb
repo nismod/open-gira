{
 "cells": [
  {
   "cell_type": "code",
   "execution_count": null,
   "metadata": {},
   "outputs": [],
   "source": [
    "from pathlib import Path\n",
    "\n",
    "import geopandas\n",
    "import numpy\n",
    "import pandas\n",
    "from tqdm.auto import tqdm"
   ]
  },
  {
   "cell_type": "code",
   "execution_count": null,
   "metadata": {},
   "outputs": [],
   "source": [
    "working_dir = Path(\"/home/mert2014/projects/bhutan-demo\")\n",
    "results_dir = Path(\"/home/mert2014/projects/infra-risk-vis/global/etl/raw_data/nbs-adaptation/\")"
   ]
  },
  {
   "cell_type": "code",
   "execution_count": null,
   "metadata": {},
   "outputs": [],
   "source": [
    "adm_meta = pandas.read_csv(Path().parent / \"boundaries-meta\" / \"gadm36_ne.csv\")"
   ]
  },
  {
   "cell_type": "code",
   "execution_count": null,
   "metadata": {},
   "outputs": [],
   "source": [
    "list((Path().absolute().parent / \"results\" / \"input\" / \"hydrobasins\").glob(\"*csv\"))"
   ]
  },
  {
   "cell_type": "code",
   "execution_count": null,
   "metadata": {},
   "outputs": [],
   "source": [
    "hybas_meta = pandas.read_csv(Path().absolute().parent / \"results\" / \"input\" / \"hydrobasins\" / \"hybas_lev12_v1c_with_gadm_codes_pop.csv\").set_index(\"GID_0\")\n",
    "hybas_meta.head(1)"
   ]
  },
  {
   "cell_type": "code",
   "execution_count": null,
   "metadata": {},
   "outputs": [],
   "source": [
    "iso_name_lookup = adm_meta.set_index(\"ISO_A3\")"
   ]
  },
  {
   "cell_type": "code",
   "execution_count": null,
   "metadata": {},
   "outputs": [],
   "source": [
    "iso_name_lookup.loc[\"HKG\"]"
   ]
  },
  {
   "cell_type": "code",
   "execution_count": null,
   "metadata": {},
   "outputs": [],
   "source": [
    "# input data is available as GPKG files\n",
    "# created by the ETL processing script at\n",
    "# https://github.com/nismod/infra-risk-vis/blob/2cf1dcf6713ba1d71944dd9efb6a68d9bf4d6a29/etl/pipelines/nbs-adaptation/extract-nbs-adaptation-opportunities.ipynb\n",
    "# dataset published at\n",
    "# Harwood, T., & Russell, T. (2025). Global opportunity areas for nature-based solutions to reduce risks to infrastructure [Data set].\n",
    "# Zenodo. https://doi.org/10.5281/zenodo.15001764\n",
    "\n",
    "ls_all = geopandas.read_file(results_dir / \"landslide_slope_vegetation_with_EAD_grouped_gt0.gpkg\", engine=\"pyogrio\")\n",
    "mg_all = geopandas.read_file(results_dir / \"mangrove_with_EAD_grouped_gt0.gpkg\", engine=\"pyogrio\")\n",
    "rf_all = geopandas.read_file(results_dir / \"river_basin_afforestation_with_EAD_grouped_gt0.gpkg\", engine=\"pyogrio\").reset_index()"
   ]
  },
  {
   "cell_type": "code",
   "execution_count": null,
   "metadata": {},
   "outputs": [],
   "source": [
    "iso_codes = set(ls_all.GID_0.dropna().unique()) | set(mg_all.GID_0.dropna().unique()) | set(rf_all.GID_0.dropna().unique())\n",
    "len(iso_codes)"
   ]
  },
  {
   "cell_type": "code",
   "execution_count": null,
   "metadata": {},
   "outputs": [],
   "source": [
    "rf_all.columns, rf_all.index.name"
   ]
  },
  {
   "cell_type": "code",
   "execution_count": null,
   "metadata": {},
   "outputs": [],
   "source": [
    "ls_all.columns, ls_all.index.name"
   ]
  },
  {
   "cell_type": "code",
   "execution_count": null,
   "metadata": {},
   "outputs": [],
   "source": [
    "mg_all.columns, mg_all.index.name"
   ]
  },
  {
   "cell_type": "code",
   "execution_count": null,
   "metadata": {},
   "outputs": [],
   "source": [
    "def extract_options(iso, country_name, mg_all, rf_all, ls_all, include_geometry=False, ead_min=0.99):\n",
    "    dfs = []\n",
    "    config = [\n",
    "        (mg_all, \"coastal-flooding\", \"mangroves\"),\n",
    "        (rf_all, \"river-flooding\", \"basin_scale_tree_planting\"),\n",
    "        (ls_all, \"landslide\", \"slope_vegetation\"),\n",
    "    ]\n",
    "    for df_all, hazard, planting_type in config:\n",
    "        if iso is not None:\n",
    "            df = df_all.query(f\"GID_0 == '{iso}'\").copy()\n",
    "        else:\n",
    "            df = df_all\n",
    "\n",
    "        if not include_geometry:\n",
    "            df = df.drop(columns=\"geometry\")\n",
    "\n",
    "        df[\"country\"] = country_name\n",
    "        df[\"hazard_targeted\"] = hazard\n",
    "        df[\"planting_option\"] = planting_type\n",
    "        df.rename(columns={\n",
    "            colname: colname.replace(\"avoided_ead\", \"baseline_transport_ead_usd\")\n",
    "            for colname in df.columns\n",
    "            if \"avoided_ead\" in colname\n",
    "        }, inplace=True)\n",
    "        # combine landuse (for landslide/slope veg) and shoreline (for coastal flooding/mangrove) categories\n",
    "        df.rename(columns={\n",
    "            \"option_landuse\": \"classes\",\n",
    "            \"option_shoreline\": \"classes\",\n",
    "        }, inplace=True)\n",
    "        df[\"baseline_transport_ead_usd\"] = df[\"baseline_transport_ead_usd_hist_2020_mean\"].copy()\n",
    "        dfs.append(df)\n",
    "\n",
    "    df = pandas.concat(dfs)\n",
    "    df.fillna({\"classes\": \"\"}, inplace=True)\n",
    "\n",
    "    # filter on non-zero expected annual damage\n",
    "    df = df.query(f\"baseline_transport_ead_usd > {ead_min}\").copy()\n",
    "\n",
    "    # add local ID\n",
    "    df[\"opportunity_area_id\"] = numpy.arange(len(df)) + 1\n",
    "\n",
    "    # select columns in order for Excel\n",
    "    # note that we only select the baseline/historical/mean EAD value - there are more scenarios available in the\n",
    "    # data, but the Excel tool expects only a single estimate in its current state\n",
    "    select_columns = [\n",
    "        \"opportunity_area_id\",\n",
    "        \"HYBAS_ID\",\n",
    "        \"GID_0\",\n",
    "        \"country\",\n",
    "        \"GID_1\",\n",
    "        \"area_m2\",\n",
    "        \"area_ha\",\n",
    "        \"planting_cost_usd_per_ha\",\n",
    "        \"regen_cost_usd_per_ha\",\n",
    "        \"carbon_benefit_t_per_ha\",\n",
    "        \"baseline_transport_ead_usd\",\n",
    "        \"biodiversity_benefit\",\n",
    "        \"hazard_targeted\",\n",
    "        \"planting_option\",\n",
    "        \"classes\"\n",
    "    ]\n",
    "    if include_geometry:\n",
    "        select_columns.append(\"geometry\")\n",
    "    return df[select_columns]"
   ]
  },
  {
   "cell_type": "code",
   "execution_count": null,
   "metadata": {},
   "outputs": [],
   "source": [
    "for iso in tqdm(iso_codes):\n",
    "    iso_name = iso_name_lookup.loc[iso, \"NAME_LONG\"]\n",
    "    dirname = iso_name_lookup.loc[iso, \"CONTINENT\"]\n",
    "    df = extract_options(iso, iso_name, mg_all, rf_all, ls_all)\n",
    "    (working_dir / \"for_excel\" / dirname).mkdir(exist_ok=True)\n",
    "    df.to_csv(working_dir / \"for_excel\" / dirname / f\"nbs_hydrobasin_options__{iso}.csv\", index=False, float_format=\"%.6g\")\n",
    "\n",
    "    hybas_pop = hybas_meta[hybas_meta.HYBAS_ID.isin(df.HYBAS_ID.unique())]\n",
    "    assert len(hybas_pop) == len(df.HYBAS_ID.unique())\n",
    "    hybas_pop.to_csv(working_dir / \"for_excel\" / dirname / f\"nbs_hydrobasin_population__{iso}.csv\", index=False, float_format=\"%.6g\")"
   ]
  },
  {
   "cell_type": "code",
   "execution_count": null,
   "metadata": {},
   "outputs": [],
   "source": [
    "kenya = pandas.read_csv(working_dir / \"for_excel\" / \"Africa\" / f\"nbs_hydrobasin_options__KEN.csv\")"
   ]
  },
  {
   "cell_type": "code",
   "execution_count": null,
   "metadata": {},
   "outputs": [],
   "source": [
    "kenya[['planting_option', 'area_ha']].groupby('planting_option').agg(['sum','count']).round()"
   ]
  },
  {
   "cell_type": "markdown",
   "metadata": {},
   "source": [
    "## Regional versions"
   ]
  },
  {
   "cell_type": "code",
   "execution_count": null,
   "metadata": {},
   "outputs": [],
   "source": [
    "adm_meta"
   ]
  },
  {
   "cell_type": "code",
   "execution_count": null,
   "metadata": {},
   "outputs": [],
   "source": [
    "for region_wb, region_meta in adm_meta[adm_meta.ISO_A3.isin(iso_codes)].groupby(\"REGION_WB\"):\n",
    "    region_isos = list(region_meta.ISO_A3.dropna().unique())\n",
    "    region_slug = region_wb.lower().replace(\" \", \"-\").replace(\"&\", \"and\")\n",
    "    dfs = []\n",
    "    for iso in tqdm(region_isos, desc=region_slug):\n",
    "        df = extract_options(iso, \"\", mg_all, rf_all, ls_all)\n",
    "        dfs.append(df)\n",
    "    df = pandas.concat(dfs)\n",
    "    df.to_csv(working_dir / \"for_excel\" / f\"wb_region_nbs_hydrobasin_options__{region_slug}.csv\", index=False)\n"
   ]
  },
  {
   "cell_type": "code",
   "execution_count": null,
   "metadata": {},
   "outputs": [],
   "source": [
    "for region_wb, region_meta in adm_meta[adm_meta.ISO_A3.isin(iso_codes)].groupby(\"REGION_WB\"):\n",
    "    region_slug = region_wb.lower().replace(\" \", \"-\").replace(\"&\", \"and\")\n",
    "    df = pandas.read_csv(working_dir / \"for_excel\" / f\"wb_region_nbs_hydrobasin_options__{region_slug}.csv\")\n",
    "    print(f\"{(int(len(df) / 1000))}k {region_slug}\")"
   ]
  },
  {
   "cell_type": "code",
   "execution_count": null,
   "metadata": {},
   "outputs": [],
   "source": [
    "for subregion, region_meta in adm_meta[adm_meta.ISO_A3.isin(iso_codes)].groupby(\"SUBREGION\"):\n",
    "    region_isos = list(region_meta.ISO_A3.dropna().unique())\n",
    "    region_slug = subregion.lower().replace(\" \", \"-\").replace(\"&\", \"and\")\n",
    "    dfs = []\n",
    "    for iso in tqdm(region_isos, desc=region_slug):\n",
    "        df = extract_options(iso,\"\", mg_all, rf_all, ls_all)\n",
    "        dfs.append(df)\n",
    "    df = pandas.concat(dfs)\n",
    "    df.to_csv(working_dir / \"for_excel\" / f\"un_subregion_nbs_hydrobasin_options__{region_slug}.csv\", index=False)\n"
   ]
  },
  {
   "cell_type": "code",
   "execution_count": null,
   "metadata": {},
   "outputs": [],
   "source": [
    "for subregion, region_meta in adm_meta[adm_meta.ISO_A3.isin(iso_codes)].groupby(\"SUBREGION\"):\n",
    "    region_slug = subregion.lower().replace(\" \", \"-\").replace(\"&\", \"and\")\n",
    "    df = pandas.read_csv(working_dir / \"for_excel\" / f\"un_subregion_nbs_hydrobasin_options__{region_slug}.csv\")\n",
    "    print(f\"{(int(len(df) / 1000))}k {region_slug}\")"
   ]
  },
  {
   "cell_type": "code",
   "execution_count": null,
   "metadata": {},
   "outputs": [],
   "source": [
    "africa_adm_meta = adm_meta.loc[adm_meta.SUBREGION.str.contains(\"Africa\"), [\"ISO_A3\", \"COUNTRY\"]]\n",
    "africa_adm_meta.head()"
   ]
  },
  {
   "cell_type": "code",
   "execution_count": null,
   "metadata": {},
   "outputs": [],
   "source": [
    "all_options = extract_options(None, \"country_name\", mg_all, rf_all, ls_all, include_geometry=True, ead_min=-0.1).query('area_ha > 6.25')"
   ]
  },
  {
   "cell_type": "code",
   "execution_count": null,
   "metadata": {},
   "outputs": [],
   "source": [
    "africa_options = all_options[all_options.GID_0.isin(set(africa_adm_meta.ISO_A3.unique()))].copy()\n",
    "africa_options.classes = africa_options.classes.fillna('')"
   ]
  },
  {
   "cell_type": "code",
   "execution_count": null,
   "metadata": {},
   "outputs": [],
   "source": [
    "africa_options.iloc[0]"
   ]
  },
  {
   "cell_type": "code",
   "execution_count": null,
   "metadata": {},
   "outputs": [],
   "source": [
    "type(africa_options), africa_options.columns, africa_options.loc[0, \"geometry\"]"
   ]
  },
  {
   "cell_type": "code",
   "execution_count": null,
   "metadata": {},
   "outputs": [],
   "source": [
    "africa_options.baseline_transport_ead_usd.describe()"
   ]
  },
  {
   "cell_type": "code",
   "execution_count": null,
   "metadata": {},
   "outputs": [],
   "source": [
    "reduction_factors = pandas.read_csv(Path().absolute().parent /\"config\" / \"nbs_reduction_factors.csv\").fillna('')\n",
    "reduction_factors"
   ]
  },
  {
   "cell_type": "code",
   "execution_count": null,
   "metadata": {},
   "outputs": [],
   "source": [
    "africa_options = africa_options.merge(reduction_factors, on=['planting_option', 'classes'], how='left', validate='many_to_one')\n",
    "africa_options['avoided_damages_usd'] = africa_options.baseline_transport_ead_usd * africa_options.factor\n",
    "africa_options['cost_usd'] = africa_options.planting_cost_usd_per_ha * africa_options.area_ha\n",
    "africa_options['bcr'] = africa_options.avoided_damages_usd / africa_options.cost_usd"
   ]
  },
  {
   "cell_type": "code",
   "execution_count": null,
   "metadata": {},
   "outputs": [],
   "source": [
    "import matplotlib.pyplot as plt\n",
    "\n",
    "plt.figure(figsize=(8, 6))\n",
    "plt.scatter(africa_options.avoided_damages_usd, africa_options.bcr, alpha=0.3, s=2)\n",
    "plt.xscale('log')\n",
    "plt.yscale('log')\n",
    "plt.xlabel('Avoided Damages (USD, log scale)')\n",
    "plt.ylabel('Benefit-Cost Ratio (BCR, log scale)')\n",
    "plt.title('BCR vs Avoided Damages (log-log scale)')\n",
    "plt.grid(True, which=\"both\", ls=\"--\", linewidth=0.5)\n",
    "plt.show()"
   ]
  },
  {
   "cell_type": "code",
   "execution_count": null,
   "metadata": {},
   "outputs": [],
   "source": [
    "outliers = africa_options.query('bcr > 100').copy()\n",
    "outliers.geometry = outliers.geometry.centroid\n",
    "outliers.head()"
   ]
  },
  {
   "cell_type": "code",
   "execution_count": null,
   "metadata": {},
   "outputs": [],
   "source": [
    "by_hb = []\n",
    "for hb, group in africa_options.groupby(['HYBAS_ID', 'planting_option']):\n",
    "    by_hb.append(group.sort_values(by='bcr', ascending=False).head(1))\n",
    "africa_options_maxhb = pandas.concat(by_hb)\n",
    "africa_options_maxhb"
   ]
  },
  {
   "cell_type": "code",
   "execution_count": null,
   "metadata": {},
   "outputs": [],
   "source": [
    "tops = []\n",
    "for (iso, planting_option), group in africa_options_maxhb.groupby(['GID_0', 'planting_option']):\n",
    "    tops.append(group.sort_values(by='bcr', ascending=False).head(20))\n",
    "\n",
    "selection = pandas.concat(tops)\n",
    "selection"
   ]
  },
  {
   "cell_type": "code",
   "execution_count": null,
   "metadata": {},
   "outputs": [],
   "source": [
    "selection.to_file(working_dir / \"selection_6.25ha_top20-per-class.gpkg\")"
   ]
  },
  {
   "cell_type": "code",
   "execution_count": null,
   "metadata": {},
   "outputs": [],
   "source": [
    "selection_points = selection.copy()\n",
    "selection_points['geometry'] = selection_points.geometry.centroid\n",
    "selection_points.to_file(working_dir / \"selection_6.25ha_top20-per-class_points.gpkg\")"
   ]
  },
  {
   "cell_type": "code",
   "execution_count": null,
   "metadata": {},
   "outputs": [],
   "source": [
    "africa_options.to_file(working_dir / \"africa_options.gpkg\")"
   ]
  },
  {
   "cell_type": "code",
   "execution_count": null,
   "metadata": {},
   "outputs": [],
   "source": [
    "africa_options_points = africa_options.copy()\n",
    "africa_options_points['geometry'] = africa_options_points.geometry.centroid\n",
    "africa_options_points.to_file(working_dir / \"africa_options_points.gpkg\")"
   ]
  },
  {
   "cell_type": "code",
   "execution_count": null,
   "metadata": {},
   "outputs": [],
   "source": []
  }
 ],
 "metadata": {
  "kernelspec": {
   "display_name": "Python 3",
   "language": "python",
   "name": "python3"
  },
  "language_info": {
   "codemirror_mode": {
    "name": "ipython",
    "version": 3
   },
   "file_extension": ".py",
   "mimetype": "text/x-python",
   "name": "python",
   "nbconvert_exporter": "python",
   "pygments_lexer": "ipython3",
   "version": "3.12.9"
  }
 },
 "nbformat": 4,
 "nbformat_minor": 2
}
