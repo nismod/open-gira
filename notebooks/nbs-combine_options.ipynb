{
 "cells": [
  {
   "cell_type": "code",
   "execution_count": null,
   "metadata": {},
   "outputs": [],
   "source": [
    "from pathlib import Path\n",
    "import pandas"
   ]
  },
  {
   "cell_type": "code",
   "execution_count": null,
   "metadata": {},
   "outputs": [],
   "source": [
    "working_dir = Path(\"/home/mert2014/projects/bhutan-demo\")\n",
    "results_dir = Path(\"/mnt/linux-filestore/mert2014/projects/open-gira\")\n",
    "iso_codes = [\"BGD\", \"TZA\"]"
   ]
  },
  {
   "cell_type": "code",
   "execution_count": null,
   "metadata": {},
   "outputs": [],
   "source": [
    "dfs = []\n",
    "for iso in iso_codes:\n",
    "    dirname = working_dir / iso\n",
    "    csvs = [\n",
    "        (f\"{iso}_nbs_hydrobasin_options__coastal-flooding.csv\", \"coastal-flooding\", \"mangroves\"),\n",
    "        (f\"{iso}_nbs_hydrobasin_options__river-flooding.csv\", \"river-flooding\", \"basin_scale_tree_planting\"),\n",
    "        (f\"{iso}_nbs_hydrobasin_options__landslide.csv\", \"landslide\", \"slope_vegetation\"),\n",
    "    ]\n",
    "    for fname, hazard, planting_type in csvs:\n",
    "        df = pandas.read_csv(dirname/ fname)\n",
    "        df[\"hazard_targeted\"] = hazard\n",
    "        df[\"planting_option\"] = planting_type\n",
    "        df.rename(columns={f\"baseline_transport_{hazard}_ead_usd\": \"baseline_transport_ead_usd\"}, inplace=True)\n",
    "        dfs.append(df)\n",
    "\n",
    "df = pandas.concat(dfs)\n",
    "df.to_csv(working_dir / \"nbs_hydrobasin_options.csv\", index=False)"
   ]
  },
  {
   "cell_type": "code",
   "execution_count": null,
   "metadata": {},
   "outputs": [],
   "source": [
    "import geopandas as gpd"
   ]
  },
  {
   "cell_type": "code",
   "execution_count": null,
   "metadata": {},
   "outputs": [],
   "source": [
    "\n",
    "hybas_dfs = []\n",
    "for level in range(4,13):\n",
    "    df = gpd.read_parquet(results_dir / f\"results/input/hydrobasins/hybas_lev{level:02d}_v1c.geoparquet\")\n",
    "    hybas_dfs.append(df)"
   ]
  },
  {
   "cell_type": "code",
   "execution_count": null,
   "metadata": {},
   "outputs": [],
   "source": [
    "print(f\"level,area_median_km2,area_lower_quartile_km2,area_upper_quartile_km2\")\n",
    "for i, level in enumerate(range(4,13)):\n",
    "    stats = hybas_dfs[i].SUB_AREA.describe()\n",
    "    print(f'{level:02d},{round(stats[\"50%\"])},{round(stats[\"25%\"])},{round(stats[\"75%\"])}')"
   ]
  },
  {
   "cell_type": "code",
   "execution_count": null,
   "metadata": {},
   "outputs": [],
   "source": [
    "for i, level in enumerate(range(4,13)):\n",
    "    print(level, hybas_dfs[i].SUB_AREA.sum())"
   ]
  }
 ],
 "metadata": {
  "kernelspec": {
   "display_name": "Python 3",
   "language": "python",
   "name": "python3"
  },
  "language_info": {
   "codemirror_mode": {
    "name": "ipython",
    "version": 3
   },
   "file_extension": ".py",
   "mimetype": "text/x-python",
   "name": "python",
   "nbconvert_exporter": "python",
   "pygments_lexer": "ipython3",
   "version": "3.12.9"
  }
 },
 "nbformat": 4,
 "nbformat_minor": 2
}
