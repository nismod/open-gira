{
 "cells": [
  {
   "cell_type": "code",
   "execution_count": null,
   "metadata": {},
   "outputs": [],
   "source": [
    "import geopandas\n",
    "import pandas\n",
    "import pyogrio"
   ]
  },
  {
   "cell_type": "code",
   "execution_count": null,
   "metadata": {},
   "outputs": [],
   "source": [
    "gdf = geopandas.read_file(\"ne_10m_admin_0_countries/ne_10m_admin_0_countries.shp\")"
   ]
  },
  {
   "cell_type": "code",
   "execution_count": null,
   "metadata": {},
   "outputs": [],
   "source": [
    "list(gdf.columns)"
   ]
  },
  {
   "cell_type": "code",
   "execution_count": null,
   "metadata": {},
   "outputs": [],
   "source": [
    "df = gdf[[\n",
    " 'ISO_A3',\n",
    " 'NAME_LONG',\n",
    " 'CONTINENT',\n",
    " 'REGION_UN',\n",
    " 'SUBREGION',\n",
    " 'REGION_WB',\n",
    " 'INCOME_GRP',\n",
    "]].copy()"
   ]
  },
  {
   "cell_type": "code",
   "execution_count": null,
   "metadata": {},
   "outputs": [],
   "source": [
    "cgaz = geopandas.read_file(\"geoBoundariesCGAZ_ADM0.gpkg\")"
   ]
  },
  {
   "cell_type": "code",
   "execution_count": null,
   "metadata": {},
   "outputs": [],
   "source": [
    "countries = cgaz[[\"shapeGroup\", \"shapeName\"]].rename(columns={\"shapeGroup\": \"ISO_A3\", \"shapeName\": \"name\"})"
   ]
  },
  {
   "cell_type": "code",
   "execution_count": null,
   "metadata": {},
   "outputs": [],
   "source": [
    "df[df.ISO_A3.isin(set(df.ISO_A3) - set(countries.ISO_A3))]"
   ]
  },
  {
   "cell_type": "code",
   "execution_count": null,
   "metadata": {},
   "outputs": [],
   "source": [
    "df.loc[21, \"ISO_A3\"] = \"FRA\" # France\n",
    "df.loc[64, \"ISO_A3\"] = \"XKX\" # Kosovo KOS\n",
    "df.loc[52, \"ISO_A3\"] = \"NOR\" # Norway\n",
    "df.loc[251, \"ISO_A3\"] = \"128\" # Spratly\n",
    "df.loc[11, \"ISO_A3\"] = \"129\" # Palestine PSE\n",
    "df.loc[242, \"ISO_A3\"] = \"117\" # Malvinas / Falklands FLK\n",
    "df.loc[139, \"ISO_A3\"] = \"120\" # Islas Brasilieras\n",
    "df.loc[170, \"ISO_A3\"] = \"121\" # Siachen Glacier"
   ]
  },
  {
   "cell_type": "code",
   "execution_count": null,
   "metadata": {},
   "outputs": [],
   "source": [
    "joined = countries.set_index(\"ISO_A3\").join(df.set_index(\"ISO_A3\")).dropna().drop(columns=\"name\")\n",
    "joined.index.name = \"GID_0\"\n",
    "with pandas.option_context(\"display.max_rows\", 1000):\n",
    "    display(joined)"
   ]
  },
  {
   "cell_type": "code",
   "execution_count": null,
   "metadata": {},
   "outputs": [],
   "source": [
    "joined.shape"
   ]
  },
  {
   "cell_type": "code",
   "execution_count": null,
   "metadata": {},
   "outputs": [],
   "source": [
    "joined.to_csv(\"meta_adm0.csv\")"
   ]
  },
  {
   "cell_type": "code",
   "execution_count": null,
   "metadata": {},
   "outputs": [],
   "source": [
    "adm1 = geopandas.read_file(\"geoBoundariesCGAZ_ADM1.gpkg\")"
   ]
  },
  {
   "cell_type": "code",
   "execution_count": null,
   "metadata": {},
   "outputs": [],
   "source": [
    "adm1.columns"
   ]
  },
  {
   "cell_type": "code",
   "execution_count": null,
   "metadata": {},
   "outputs": [],
   "source": [
    "adm1.head()"
   ]
  },
  {
   "cell_type": "code",
   "execution_count": null,
   "metadata": {},
   "outputs": [],
   "source": [
    "adm2 = geopandas.read_file(\"geoBoundariesCGAZ_ADM2.gpkg\")"
   ]
  },
  {
   "cell_type": "code",
   "execution_count": null,
   "metadata": {},
   "outputs": [],
   "source": [
    "adm2.columns"
   ]
  },
  {
   "cell_type": "code",
   "execution_count": null,
   "metadata": {},
   "outputs": [],
   "source": [
    "adm2.head()"
   ]
  },
  {
   "cell_type": "code",
   "execution_count": null,
   "metadata": {},
   "outputs": [],
   "source": [
    "pyogrio.list_layers(\"gadm_410-levels.gpkg\")"
   ]
  },
  {
   "cell_type": "code",
   "execution_count": null,
   "metadata": {},
   "outputs": [],
   "source": [
    "gadm0 = geopandas.read_file(\"gadm_410-levels.gpkg\", layer=\"ADM_0\", driver=\"pyogrio\")"
   ]
  },
  {
   "cell_type": "code",
   "execution_count": null,
   "metadata": {},
   "outputs": [],
   "source": [
    "gadm0[[\"GID_0\", \"COUNTRY\"]]"
   ]
  },
  {
   "cell_type": "code",
   "execution_count": null,
   "metadata": {},
   "outputs": [],
   "source": [
    "gadm0_ne = gadm0.rename(columns={\"GID_0\": \"ISO_A3\"}).set_index(\"ISO_A3\").join(df.set_index(\"ISO_A3\"))"
   ]
  },
  {
   "cell_type": "code",
   "execution_count": null,
   "metadata": {},
   "outputs": [],
   "source": [
    "gadm0_ne[gadm0_ne.NAME_LONG.isna()]"
   ]
  },
  {
   "cell_type": "code",
   "execution_count": null,
   "metadata": {},
   "outputs": [],
   "source": [
    "gadm1 = geopandas.read_file(\"gadm_410-levels.gpkg\", layer=\"ADM_1\", driver=\"pyogrio\")"
   ]
  },
  {
   "cell_type": "code",
   "execution_count": null,
   "metadata": {},
   "outputs": [],
   "source": [
    "gadm1[[\"GID_0\",\"GID_1\",\"NAME_1\"]].to_csv(\"meta_adm1.csv\", index=False)"
   ]
  },
  {
   "cell_type": "code",
   "execution_count": null,
   "metadata": {},
   "outputs": [],
   "source": [
    "gadm2 = geopandas.read_file(\"gadm_410-levels.gpkg\", layer=\"ADM_2\", driver=\"pyogrio\")"
   ]
  },
  {
   "cell_type": "code",
   "execution_count": null,
   "metadata": {},
   "outputs": [],
   "source": [
    "gadm2[[\"GID_0\",\"GID_1\",\"GID_2\",\"NAME_2\"]].to_csv(\"meta_adm2.csv\", index=False)"
   ]
  }
 ],
 "metadata": {
  "kernelspec": {
   "display_name": "Python 3",
   "language": "python",
   "name": "python3"
  },
  "language_info": {
   "codemirror_mode": {
    "name": "ipython",
    "version": 3
   },
   "file_extension": ".py",
   "mimetype": "text/x-python",
   "name": "python",
   "nbconvert_exporter": "python",
   "pygments_lexer": "ipython3",
   "version": "3.10.13"
  }
 },
 "nbformat": 4,
 "nbformat_minor": 2
}
