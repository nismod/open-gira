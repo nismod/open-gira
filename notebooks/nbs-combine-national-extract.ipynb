{
 "cells": [
  {
   "cell_type": "code",
   "execution_count": null,
   "metadata": {},
   "outputs": [],
   "source": [
    "from pathlib import Path\n",
    "\n",
    "import geopandas as gpd\n",
    "import pyarrow.parquet as pq\n",
    "from irv_datapkg import crop_raster\n",
    "from tqdm.auto import tqdm\n",
    "tqdm.pandas()\n"
   ]
  },
  {
   "cell_type": "code",
   "execution_count": null,
   "metadata": {},
   "outputs": [],
   "source": [
    "iso = \"BWA\"\n",
    "save_path = Path(\"/home/mert2014/projects/bhutan-demo\") / iso\n",
    "save_path.mkdir(exist_ok=True, parents=True)\n",
    "path_prefix = str(save_path).replace(\"~\", \"/home/mert2014\")\n",
    "cluster_path = Path(\"/mnt/linux-filestore/mert2014/projects/open-gira\")\n",
    "hazard_dirs = Path(\"/mnt/linux-filestore/mert2014/projects/open-gira/results/input/\").glob(\"hazard-*\")\n",
    "lcnr_path = Path(\"/mnt/linux-filestore/LCNR_DR/GLOBAL/300m_9s/RestorationCostBenefit\")"
   ]
  },
  {
   "cell_type": "markdown",
   "metadata": {},
   "source": [
    "## Extract admin bounds, hydrobasins"
   ]
  },
  {
   "cell_type": "code",
   "execution_count": null,
   "metadata": {},
   "outputs": [],
   "source": [
    "adm0 = gpd.read_parquet(\"../results/input/admin-boundaries/gadm36_levels.parquet/level=0/data.parquet\", filters=[('GID_0', '==', iso)])\n",
    "adm0.to_file(save_path / f\"adm0_{iso}.gpkg\", engine=\"pyogrio\")"
   ]
  },
  {
   "cell_type": "code",
   "execution_count": null,
   "metadata": {},
   "outputs": [],
   "source": [
    "bb0 = gpd.read_file(save_path / f\"adm0_{iso}.gpkg\", engine=\"pyogrio\")\n",
    "bbgeom = bb0.geometry.iloc[0]\n",
    "bb0.bounds"
   ]
  },
  {
   "cell_type": "code",
   "execution_count": null,
   "metadata": {},
   "outputs": [],
   "source": [
    "hybas = gpd.read_parquet(\"../results/input/hydrobasins/hybas_lev12_v1c.geoparquet\")"
   ]
  },
  {
   "cell_type": "code",
   "execution_count": null,
   "metadata": {},
   "outputs": [],
   "source": [
    "bbox = bb0.bounds.iloc[0]\n",
    "hybas = hybas.cx[bbox.minx:bbox.maxx, bbox.miny:bbox.maxy].copy()"
   ]
  },
  {
   "cell_type": "code",
   "execution_count": null,
   "metadata": {},
   "outputs": [],
   "source": [
    "hybas.to_file(save_path / \"hybas_lev12_v1c.gpkg\", engine=\"pyogrio\")"
   ]
  },
  {
   "cell_type": "code",
   "execution_count": null,
   "metadata": {},
   "outputs": [],
   "source": [
    "adm0 = gpd.read_parquet(\"../results/input/admin-boundaries/gadm36_levels.parquet/level=0/data.parquet\")\n",
    "adm1 = gpd.read_parquet(\"../results/input/admin-boundaries/gadm36_levels.parquet/level=1/data.parquet\")\n",
    "adm2 = gpd.read_parquet(\"../results/input/admin-boundaries/gadm36_levels.parquet/level=2/data.parquet\")\n",
    "adm0 = adm0.cx[bbox.minx:bbox.maxx, bbox.miny:bbox.maxy]\n",
    "adm1 = adm1.cx[bbox.minx:bbox.maxx, bbox.miny:bbox.maxy]\n",
    "adm2 = adm2.cx[bbox.minx:bbox.maxx, bbox.miny:bbox.maxy]\n",
    "adm0.to_file(save_path / \"adm0.gpkg\", engine=\"pyogrio\")\n",
    "adm1.to_file(save_path / \"adm1.gpkg\", engine=\"pyogrio\")\n",
    "adm2.to_file(save_path / \"adm2.gpkg\", engine=\"pyogrio\")"
   ]
  },
  {
   "cell_type": "code",
   "execution_count": null,
   "metadata": {},
   "outputs": [],
   "source": [
    "# Extract opportunity areas for landslide, mangrove; planting costs and biodiversity, carbon benefits\n",
    "\n",
    "# Landslide, general cost and benefit\n",
    "for slug in [\"G_BioBenefit_9s\", \"G_CarbonBenefit_9s\", \"G_PlantingCost_9s\", \"G_RegenCost_9s\", \"G_LandslideNbS_123_9s\", \"G_PotentialNonCoastalTreeNBS_9s\"]:\n",
    "        in_fname = lcnr_path / \"Final Global Outputs\" / f\"{slug}.tif\"\n",
    "        out_fname = save_path / f\"{slug}.tif\"\n",
    "        crop_raster(in_fname, out_fname, bbgeom)\n",
    "\n",
    "# Mangrove\n",
    "in_fname = lcnr_path / \"Final Mangrove Outputs/ManRestorClass_9s.tif\"\n",
    "out_fname = save_path / f\"ManRestorClass_9s.tif\"\n",
    "crop_raster(in_fname, out_fname, bbgeom)"
   ]
  },
  {
   "cell_type": "code",
   "execution_count": null,
   "metadata": {},
   "outputs": [],
   "source": [
    "for d in tqdm(hazard_dirs):\n",
    "    print(d.name)\n",
    "    out_dir = save_path / d.name\n",
    "    out_dir.mkdir(parents=True, exist_ok=True)\n",
    "    for in_fname in (d / \"planet-latest\").glob(\"*.tif\"):\n",
    "        print(d.name, in_fname)\n",
    "        out_fname = out_dir / in_fname.name\n",
    "        crop_raster(in_fname, out_fname, bbgeom)"
   ]
  },
  {
   "cell_type": "markdown",
   "metadata": {},
   "source": [
    "# Set up extracted baseline EAD splits"
   ]
  },
  {
   "cell_type": "code",
   "execution_count": null,
   "metadata": {},
   "outputs": [],
   "source": [
    "def extract_pq(pds_dir, read_columns, iso, out_gpkg):\n",
    "    pds = pq.ParquetDataset(pds_dir)\n",
    "    nonempty = []\n",
    "    schemas = []\n",
    "    for pf_name in pds.files:\n",
    "        try:\n",
    "            pf = pq.ParquetFile(pf_name)\n",
    "            if \"id\" in pf.schema.names:\n",
    "                nonempty.append(pf_name)\n",
    "        except:\n",
    "            continue\n",
    "        for s in schemas:\n",
    "            if s.equals(pf.schema):\n",
    "                break\n",
    "        else:\n",
    "            schemas.append(pf.schema)\n",
    "    # print(schemas)\n",
    "    filters = []\n",
    "    if iso is not None:\n",
    "        filters.append(('from_iso_a3', '==', iso))\n",
    "    else:\n",
    "        filters=None\n",
    "    pt = pq.read_table(\n",
    "        nonempty,\n",
    "        columns=read_columns,\n",
    "        filters=filters\n",
    "    )\n",
    "    df = pt.to_pandas()\n",
    "    df.geometry = gpd.GeoSeries.from_wkb(df.geometry)\n",
    "    gdf = gpd.GeoDataFrame(df).set_crs(epsg=4326)\n",
    "    gdf.to_file(out_gpkg, driver=\"GPKG\", engine=\"pyogrio\")"
   ]
  },
  {
   "cell_type": "code",
   "execution_count": null,
   "metadata": {},
   "outputs": [],
   "source": [
    "ls_pds_dir = cluster_path / 'results/direct_damages/planet-latest_filter-road-tertiary/hazard-landslide-arup/EAD_and_cost_per_trigger'\n",
    "ls_read_columns = [\n",
    "    \"id\",\n",
    "    \"geometry\",\n",
    "    \"from_iso_a3\",\n",
    "    \"to_iso_a3\",\n",
    "    \"asset_type\",\n",
    "    \"osm_way_id\",\n",
    "    \"bridge\",\n",
    "    \"hazard-_landslide_sum__road_lower_EAD\",\n",
    "    \"hazard-_landslide_sum__road_damage_fraction_EAD\",\n",
    "    \"hazard-_landslide_sum__road_upper_EAD\",\n",
    "]\n",
    "ls_out_gpkg = save_path / \"landslide_road_damages.gpkg\"\n",
    "extract_pq(ls_pds_dir, ls_read_columns, iso, ls_out_gpkg)"
   ]
  },
  {
   "cell_type": "code",
   "execution_count": null,
   "metadata": {},
   "outputs": [],
   "source": [
    "ls_pds_dir = cluster_path / 'results/direct_damages/planet-latest_filter-rail/hazard-landslide-arup/EAD_and_cost_per_trigger'\n",
    "ls_read_columns = [\n",
    "    \"id\",\n",
    "    \"geometry\",\n",
    "    \"from_iso_a3\",\n",
    "    \"to_iso_a3\",\n",
    "    \"asset_type\",\n",
    "    \"osm_way_id\",\n",
    "    \"bridge\",\n",
    "    \"hazard-_landslide_sum__rail_lower_EAD\",\n",
    "    \"hazard-_landslide_sum__rail_damage_fraction_EAD\",\n",
    "    \"hazard-_landslide_sum__rail_upper_EAD\",\n",
    "]\n",
    "ls_out_gpkg = save_path / \"landslide_rail_damages.gpkg\"\n",
    "extract_pq(ls_pds_dir, ls_read_columns, iso, ls_out_gpkg)"
   ]
  },
  {
   "cell_type": "code",
   "execution_count": null,
   "metadata": {},
   "outputs": [],
   "source": [
    "ls_pds_dir = cluster_path / 'results/direct_damages/planet-latest_filter-rail/hazard-landslide-arup/split_EAD_and_cost_per_trigger'\n",
    "ls_read_columns = [\n",
    "    \"id\",\n",
    "    \"geometry\",\n",
    "    \"from_iso_a3\",\n",
    "    \"to_iso_a3\",\n",
    "    \"asset_type\",\n",
    "    \"osm_way_id\",\n",
    "    \"bridge\",\n",
    "    \"hazard-_landslide_sum__rail_lower_EAD\",\n",
    "    \"hazard-_landslide_sum__rail_damage_fraction_EAD\",\n",
    "    \"hazard-_landslide_sum__rail_upper_EAD\",\n",
    "]\n",
    "ls_out_gpkg = save_path / \"landslide_rail_damages_split.gpkg\"\n",
    "extract_pq(ls_pds_dir, ls_read_columns, iso, ls_out_gpkg)"
   ]
  },
  {
   "cell_type": "code",
   "execution_count": null,
   "metadata": {},
   "outputs": [],
   "source": [
    "rf_pds_dir = cluster_path / 'results/direct_damages/planet-latest_filter-road-tertiary/hazard-aqueduct-river/EAD'\n",
    "rf_read_columns = [\n",
    "    \"id\",\n",
    "    \"geometry\",\n",
    "    \"from_iso_a3\",\n",
    "    \"to_iso_a3\",\n",
    "    \"asset_type\",\n",
    "    \"osm_way_id\",\n",
    "    \"bridge\",\n",
    "    'hazard-inunriver_historical_MAX_1980_EAD',\n",
    "    'hazard-inunriver_historical_MEAN_1980_EAD',\n",
    "    'hazard-inunriver_historical_MIN_1980_EAD',\n",
    "    'hazard-inunriver_rcp4p5_MAX_2050_EAD',\n",
    "    'hazard-inunriver_rcp4p5_MEAN_2050_EAD',\n",
    "    'hazard-inunriver_rcp4p5_MIN_2050_EAD',\n",
    "    'hazard-inunriver_rcp8p5_MAX_2050_EAD',\n",
    "    'hazard-inunriver_rcp8p5_MEAN_2050_EAD',\n",
    "    'hazard-inunriver_rcp8p5_MIN_2050_EAD',\n",
    "]\n",
    "rf_out_gpkg = save_path / \"river-aqueduct_road_damages.gpkg\"\n",
    "extract_pq(rf_pds_dir, rf_read_columns, iso, rf_out_gpkg)\n",
    "\n",
    "rf_pds_dir = cluster_path / 'results/direct_damages/planet-latest_filter-rail/hazard-aqueduct-river/EAD'\n",
    "rf_out_gpkg = save_path / \"river-aqueduct_rail_damages.gpkg\"\n",
    "extract_pq(rf_pds_dir, rf_read_columns, iso, rf_out_gpkg)"
   ]
  },
  {
   "cell_type": "code",
   "execution_count": null,
   "metadata": {},
   "outputs": [],
   "source": [
    "cf_pds_dir = cluster_path / 'results/direct_damages/planet-latest_filter-road-tertiary/hazard-aqueduct-coast/EAD'\n",
    "cf_read_columns = [\n",
    "    \"id\",\n",
    "    \"geometry\",\n",
    "    \"from_iso_a3\",\n",
    "    \"to_iso_a3\",\n",
    "    \"asset_type\",\n",
    "    \"osm_way_id\",\n",
    "    \"bridge\",\n",
    "    'hazard-inuncoast_historical_MAX_hist_0_EAD',\n",
    "    'hazard-inuncoast_historical_MEAN_hist_0_EAD',\n",
    "    'hazard-inuncoast_historical_MIN_hist_0_EAD',\n",
    "    'hazard-inuncoast_rcp4p5_MAX_2050_0_EAD',\n",
    "    'hazard-inuncoast_rcp4p5_MEAN_2050_0_EAD',\n",
    "    'hazard-inuncoast_rcp4p5_MIN_2050_0_EAD',\n",
    "    'hazard-inuncoast_rcp8p5_MAX_2050_0_EAD',\n",
    "    'hazard-inuncoast_rcp8p5_MEAN_2050_0_EAD',\n",
    "    'hazard-inuncoast_rcp8p5_MIN_2050_0_EAD',\n",
    "]\n",
    "cf_out_gpkg = save_path / \"coastal-aqueduct_road_damages.gpkg\"\n",
    "extract_pq(cf_pds_dir, cf_read_columns, iso, cf_out_gpkg)\n",
    "\n",
    "cf_pds_dir = cluster_path / 'results/direct_damages/planet-latest_filter-rail/hazard-aqueduct-coast/EAD'\n",
    "cf_out_gpkg = save_path / \"coastal-aqueduct_rail_damages.gpkg\"\n",
    "extract_pq(cf_pds_dir, cf_read_columns, iso, cf_out_gpkg)\n"
   ]
  },
  {
   "cell_type": "code",
   "execution_count": null,
   "metadata": {},
   "outputs": [],
   "source": [
    "cf_pds_dir = cluster_path / 'results/direct_damages/planet-latest_filter-road-tertiary/hazard-coastal-deltares/EAD'\n",
    "cf_read_columns = [\n",
    "    \"id\",\n",
    "    \"geometry\",\n",
    "    \"from_iso_a3\",\n",
    "    \"to_iso_a3\",\n",
    "    \"asset_type\",\n",
    "    \"osm_way_id\",\n",
    "    \"bridge\",\n",
    "    \"hazard-GFM_MERITDEM1km_2018_EAD\",\n",
    "    \"hazard-GFM_NASADEM1km_2018_EAD\",\n",
    "    \"hazard-GFM_MERITDEM1km_2050_EAD\",\n",
    "    \"hazard-GFM_NASADEM1km_2050_EAD\",\n",
    "]\n",
    "cf_out_gpkg = save_path / \"coastal-deltares_road_damages.gpkg\"\n",
    "extract_pq(cf_pds_dir, cf_read_columns, iso, cf_out_gpkg)\n",
    "\n",
    "cf_pds_dir = cluster_path / 'results/direct_damages/planet-latest_filter-rail/hazard-coastal-deltares/EAD'\n",
    "cf_out_gpkg = save_path / \"coastal-deltares_rail_damages.gpkg\"\n",
    "extract_pq(cf_pds_dir, cf_read_columns, iso, cf_out_gpkg)"
   ]
  },
  {
   "cell_type": "code",
   "execution_count": null,
   "metadata": {},
   "outputs": [],
   "source": [
    "cf_pds_dir = cluster_path / 'results/direct_damages/planet-latest_filter-road-tertiary/hazard-river-jrc/EAD'\n",
    "cf_read_columns = [\n",
    "    \"id\",\n",
    "    \"geometry\",\n",
    "    \"from_iso_a3\",\n",
    "    \"to_iso_a3\",\n",
    "    \"asset_type\",\n",
    "    \"osm_way_id\",\n",
    "    \"bridge\",\n",
    "    \"hazard-floodMapGL_EAD\"\n",
    "]\n",
    "cf_out_gpkg = save_path / \"river-jrc_road_damages.gpkg\"\n",
    "extract_pq(cf_pds_dir, cf_read_columns, iso, cf_out_gpkg)\n",
    "\n",
    "cf_pds_dir = cluster_path / 'results/direct_damages/planet-latest_filter-rail/hazard-river-jrc/EAD'\n",
    "cf_out_gpkg = save_path / \"river-jrc_rail_damages.gpkg\"\n",
    "extract_pq(cf_pds_dir, cf_read_columns, iso, cf_out_gpkg)"
   ]
  },
  {
   "cell_type": "markdown",
   "metadata": {},
   "source": [
    "# Extract opportunities"
   ]
  },
  {
   "cell_type": "code",
   "execution_count": null,
   "metadata": {},
   "outputs": [],
   "source": [
    "def extract_opp(pds_dir, iso, out_gpkg):\n",
    "    pds = pq.ParquetDataset(pds_dir)\n",
    "    nonempty = []\n",
    "    schemas = []\n",
    "    for pf_name in pds.files:\n",
    "        pf = pq.ParquetFile(pf_name)\n",
    "        if \"HYBAS_ID\" in pf.schema.names:\n",
    "            nonempty.append(pf_name)\n",
    "\n",
    "        for s in schemas:\n",
    "            if s.equals(pf.schema):\n",
    "                break\n",
    "        else:\n",
    "            schemas.append(pf.schema)\n",
    "    # print(schemas)\n",
    "    filters = []\n",
    "    if iso is not None:\n",
    "        filters.append(('GID_0', '==', iso))\n",
    "    else:\n",
    "        filters=None\n",
    "    pt = pq.read_table(\n",
    "        nonempty,\n",
    "        filters=filters\n",
    "    )\n",
    "    df = pt.to_pandas()\n",
    "    df.geometry = gpd.GeoSeries.from_wkb(df.geometry)\n",
    "    gdf = gpd.GeoDataFrame(df).set_crs(epsg=4326)\n",
    "    gdf.to_file(out_gpkg, driver=\"GPKG\", engine=\"pyogrio\")"
   ]
  },
  {
   "cell_type": "code",
   "execution_count": null,
   "metadata": {},
   "outputs": [],
   "source": [
    "extract_opp(\n",
    "    list((cluster_path / 'results/slices/planet-latest_nbs').glob(\"slice-*/landslide_slope_vegetation.parquet\")),\n",
    "    iso,\n",
    "    save_path / \"landslide_slope_vegetation.gpkg\",\n",
    ")\n",
    "extract_opp(\n",
    "    list((cluster_path / 'results/slices/planet-latest_nbs').glob(\"slice-*/mangrove.parquet\")),\n",
    "    iso,\n",
    "    save_path / \"mangrove.gpkg\",\n",
    ")\n",
    "extract_opp(\n",
    "    list((cluster_path / 'results/slices/planet-latest_nbs').glob(\"slice-*/river_basin_afforestation.parquet\")),\n",
    "    iso,\n",
    "    save_path / \"river_basin_afforestation.gpkg\",\n",
    ")\n",
    "extract_opp(\n",
    "    list((cluster_path / 'results/slices/planet-latest_nbs').glob(\"slice-*/landslide_slope_vegetation_with_EAD.parquet\")),\n",
    "    iso,\n",
    "    save_path / \"landslide_slope_vegetation_with_EAD.gpkg\",\n",
    ")\n",
    "extract_opp(\n",
    "    list((cluster_path / 'results/slices/planet-latest_nbs').glob(\"slice-*/mangrove_with_EAD.parquet\")),\n",
    "    iso,\n",
    "    save_path / \"mangrove_with_EAD.gpkg\",\n",
    ")\n",
    "extract_opp(\n",
    "    list((cluster_path / 'results/slices/planet-latest_nbs').glob(\"slice-*/river_basin_afforestation_with_EAD.parquet\")),\n",
    "    iso,\n",
    "    save_path / \"river_basin_afforestation_with_EAD.gpkg\",\n",
    ")"
   ]
  },
  {
   "cell_type": "code",
   "execution_count": null,
   "metadata": {},
   "outputs": [],
   "source": [
    "# extract_opp(\n",
    "#     list((cluster_path / 'results/slices/planet-latest_nbs').glob(\"slice-*/landslide_slope_vegetation.parquet\")),\n",
    "#     None,\n",
    "#     save_path.parent / \"landslide_slope_vegetation.gpkg\",\n",
    "# )\n",
    "# extract_opp(\n",
    "#     list((cluster_path / 'results/slices/planet-latest_nbs').glob(\"slice-*/mangrove.parquet\")),\n",
    "#     None,\n",
    "#     save_path.parent / \"mangrove.gpkg\",\n",
    "# )\n",
    "# extract_opp(\n",
    "#     list((cluster_path / 'results/slices/planet-latest_nbs').glob(\"slice-*/river_basin_afforestation.parquet\")),\n",
    "#     None,\n",
    "#     save_path.parent / \"river_basin_afforestation.gpkg\",\n",
    "# )\n",
    "# extract_opp(\n",
    "#     list((cluster_path / 'results/slices/planet-latest_nbs').glob(\"slice-*/landslide_slope_vegetation_with_EAD.parquet\")),\n",
    "#     None,\n",
    "#     save_path.parent / \"landslide_slope_vegetation_with_EAD.gpkg\",\n",
    "# )\n",
    "# extract_opp(\n",
    "#     list((cluster_path / 'results/slices/planet-latest_nbs').glob(\"slice-*/mangrove_with_EAD.parquet\")),\n",
    "#     None,\n",
    "#     save_path.parent / \"mangrove_with_EAD.gpkg\",\n",
    "# )\n",
    "# extract_opp(\n",
    "#     list((cluster_path / 'results/slices/planet-latest_nbs').glob(\"slice-*/river_basin_afforestation_with_EAD.parquet\")),\n",
    "#     None,\n",
    "#     save_path.parent / \"river_basin_afforestation_with_EAD.gpkg\",\n",
    "# )"
   ]
  },
  {
   "cell_type": "code",
   "execution_count": null,
   "metadata": {},
   "outputs": [],
   "source": []
  }
 ],
 "metadata": {
  "kernelspec": {
   "display_name": "Python 3",
   "language": "python",
   "name": "python3"
  },
  "language_info": {
   "codemirror_mode": {
    "name": "ipython",
    "version": 3
   },
   "file_extension": ".py",
   "mimetype": "text/x-python",
   "name": "python",
   "nbconvert_exporter": "python",
   "pygments_lexer": "ipython3",
   "version": "3.12.9"
  }
 },
 "nbformat": 4,
 "nbformat_minor": 2
}
