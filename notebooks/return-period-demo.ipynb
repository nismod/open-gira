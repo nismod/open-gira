{
 "cells": [
  {
   "cell_type": "code",
   "execution_count": null,
   "metadata": {},
   "outputs": [],
   "source": [
    "import subprocess\n",
    "from pathlib import Path\n",
    "\n",
    "import geopandas\n",
    "import matplotlib.pyplot as plt\n",
    "import numpy\n",
    "import pandas\n",
    "import rasterio\n",
    "import scipy.integrate\n",
    "import snail.intersection\n",
    "from matplotlib.colors import LogNorm\n",
    "from open_gira.direct_damages import ReturnPeriodMap\n",
    "from open_gira.exposure import max_vector_rasters_intersection\n",
    "from open_gira.geometry import buffer_via_reprojection\n",
    "from open_gira.io import read_raster_ds, write_raster_ds\n",
    "from pyproj import Geod\n",
    "from snail.damages import PiecewiseLinearDamageCurve"
   ]
  },
  {
   "cell_type": "code",
   "execution_count": null,
   "metadata": {},
   "outputs": [],
   "source": [
    "base_dir = Path(\"../cluster\")"
   ]
  },
  {
   "cell_type": "code",
   "execution_count": null,
   "metadata": {},
   "outputs": [],
   "source": [
    "adm0 = geopandas.read_parquet(\n",
    "    base_dir / \"processed_data/admin-boundaries/admin-level-0.geoparquet\"\n",
    ").query('GID_0 == \"THA\"')"
   ]
  },
  {
   "cell_type": "code",
   "execution_count": null,
   "metadata": {},
   "outputs": [],
   "source": [
    "tha_bounds = dict(adm0.bounds.iloc[0, :])\n",
    "minx, miny, maxx, maxy = (\n",
    "    tha_bounds[\"minx\"],\n",
    "    tha_bounds[\"miny\"],\n",
    "    tha_bounds[\"maxx\"],\n",
    "    tha_bounds[\"maxy\"],\n",
    ")\n",
    "minx, miny, maxx, maxy"
   ]
  },
  {
   "cell_type": "code",
   "execution_count": null,
   "metadata": {},
   "outputs": [],
   "source": [
    "global_raster_paths = sorted(\n",
    "    Path(\"../results/input/jrc_flood/\").glob(\"floodMapGL*.tif\")\n",
    ")\n",
    "for global_tiff in global_raster_paths:\n",
    "    tha_tiff = base_dir / \"processed_data\" / \"hazard\" / global_tiff.name\n",
    "    if tha_tiff.exists():\n",
    "        continue\n",
    "    print(tha_tiff)\n",
    "    subprocess.check_output(\n",
    "        [\n",
    "            \"gdalwarp\",\n",
    "            \"-te\",\n",
    "            str(minx),\n",
    "            str(miny),\n",
    "            str(maxx),\n",
    "            str(maxy),\n",
    "            str(global_tiff),\n",
    "            str(tha_tiff),\n",
    "        ]\n",
    "    )"
   ]
  },
  {
   "cell_type": "code",
   "execution_count": null,
   "metadata": {},
   "outputs": [],
   "source": [
    "raster_paths = sorted(\n",
    "    str(p) for p in (base_dir / \"processed_data\" / \"hazard\").glob(\"floodMapGL*.tif\")\n",
    ")\n",
    "rasters = pandas.DataFrame(data={\"path\": raster_paths})\n",
    "rasters[\"rp\"] = rasters.path.str.extract(\"(\\d+)\").astype(int)\n",
    "rasters[\"key\"] = rasters.rp.apply(lambda rp: f\"jrc_flood_{rp:03d}\")\n",
    "rasters.sort_values(by=\"rp\", inplace=True)\n",
    "rasters"
   ]
  },
  {
   "cell_type": "code",
   "execution_count": null,
   "metadata": {},
   "outputs": [],
   "source": [
    "# Resample to built capital raster resolution\n",
    "for tha_tiff in rasters.path:\n",
    "    resampled_tiff = (\n",
    "        base_dir / \"processed_data\" / \"hazard\" / \"3ss\" / Path(tha_tiff).name\n",
    "    )\n",
    "    print(resampled_tiff)\n",
    "    if resampled_tiff.exists():\n",
    "        resampled_tiff.unlink()\n",
    "        # continue\n",
    "    subprocess.check_output(\n",
    "        [\n",
    "            \"gdalwarp\",\n",
    "            \"-t_srs\",\n",
    "            \"EPSG:4326\",\n",
    "            \"-te_srs\",\n",
    "            \"EPSG:4326\",\n",
    "            \"-te\",\n",
    "            \"97.3745830\",\n",
    "            \"5.6170835\",\n",
    "            \"105.6245829\",\n",
    "            \"20.4504168\",\n",
    "            \"-ts\",\n",
    "            \"9900\",\n",
    "            \"17800\",\n",
    "            str(tha_tiff),\n",
    "            str(resampled_tiff),\n",
    "        ]\n",
    "    )"
   ]
  },
  {
   "cell_type": "code",
   "execution_count": null,
   "metadata": {},
   "outputs": [],
   "source": [
    "raster_paths_resampled = sorted(\n",
    "    str(p)\n",
    "    for p in (base_dir / \"processed_data\" / \"hazard\" / \"3ss\").glob(\"floodMapGL*.tif\")\n",
    ")\n",
    "rasters_3ss = pandas.DataFrame(data={\"path\": raster_paths_resampled})\n",
    "rasters_3ss[\"rp\"] = rasters_3ss.path.str.extract(\"_rp(\\d+)y\").astype(int)\n",
    "rasters_3ss[\"key\"] = rasters_3ss.rp.apply(lambda rp: f\"jrc_flood_{rp:03d}\")\n",
    "rasters_3ss.sort_values(by=\"rp\", inplace=True)\n",
    "rasters_3ss"
   ]
  },
  {
   "cell_type": "code",
   "execution_count": null,
   "metadata": {},
   "outputs": [],
   "source": [
    "grids = set(\n",
    "    snail.intersection.GridDefinition.from_raster(path) for path in rasters.path\n",
    ")\n",
    "assert len(grids) == 1\n",
    "grid = grids.pop()\n",
    "grid"
   ]
  },
  {
   "cell_type": "code",
   "execution_count": null,
   "metadata": {},
   "outputs": [],
   "source": [
    "damage_curves = {\n",
    "    \"paved\": PiecewiseLinearDamageCurve.from_csv(\n",
    "        \"../config/damage_curves/flood/road_paved.csv\",\n",
    "        intensity_col=\"inundation_depth_(m)\",\n",
    "        damage_col=\"central\",\n",
    "    ),\n",
    "    \"paved_lower\": PiecewiseLinearDamageCurve.from_csv(\n",
    "        \"../config/damage_curves/flood/road_paved.csv\",\n",
    "        intensity_col=\"inundation_depth_(m)\",\n",
    "        damage_col=\"damage_fraction\",\n",
    "    ),\n",
    "    \"paved_upper\": PiecewiseLinearDamageCurve.from_csv(\n",
    "        \"../config/damage_curves/flood/road_paved.csv\",\n",
    "        intensity_col=\"inundation_depth_(m)\",\n",
    "        damage_col=\"upper\",\n",
    "    ),\n",
    "    \"motorway_lower\": PiecewiseLinearDamageCurve.from_csv(\n",
    "        \"../config/damage_curves/flood/road_motorway.csv\",\n",
    "        intensity_col=\"inundation_depth_(m)\",\n",
    "        damage_col=\"damage_fraction\",\n",
    "    ),\n",
    "    \"motorway_upper\": PiecewiseLinearDamageCurve.from_csv(\n",
    "        \"../config/damage_curves/flood/road_motorway.csv\",\n",
    "        intensity_col=\"inundation_depth_(m)\",\n",
    "        damage_col=\"high flow\",\n",
    "    ),\n",
    "    \"rail_a\": PiecewiseLinearDamageCurve.from_csv(\n",
    "        \"../config/damage_curves/flood/rail_railway.csv\",\n",
    "        intensity_col=\"inundation_depth_(m)\",\n",
    "        damage_col=\"damage_fraction\",\n",
    "    ),\n",
    "    \"rail_b\": PiecewiseLinearDamageCurve.from_csv(\n",
    "        \"../config/damage_curves/flood/rail_railway.csv\",\n",
    "        intensity_col=\"inundation_depth_(m)\",\n",
    "        damage_col=\"high\",\n",
    "    ),\n",
    "    \"powerplants\": PiecewiseLinearDamageCurve.from_csv(\n",
    "        \"../config/damage_curves/flood/powerplants.csv\",\n",
    "        intensity_col=\"depth_m\",\n",
    "        damage_col=\"damage_fraction\",\n",
    "    ),\n",
    "}"
   ]
  },
  {
   "cell_type": "code",
   "execution_count": null,
   "metadata": {},
   "outputs": [],
   "source": [
    "rail_edges = geopandas.read_parquet(\n",
    "    base_dir\n",
    "    / \"transport_disruption\"\n",
    "    / \"input\"\n",
    "    / \"networks\"\n",
    "    / \"rail\"\n",
    "    / \"project-thailand\"\n",
    "    / \"edges.gpq\"\n",
    ").query('from_iso_a3 == \"THA\" | to_iso_a3 == \"THA\"')\n",
    "rail_edges.head(1)"
   ]
  },
  {
   "cell_type": "code",
   "execution_count": null,
   "metadata": {},
   "outputs": [],
   "source": [
    "road_edges = geopandas.read_parquet(\n",
    "    base_dir\n",
    "    / \"transport_disruption\"\n",
    "    / \"input\"\n",
    "    / \"networks\"\n",
    "    / \"road\"\n",
    "    / \"project-thailand\"\n",
    "    / \"edges.gpq\"\n",
    ").query('from_iso_a3 == \"THA\" | to_iso_a3 == \"THA\"')\n",
    "road_edges.head(1)"
   ]
  },
  {
   "cell_type": "markdown",
   "metadata": {},
   "source": [
    "## Load powerplants\n"
   ]
  },
  {
   "cell_type": "code",
   "execution_count": null,
   "metadata": {},
   "outputs": [],
   "source": [
    "powerplants = geopandas.read_parquet(\n",
    "    base_dir / \"power_flood\" / \"data\" / \"powerplants_tha.geoparquet\"\n",
    ")\n",
    "powerplants[\"geom_point\"] = powerplants.geometry\n",
    "powerplants.geometry = buffer_via_reprojection(powerplants.geometry, 250)\n",
    "powerplants.head(1)"
   ]
  },
  {
   "cell_type": "markdown",
   "metadata": {},
   "source": [
    "## Powerplant RP damages\n"
   ]
  },
  {
   "cell_type": "code",
   "execution_count": null,
   "metadata": {},
   "outputs": [],
   "source": [
    "powerplants = max_vector_rasters_intersection(powerplants, rasters).fillna(0)"
   ]
  },
  {
   "cell_type": "code",
   "execution_count": null,
   "metadata": {},
   "outputs": [],
   "source": [
    "powerplants.head(2)"
   ]
  },
  {
   "cell_type": "code",
   "execution_count": null,
   "metadata": {},
   "outputs": [],
   "source": [
    "def damage_value(\n",
    "    assets_with_exposure, exposure_columns, damage_curve, cost_column, damage_cost_unit\n",
    "):\n",
    "    exposure = assets_with_exposure.loc[:, exposure_columns]\n",
    "    damage_fraction = pandas.DataFrame(\n",
    "        damage_curve.damage_fraction(exposure),\n",
    "        index=exposure.index,\n",
    "        columns=exposure.columns,\n",
    "    )\n",
    "    damage_value = damage_fraction.multiply(\n",
    "        assets_with_exposure[cost_column], axis=\"index\"\n",
    "    )\n",
    "    damage_value.columns = [\n",
    "        f\"damage_{damage_cost_unit}__{c}\" for c in damage_value.columns\n",
    "    ]\n",
    "    return damage_value"
   ]
  },
  {
   "cell_type": "code",
   "execution_count": null,
   "metadata": {},
   "outputs": [],
   "source": [
    "powerplants_damages = damage_value(\n",
    "    powerplants, rasters.key, damage_curves[\"powerplants\"], \"construction_cost\", \"usd\"\n",
    ")"
   ]
  },
  {
   "cell_type": "code",
   "execution_count": null,
   "metadata": {},
   "outputs": [],
   "source": [
    "class JRCFloodMap(ReturnPeriodMap):\n",
    "    def __init__(self, tuple):\n",
    "        # identifying string containing other, inferred attributes, should be\n",
    "        # unique among any collection of maps\n",
    "        self.name = tuple.key\n",
    "        # name of scenario, e.g. rcp4p5, historical\n",
    "        self.scenario = \"historical\"\n",
    "        # year for which hazard map is valid (may be past, present or future)\n",
    "        self.year = 2020\n",
    "        # expect hazard to recur on average every return_period years\n",
    "        self.return_period_years = tuple.rp\n",
    "\n",
    "    @property\n",
    "    def without_RP(self) -> str:\n",
    "        return \"jrc_flood\"\n",
    "\n",
    "    @property\n",
    "    def without_model(self) -> str:\n",
    "        return \"jrc_flood\""
   ]
  },
  {
   "cell_type": "code",
   "execution_count": null,
   "metadata": {},
   "outputs": [],
   "source": [
    "def ead(assets_with_damages, damage_cost_unit, rp_maps):\n",
    "    # sort by least to most probable\n",
    "    sorted_rp_maps: list[ReturnPeriodMap] = sorted(rp_maps)\n",
    "\n",
    "    # [0, 1] valued decimal probabilities\n",
    "    probabilities: list[float] = [\n",
    "        rp_map.annual_probability for rp_map in sorted_rp_maps\n",
    "    ]\n",
    "    # family subset of grouped_direct_damages\n",
    "    family_column_names: list[str] = [\n",
    "        f\"damage_{damage_cost_unit}__{rp_map.name}\" for rp_map in sorted_rp_maps\n",
    "    ]\n",
    "    family_direct_damages: pandas.DataFrame = assets_with_damages[family_column_names]\n",
    "\n",
    "    # integrate the damage as a function of probability curve using Simpson's rule\n",
    "    # Simpson's rule as the function to be integrated is non-linear\n",
    "    return scipy.integrate.simpson(family_direct_damages, x=probabilities, axis=1)"
   ]
  },
  {
   "cell_type": "code",
   "execution_count": null,
   "metadata": {},
   "outputs": [],
   "source": [
    "rp_maps = [JRCFloodMap(r) for r in rasters.itertuples()]"
   ]
  },
  {
   "cell_type": "code",
   "execution_count": null,
   "metadata": {},
   "outputs": [],
   "source": [
    "powerplants_damages[\"ead_usd__jrc_flood\"] = ead(powerplants_damages, \"usd\", rp_maps)"
   ]
  },
  {
   "cell_type": "code",
   "execution_count": null,
   "metadata": {},
   "outputs": [],
   "source": [
    "powerplants_damages.head()"
   ]
  },
  {
   "cell_type": "code",
   "execution_count": null,
   "metadata": {},
   "outputs": [],
   "source": [
    "powerplants_with_damages = powerplants.join(powerplants_damages)"
   ]
  },
  {
   "cell_type": "code",
   "execution_count": null,
   "metadata": {},
   "outputs": [],
   "source": [
    "for depth_col in rasters.key:\n",
    "    powerplants_with_damages[f\"exposure__{depth_col}\"] = (\n",
    "        powerplants_with_damages[depth_col] > 0\n",
    "    )\n",
    "    powerplants_with_damages[f\"exposure_usd__{depth_col}\"] = (\n",
    "        powerplants_with_damages.construction_cost\n",
    "        * (powerplants_with_damages[depth_col] > 0)\n",
    "    )\n",
    "powerplants_with_damages.filter(like=\"exposure__\").sum()"
   ]
  },
  {
   "cell_type": "code",
   "execution_count": null,
   "metadata": {},
   "outputs": [],
   "source": [
    "powerplants_with_damages.to_parquet(\n",
    "    base_dir / \"power_flood\" / \"powerplant_damages_jrc.gpq\"\n",
    ")"
   ]
  },
  {
   "cell_type": "markdown",
   "metadata": {},
   "source": [
    "# Rail damages\n"
   ]
  },
  {
   "cell_type": "code",
   "execution_count": null,
   "metadata": {},
   "outputs": [],
   "source": [
    "rail_costs = pandas.read_csv(\"../config/rehab_costs/rail.csv\", comment=\"#\").set_index(\n",
    "    \"asset_type\"\n",
    ")\n",
    "rail_costs  # .loc[\"rail_railway\", \"rehab_cost_USD_per_km\"]"
   ]
  },
  {
   "cell_type": "code",
   "execution_count": null,
   "metadata": {},
   "outputs": [],
   "source": [
    "rail_edges.asset_type.unique()"
   ]
  },
  {
   "cell_type": "code",
   "execution_count": null,
   "metadata": {},
   "outputs": [],
   "source": [
    "def line_split_exposure(edges, grid, rasters):\n",
    "    exposure = snail.intersection.split_linestrings(edges.reset_index(drop=True), grid)\n",
    "    exposure = snail.intersection.apply_indices(exposure, grid)\n",
    "    for r in rasters.itertuples():\n",
    "        with rasterio.open(r.path) as src:\n",
    "            data = src.read(1)\n",
    "            exposure[r.key] = snail.intersection.get_raster_values_for_splits(\n",
    "                exposure, data\n",
    "            )\n",
    "    return exposure"
   ]
  },
  {
   "cell_type": "code",
   "execution_count": null,
   "metadata": {},
   "outputs": [],
   "source": [
    "rail_exposure = line_split_exposure(rail_edges, grid, rasters)\n",
    "rail_exposure.head(1)"
   ]
  },
  {
   "cell_type": "code",
   "execution_count": null,
   "metadata": {},
   "outputs": [],
   "source": [
    "def line_split_damage(\n",
    "    exposure,\n",
    "    exposure_columns,\n",
    "    costs,\n",
    "    cost_col,\n",
    "    damage_curves_by_asset_type,\n",
    "    cost_unit=\"usd\",\n",
    "):\n",
    "    geod = Geod(ellps=\"WGS84\")\n",
    "    damage_dfs = []\n",
    "    for asset_type, splits_df in exposure.groupby(\"asset_type\"):\n",
    "        cost_per_km = costs.loc[asset_type, cost_col]\n",
    "        splits_df[\"split_length_km\"] = (\n",
    "            splits_df.geometry.apply(geod.geometry_length) / 1e3\n",
    "        )\n",
    "        splits_df[\"rehab_cost\"] = splits_df.split_length_km * cost_per_km\n",
    "        damage = damage_value(\n",
    "            splits_df,\n",
    "            exposure_columns,\n",
    "            damage_curves_by_asset_type[asset_type],\n",
    "            \"rehab_cost\",\n",
    "            cost_unit,\n",
    "        )\n",
    "        damage_dfs.append(splits_df.join(damage))\n",
    "    return pandas.concat(damage_dfs)"
   ]
  },
  {
   "cell_type": "code",
   "execution_count": null,
   "metadata": {},
   "outputs": [],
   "source": [
    "rail_damage_curves_a = {\n",
    "    \"rail_railway\": damage_curves[\"rail_a\"],\n",
    "    \"rail_bridge\": damage_curves[\"rail_a\"],\n",
    "}\n",
    "rail_damage_a = line_split_damage(\n",
    "    rail_exposure,\n",
    "    rasters.key,\n",
    "    rail_costs,\n",
    "    \"rehab_cost_USD_per_km\",\n",
    "    rail_damage_curves_a,\n",
    ")\n",
    "rail_damage_a[\"ead_usd__jrc_flood\"] = ead(rail_damage_a, \"usd\", rp_maps)\n",
    "\n",
    "rail_damage_curves_b = {\n",
    "    \"rail_railway\": damage_curves[\"rail_b\"],\n",
    "    \"rail_bridge\": damage_curves[\"rail_b\"],\n",
    "}\n",
    "rail_damage_b = line_split_damage(\n",
    "    rail_exposure,\n",
    "    rasters.key,\n",
    "    rail_costs,\n",
    "    \"rehab_cost_USD_per_km\",\n",
    "    rail_damage_curves_b,\n",
    ")\n",
    "rail_damage_b[\"ead_usd__jrc_flood\"] = ead(rail_damage_b, \"usd\", rp_maps)"
   ]
  },
  {
   "cell_type": "code",
   "execution_count": null,
   "metadata": {},
   "outputs": [],
   "source": [
    "for depth_col in rasters.key:\n",
    "    rail_damage_a[f\"exposure_km__{depth_col}\"] = rail_damage_a.split_length_km * (\n",
    "        rail_damage_a[depth_col] > 0\n",
    "    )\n",
    "rail_damage_a.filter(like=\"exposure_km__jrc_flood_\").sum()"
   ]
  },
  {
   "cell_type": "markdown",
   "metadata": {},
   "source": [
    "# Road damages\n"
   ]
  },
  {
   "cell_type": "code",
   "execution_count": null,
   "metadata": {},
   "outputs": [],
   "source": [
    "road_costs = pandas.read_csv(\"../config/rehab_costs/road.csv\", comment=\"#\").set_index(\n",
    "    \"asset_type\"\n",
    ")\n",
    "road_costs"
   ]
  },
  {
   "cell_type": "code",
   "execution_count": null,
   "metadata": {},
   "outputs": [],
   "source": [
    "road_edges.asset_type.unique()"
   ]
  },
  {
   "cell_type": "code",
   "execution_count": null,
   "metadata": {},
   "outputs": [],
   "source": [
    "road_damage_curves_lower = {\n",
    "    \"road_trunk\": damage_curves[\"motorway_lower\"],\n",
    "    \"road_motorway\": damage_curves[\"motorway_lower\"],\n",
    "    \"road_primary\": damage_curves[\"paved_lower\"],\n",
    "    \"road_secondary\": damage_curves[\"paved_lower\"],\n",
    "    \"road_bridge\": damage_curves[\"paved_lower\"],\n",
    "}\n",
    "road_damage_curves_upper = {\n",
    "    \"road_trunk\": damage_curves[\"motorway_upper\"],\n",
    "    \"road_motorway\": damage_curves[\"motorway_upper\"],\n",
    "    \"road_primary\": damage_curves[\"paved_upper\"],\n",
    "    \"road_secondary\": damage_curves[\"paved_upper\"],\n",
    "    \"road_bridge\": damage_curves[\"paved_upper\"],\n",
    "}"
   ]
  },
  {
   "cell_type": "code",
   "execution_count": null,
   "metadata": {},
   "outputs": [],
   "source": [
    "road_exposure = line_split_exposure(road_edges, grid, rasters)"
   ]
  },
  {
   "cell_type": "code",
   "execution_count": null,
   "metadata": {},
   "outputs": [],
   "source": [
    "road_damage_lower = line_split_damage(\n",
    "    road_exposure,\n",
    "    rasters.key,\n",
    "    road_costs,\n",
    "    \"rehab_cost_USD_per_km_per_lane\",\n",
    "    road_damage_curves_lower,\n",
    ")\n",
    "road_damage_upper = line_split_damage(\n",
    "    road_exposure,\n",
    "    rasters.key,\n",
    "    road_costs,\n",
    "    \"rehab_cost_USD_per_km_per_lane\",\n",
    "    road_damage_curves_upper,\n",
    ")"
   ]
  },
  {
   "cell_type": "code",
   "execution_count": null,
   "metadata": {},
   "outputs": [],
   "source": [
    "road_damage_upper[\"ead_usd__jrc_flood\"] = ead(road_damage_upper, \"usd\", rp_maps)\n",
    "road_damage_lower[\"ead_usd__jrc_flood\"] = ead(road_damage_lower, \"usd\", rp_maps)"
   ]
  },
  {
   "cell_type": "code",
   "execution_count": null,
   "metadata": {},
   "outputs": [],
   "source": [
    "for depth_col in rasters.key:\n",
    "    road_damage_upper[f\"exposure_km__{depth_col}\"] = (\n",
    "        road_damage_upper.split_length_km * (road_damage_upper[depth_col] > 0)\n",
    "    )\n",
    "road_damage_upper.filter(like=\"exposure_km__jrc_flood_\").sum()"
   ]
  },
  {
   "cell_type": "markdown",
   "metadata": {},
   "source": [
    "# Plotting\n",
    "\n",
    "- exposure of infrastructure assets (numbers of power plants, km of roads) in Thailand in floods of varying return periods\n",
    "- total direct damages to infrastructure assets (power plants, roads) in Thailand in floods of varying return periods\n",
    "- total direct damages to buildings in Thailand in floods of varying return periods\n",
    "- transport infrastructure exposure in 1: and 1: return period floods, illustrating where most trade flows are exposed\n"
   ]
  },
  {
   "cell_type": "code",
   "execution_count": null,
   "metadata": {},
   "outputs": [],
   "source": [
    "# Explore styles\n",
    "for s in plt.style.available:\n",
    "    print(s)\n",
    "plt.style.use(\"seaborn-v0_8-muted\")"
   ]
  },
  {
   "cell_type": "code",
   "execution_count": null,
   "metadata": {},
   "outputs": [],
   "source": [
    "# Aggregate exposure for each return period\n",
    "total_powerplants_exposure = (\n",
    "    powerplants_with_damages.filter(like=\"exposure__jrc_flood_\").sum().astype(int)\n",
    ")\n",
    "\n",
    "# Extract return periods from column names\n",
    "return_periods = [int(col.split(\"_\")[-1]) for col in total_powerplants_exposure.index]\n",
    "probabilities = [1 / rp for rp in return_periods]\n",
    "\n",
    "# Plot the exposure\n",
    "fig = plt.figure(figsize=(10, 6), facecolor=\"white\", layout=\"constrained\")\n",
    "fig.patch.set_facecolor(\"white\")\n",
    "plt.plot(probabilities, total_powerplants_exposure, marker=\".\")\n",
    "plt.xlabel(\"Return Period (years)\")\n",
    "plt.ylabel(\"Total Powerplant Exposure (sites)\")\n",
    "plt.title(\n",
    "    \"\"\"Total exposure of powerplants in Thailand\n",
    "to river floods of varying return periods\"\"\"\n",
    ")\n",
    "\n",
    "plt.xticks(probabilities, return_periods, rotation=90)\n",
    "plt.yticks(range(50, 55))\n",
    "plt.savefig(base_dir / \"figures\" / \"rp_exposure_jrc-flood_power-sites.png\")\n",
    "None"
   ]
  },
  {
   "cell_type": "code",
   "execution_count": null,
   "metadata": {},
   "outputs": [],
   "source": [
    "# Aggregate exposure for each return period\n",
    "total_power_damage = (\n",
    "    powerplants_with_damages.filter(like=\"damage_usd__jrc_flood_\").sum() * 1e-9\n",
    ")\n",
    "\n",
    "# Extract return periods from column names\n",
    "return_periods = [int(col.split(\"_\")[-1]) for col in total_power_damage.index]\n",
    "probabilities = [1 / rp for rp in return_periods]\n",
    "\n",
    "# Plot the exposure\n",
    "fig = plt.figure(figsize=(10, 6), facecolor=\"white\", layout=\"constrained\")\n",
    "fig.patch.set_facecolor(\"white\")\n",
    "plt.plot(probabilities, total_power_damage, marker=\".\")\n",
    "plt.xlabel(\"Return Period (years)\")\n",
    "plt.ylabel(\"Total Powerplant Damage (billion USD)\")\n",
    "plt.title(\n",
    "    \"\"\"Total direct damages to powerplants in Thailand\n",
    "for river floods of varying return periods\"\"\"\n",
    ")\n",
    "\n",
    "plt.xticks(probabilities, return_periods, rotation=90)\n",
    "plt.savefig(base_dir / \"figures\" / \"rp_damage_jrc-flood_power.png\")\n",
    "None"
   ]
  },
  {
   "cell_type": "code",
   "execution_count": null,
   "metadata": {},
   "outputs": [],
   "source": [
    "# Aggregate exposure for each return period\n",
    "total_rail_exposure = rail_damage_a.filter(like=\"exposure_km__jrc_flood_\").sum() * 1e-3\n",
    "\n",
    "# Extract return periods from column names\n",
    "return_periods = [int(col.split(\"_\")[-1]) for col in total_rail_exposure.index]\n",
    "probabilities = [1 / rp for rp in return_periods]\n",
    "\n",
    "# Plot the exposure\n",
    "fig = plt.figure(figsize=(10, 6), facecolor=\"white\", layout=\"constrained\")\n",
    "fig.patch.set_facecolor(\"white\")\n",
    "plt.plot(probabilities, total_rail_exposure, marker=\".\")\n",
    "plt.xlabel(\"Return Period (years)\")\n",
    "plt.ylabel(\"Total Railway Exposure ('000 km)\")\n",
    "plt.title(\n",
    "    \"\"\"Total exposure of railways in Thailand\n",
    "to river floods of varying return periods\"\"\"\n",
    ")\n",
    "\n",
    "plt.xticks(probabilities, return_periods, rotation=90)\n",
    "plt.savefig(base_dir / \"figures\" / \"rp_exposure_jrc-flood_rail.png\")\n",
    "None"
   ]
  },
  {
   "cell_type": "code",
   "execution_count": null,
   "metadata": {},
   "outputs": [],
   "source": [
    "# Aggregate total damages for each return period\n",
    "total_rail_damages_a = rail_damage_a.filter(like=\"damage_usd__jrc_flood_\").sum() * 10e-9\n",
    "total_rail_damages_b = rail_damage_b.filter(like=\"damage_usd__jrc_flood_\").sum() * 10e-9\n",
    "total_rail_damages_center = (total_rail_damages_a + total_rail_damages_b) / 2\n",
    "\n",
    "# Extract return periods from column names\n",
    "return_periods = [int(col.split(\"_\")[-1]) for col in total_rail_damages_a.index]\n",
    "probabilities = [1 / rp for rp in return_periods]\n",
    "\n",
    "# Plot the damages\n",
    "fig = plt.figure(figsize=(10, 6), facecolor=\"white\", layout=\"constrained\")\n",
    "fig.patch.set_facecolor(\"white\")\n",
    "plt.plot(probabilities, total_rail_damages_center, marker=\".\")\n",
    "plt.fill_between(probabilities, total_rail_damages_a, total_rail_damages_b, alpha=0.5)\n",
    "plt.xlabel(\"Return Period (years)\")\n",
    "plt.ylabel(\"Total Rail Damages (billion USD)\")\n",
    "plt.title(\n",
    "    \"\"\"Total direct damages to railways in Thailand\n",
    "for river floods of varying return periods\"\"\"\n",
    ")\n",
    "\n",
    "plt.xticks(probabilities, return_periods, rotation=90)\n",
    "plt.savefig(base_dir / \"figures\" / \"rp_damage_jrc-flood_rail.png\")\n",
    "None"
   ]
  },
  {
   "cell_type": "code",
   "execution_count": null,
   "metadata": {},
   "outputs": [],
   "source": [
    "# Aggregate exposure for each return period\n",
    "total_road_exposure = (\n",
    "    road_damage_upper.filter(like=\"exposure_km__jrc_flood_\").sum() * 1e-3\n",
    ")\n",
    "\n",
    "# Extract return periods from column names\n",
    "return_periods = [int(col.split(\"_\")[-1]) for col in total_road_exposure.index]\n",
    "probabilities = [1 / rp for rp in return_periods]\n",
    "\n",
    "# Plot the exposure\n",
    "fig = plt.figure(figsize=(10, 6), facecolor=\"white\", layout=\"constrained\")\n",
    "fig.patch.set_facecolor(\"white\")\n",
    "plt.plot(probabilities, total_road_exposure, marker=\".\")\n",
    "plt.xlabel(\"Return Period (years)\")\n",
    "plt.ylabel(\"Total road Exposure ('000 km)\")\n",
    "plt.title(\n",
    "    \"\"\"Total exposure of roads in Thailand\n",
    "to river floods of varying return periods\"\"\"\n",
    ")\n",
    "\n",
    "plt.xticks(probabilities, return_periods, rotation=90)\n",
    "plt.savefig(base_dir / \"figures\" / \"rp_exposure_jrc-flood_road.png\")\n",
    "None"
   ]
  },
  {
   "cell_type": "code",
   "execution_count": null,
   "metadata": {},
   "outputs": [],
   "source": [
    "# Aggregate total damages for each return period\n",
    "dmg_road_a = road_damage_lower.filter(like=\"damage_usd__jrc_flood_\").sum() * 10e-9\n",
    "dmg_road_b = road_damage_upper.filter(like=\"damage_usd__jrc_flood_\").sum() * 10e-9\n",
    "dmg_road_c = (dmg_road_a + dmg_road_b) / 2\n",
    "\n",
    "# Extract return periods from column names\n",
    "return_periods = [int(col.split(\"_\")[-1]) for col in dmg_road_a.index]\n",
    "probabilities = [1 / rp for rp in return_periods]\n",
    "\n",
    "# Plot the damages\n",
    "fig = plt.figure(figsize=(10, 6), facecolor=\"white\", layout=\"constrained\")\n",
    "fig.patch.set_facecolor(\"white\")\n",
    "plt.plot(probabilities, dmg_road_c, marker=\".\")\n",
    "plt.fill_between(probabilities, dmg_road_a, dmg_road_b, alpha=0.5)\n",
    "plt.xlabel(\"Return Period (years)\")\n",
    "plt.ylabel(\"Total Rail Damages (billion USD)\")\n",
    "plt.title(\n",
    "    \"\"\"Total direct damages to roads in Thailand\n",
    "for river floods of varying return periods\"\"\"\n",
    ")\n",
    "\n",
    "plt.xticks(probabilities, return_periods, rotation=90)\n",
    "plt.savefig(base_dir / \"figures\" / \"rp_damage_jrc-flood_road.png\")\n",
    "None"
   ]
  },
  {
   "cell_type": "code",
   "execution_count": null,
   "metadata": {},
   "outputs": [],
   "source": [
    "# Aggregate exposure for each return period\n",
    "exposure_by_asset_type = {}\n",
    "for asset_type, asset_exposure in road_damage_upper.groupby(\"asset_type\"):\n",
    "    exposure_by_asset_type[asset_type] = (\n",
    "        asset_exposure.filter(like=\"exposure_km__jrc_flood_\").sum() * 10e-3\n",
    "    )"
   ]
  },
  {
   "cell_type": "code",
   "execution_count": null,
   "metadata": {},
   "outputs": [],
   "source": [
    "fig, ax = plt.subplots(facecolor=\"white\", layout=\"constrained\")\n",
    "fig.patch.set_facecolor(\"white\")\n",
    "\n",
    "# Stacked area\n",
    "# ax.stackplot(probabilities, damage_by_asset_type.values(),\n",
    "#              labels=damage_by_asset_type.keys(), alpha=0.8)\n",
    "\n",
    "# Grouped bar\n",
    "x = numpy.arange(len(return_periods))\n",
    "width = 1 / (len(exposure_by_asset_type) + 1)  # the width of the bars\n",
    "multiplier = 0\n",
    "for attribute, measurement in exposure_by_asset_type.items():\n",
    "    offset = width * multiplier\n",
    "    rects = ax.bar(\n",
    "        x + offset, measurement, width, label=attribute.replace(\"road_\", \"\").title()\n",
    "    )\n",
    "    multiplier += 1\n",
    "ax.set_ylim(0, 800)\n",
    "plt.xlabel(\"Return Period (years)\")\n",
    "plt.ylabel(\"Sector Road Exposure ('000 km)\")\n",
    "plt.title(\n",
    "    \"\"\"Direct Exposure of roads in Thailand\n",
    "to river floods of varying return periods\"\"\"\n",
    ")\n",
    "plt.legend(facecolor=\"white\", framealpha=1)\n",
    "\n",
    "# Stacked area\n",
    "# plt.xticks(probabilities, return_periods, rotation=90)\n",
    "\n",
    "# Grouped bar\n",
    "plt.xticks(x + width * 2, return_periods)\n",
    "\n",
    "plt.savefig(base_dir / \"figures\" / \"rp_exposure_jrc-flood_road_sector.png\")"
   ]
  },
  {
   "cell_type": "code",
   "execution_count": null,
   "metadata": {},
   "outputs": [],
   "source": [
    "damage_by_asset_type = {}\n",
    "for asset_type, asset_damage in road_damage_upper.groupby(\"asset_type\"):\n",
    "    damage_by_asset_type[asset_type] = (\n",
    "        asset_damage.filter(like=\"damage_usd__jrc_flood_\").sum() * 10e-9\n",
    "    )"
   ]
  },
  {
   "cell_type": "code",
   "execution_count": null,
   "metadata": {},
   "outputs": [],
   "source": [
    "fig, ax = plt.subplots(facecolor=\"white\", layout=\"constrained\")\n",
    "fig.patch.set_facecolor(\"white\")\n",
    "\n",
    "# Stacked area\n",
    "# ax.stackplot(probabilities, damage_by_asset_type.values(),\n",
    "#              labels=damage_by_asset_type.keys(), alpha=0.8)\n",
    "\n",
    "# Grouped bar\n",
    "x = numpy.arange(len(return_periods))\n",
    "width = 1 / (len(damage_by_asset_type) + 1)  # the width of the bars\n",
    "multiplier = 0\n",
    "for attribute, measurement in damage_by_asset_type.items():\n",
    "    offset = width * multiplier\n",
    "    rects = ax.bar(\n",
    "        x + offset, measurement, width, label=attribute.replace(\"road_\", \"\").title()\n",
    "    )\n",
    "    multiplier += 1\n",
    "ax.set_ylim(0, 1400)\n",
    "plt.xlabel(\"Return Period (years)\")\n",
    "plt.ylabel(\"Sector Road Damages (billion USD)\")\n",
    "plt.title(\n",
    "    \"\"\"Direct damages to roads in Thailand\n",
    "for river floods of varying return periods\"\"\"\n",
    ")\n",
    "plt.legend(facecolor=\"white\", framealpha=1, loc=\"upper left\")\n",
    "\n",
    "# Stacked area\n",
    "# plt.xticks(probabilities, return_periods, rotation=90)\n",
    "\n",
    "# Grouped bar\n",
    "plt.xticks(x + width * 2, return_periods)\n",
    "\n",
    "plt.savefig(base_dir / \"figures\" / \"rp_damage_jrc-flood_road_sector.png\")"
   ]
  },
  {
   "cell_type": "code",
   "execution_count": null,
   "metadata": {},
   "outputs": [],
   "source": [
    "fig, ax1 = plt.subplots(facecolor=\"white\", layout=\"constrained\")\n",
    "fig.patch.set_facecolor(\"white\")\n",
    "\n",
    "ax2 = ax1.twinx()\n",
    "\n",
    "ax1.set_title(\n",
    "    \"\"\"Total exposure of infrastructure in Thailand\n",
    "to river floods of varying return periods\"\"\"\n",
    ")\n",
    "\n",
    "ax1.set_xticks(probabilities, return_periods, rotation=90)\n",
    "ax1.set_xlabel(\"Return Period (years)\")\n",
    "\n",
    "ax1.set_ylabel(\"Total Road and Rail Exposure ('000 km)\")\n",
    "ax1.set_ylim(0, 120)\n",
    "\n",
    "line_power = ax2.plot(\n",
    "    probabilities,\n",
    "    total_powerplants_exposure,\n",
    "    marker=\".\",\n",
    "    color=\"red\",\n",
    "    zorder=2.5,\n",
    "    label=\"Power\",\n",
    ")\n",
    "line_rail = ax1.plot(\n",
    "    probabilities, total_rail_exposure, marker=\".\", zorder=2.5, label=\"Rail\"\n",
    ")\n",
    "line_road = ax1.plot(\n",
    "    probabilities, total_road_exposure, marker=\".\", zorder=2.5, label=\"Road\"\n",
    ")\n",
    "\n",
    "\n",
    "ax2.set_ylabel(\"Total Powerplant Exposure (sites)\")\n",
    "ax2.set_ylim(30, 60)\n",
    "\n",
    "ax2.grid(False)\n",
    "\n",
    "fig.legend(\n",
    "    handles=[line_road[0], line_power[0], line_rail[0]],\n",
    "    loc=\"center right\",\n",
    "    bbox_to_anchor=(0.9, 0.4),\n",
    ")\n",
    "# fig.tight_layout()\n",
    "plt.savefig(base_dir / \"figures\" / \"rp_exposure_jrc-flood_all.png\")\n",
    "None"
   ]
  },
  {
   "cell_type": "code",
   "execution_count": null,
   "metadata": {},
   "outputs": [],
   "source": [
    "fig, ax = plt.subplots()\n",
    "fig.patch.set_facecolor(\"white\")\n",
    "\n",
    "ax.set_title(\n",
    "    \"\"\"Total direct damages to infrastructure in Thailand\n",
    "for river floods of varying return periods\"\"\"\n",
    ")\n",
    "\n",
    "ax.set_xticks(probabilities, return_periods, rotation=90)\n",
    "ax.set_xlabel(\"Return Period (years)\")\n",
    "\n",
    "ax.set_ylabel(\"Total Damage (billion USD)\")\n",
    "# ax.set_yscale('log')\n",
    "\n",
    "line_power = ax.plot(\n",
    "    probabilities,\n",
    "    total_power_damage,\n",
    "    marker=\".\",\n",
    "    color=\"red\",\n",
    "    zorder=2.5,\n",
    "    label=\"Power\",\n",
    ")\n",
    "line_rail = ax.plot(\n",
    "    probabilities, total_rail_damages_center, marker=\".\", zorder=2.5, label=\"Rail\"\n",
    ")\n",
    "line_road = ax.plot(probabilities, dmg_road_c, marker=\".\", zorder=2.5, label=\"Road\")\n",
    "\n",
    "\n",
    "fig.legend(\n",
    "    handles=[line_road[0], line_rail[0], line_power[0]],\n",
    "    loc=\"center right\",\n",
    "    bbox_to_anchor=(0.9, 0.2),\n",
    ")\n",
    "fig.tight_layout()\n",
    "plt.savefig(base_dir / \"figures\" / \"rp_damage_jrc-flood_all.png\")\n",
    "None"
   ]
  },
  {
   "cell_type": "markdown",
   "metadata": {},
   "source": [
    "# Trade flow measures\n"
   ]
  },
  {
   "cell_type": "code",
   "execution_count": null,
   "metadata": {},
   "outputs": [],
   "source": [
    "list(\n",
    "    (base_dir / \"transport_disruption\" / \"flow_allocation\" / \"project-thailand\").glob(\n",
    "        \"*pq\"\n",
    "    )\n",
    ")"
   ]
  },
  {
   "cell_type": "code",
   "execution_count": null,
   "metadata": {},
   "outputs": [],
   "source": [
    "flow_edges = geopandas.read_parquet(\n",
    "    base_dir\n",
    "    / \"transport_disruption\"\n",
    "    / \"flow_allocation\"\n",
    "    / \"project-thailand\"\n",
    "    / \"edges.gpq\"\n",
    ")"
   ]
  },
  {
   "cell_type": "code",
   "execution_count": null,
   "metadata": {},
   "outputs": [],
   "source": [
    "def join_id(row):\n",
    "    ids = sorted([row.to_id, row.from_id])\n",
    "    return f\"{ids[0]}--{ids[1]}\"\n",
    "\n",
    "\n",
    "road_flow_edges = flow_edges.query(\"mode == 'road'\").copy()\n",
    "road_flow_edges[\"join_id\"] = road_flow_edges.apply(join_id, axis=1)\n",
    "road_flow_edges.shape"
   ]
  },
  {
   "cell_type": "code",
   "execution_count": null,
   "metadata": {},
   "outputs": [],
   "source": [
    "delta = geopandas.read_parquet(\n",
    "    base_dir / \"transport_disruption\" / \"thailand_floods_trade_flow_delta.gpq\"\n",
    ")"
   ]
  },
  {
   "cell_type": "code",
   "execution_count": null,
   "metadata": {},
   "outputs": [],
   "source": [
    "delta[\"join_id\"] = delta.apply(join_id, axis=1)\n",
    "delta.head(2)"
   ]
  },
  {
   "cell_type": "code",
   "execution_count": null,
   "metadata": {},
   "outputs": [],
   "source": [
    "road_damage_upper.columns"
   ]
  },
  {
   "cell_type": "code",
   "execution_count": null,
   "metadata": {},
   "outputs": [],
   "source": [
    "road_damage_to_group = road_damage_upper[\n",
    "    [\n",
    "        \"from_id\",\n",
    "        \"to_id\",\n",
    "        \"jrc_flood_010\",\n",
    "        \"jrc_flood_020\",\n",
    "        \"jrc_flood_050\",\n",
    "        \"jrc_flood_100\",\n",
    "        \"jrc_flood_200\",\n",
    "        \"jrc_flood_500\",\n",
    "        \"damage_usd__jrc_flood_010\",\n",
    "        \"damage_usd__jrc_flood_020\",\n",
    "        \"damage_usd__jrc_flood_050\",\n",
    "        \"damage_usd__jrc_flood_100\",\n",
    "        \"damage_usd__jrc_flood_200\",\n",
    "        \"damage_usd__jrc_flood_500\",\n",
    "    ]\n",
    "].copy()\n",
    "road_damage_to_group.from_id = road_damage_to_group.from_id.apply(\n",
    "    lambda id: f\"road_{id}\"\n",
    ")\n",
    "road_damage_to_group.to_id = road_damage_to_group.to_id.apply(lambda id: f\"road_{id}\")\n",
    "road_damage_to_group[\"join_id\"] = road_damage_to_group.apply(join_id, axis=1)\n",
    "\n",
    "road_damage_grouped = (\n",
    "    road_damage_to_group.drop(columns=[\"from_id\", \"to_id\"])\n",
    "    .groupby(\n",
    "        [\n",
    "            \"join_id\",\n",
    "        ]\n",
    "    )\n",
    "    .sum()\n",
    "    .reset_index()\n",
    "    .set_index(\"join_id\")\n",
    ")"
   ]
  },
  {
   "cell_type": "code",
   "execution_count": null,
   "metadata": {},
   "outputs": [],
   "source": [
    "flows_and_damages = delta.set_index(\"join_id\").join(road_damage_grouped)\n",
    "flows_and_damages.ref.fillna(\"-\", inplace=True)\n",
    "flows_and_damages.fillna(0, inplace=True)"
   ]
  },
  {
   "cell_type": "code",
   "execution_count": null,
   "metadata": {},
   "outputs": [],
   "source": [
    "flows_and_damages.head()"
   ]
  },
  {
   "cell_type": "code",
   "execution_count": null,
   "metadata": {},
   "outputs": [],
   "source": [
    "for key in rasters.key:\n",
    "    # damage_mask = (flows_and_damages[f\"damage_usd__{key}\"] > 0)  # alternative assume disrupted if nonzero damage\n",
    "    depth_mask = flows_and_damages[key] > 0.5  # assume disrupted if flood depth > 0.5m\n",
    "    flows_and_damages[f\"flow_kusd__{key}\"] = numpy.maximum(\n",
    "        flows_and_damages.nominal_value_kusd * depth_mask,\n",
    "        0,\n",
    "    )\n",
    "    flows_and_damages[f\"flow_td-1__{key}\"] = numpy.maximum(\n",
    "        flows_and_damages.nominal_volume_tons * depth_mask,\n",
    "        0,\n",
    "    )"
   ]
  },
  {
   "cell_type": "code",
   "execution_count": null,
   "metadata": {},
   "outputs": [],
   "source": [
    "def plot_in_country_trade_flows(\n",
    "    ax,\n",
    "    edges: geopandas.GeoDataFrame,\n",
    "    boundaries: geopandas.GeoDataFrame,\n",
    "    title: str,\n",
    "    column: str,\n",
    "    column_label: str,\n",
    "    vmin: float,\n",
    "    vmax: float,\n",
    "    legend: bool,\n",
    ") -> None:\n",
    "    to_plot = edges[edges[column] != 0]\n",
    "    to_plot_zeros = edges[edges[column] <= 0]\n",
    "    norm = LogNorm(10 ** numpy.log10(vmin), 10 ** numpy.log10(vmax))\n",
    "    to_plot_zeros.plot(\n",
    "        color=\"#eeeeee\",\n",
    "        ax=ax,\n",
    "        linewidth=0.2,\n",
    "    )\n",
    "    to_plot.sort_values(column).plot(\n",
    "        column,\n",
    "        ax=ax,\n",
    "        legend=legend,\n",
    "        norm=norm,\n",
    "        alpha=0.7,\n",
    "        legend_kwds={\"shrink\": 0.5, \"label\": column_label},\n",
    "        cmap=\"magma_r\",\n",
    "    )\n",
    "    xmin, xmax = ax.get_xlim()\n",
    "    ymin, ymax = ax.get_ylim()\n",
    "    ax.set_yticks(range(5, 22))\n",
    "    xticks = range(98, 106)\n",
    "    ax.set_xticks(xticks, labels=[str(t) for t in xticks])\n",
    "    boundaries.plot(ax=ax, lw=0.5, alpha=0.2)\n",
    "    ax.set_xlim(xmin, xmax)\n",
    "    ax.set_ylim(ymin, ymax)\n",
    "    ax.grid(alpha=0.3)\n",
    "    ax.set_xlabel(\"Longitude [deg]\")\n",
    "    ax.set_ylabel(\"Latitude [deg]\")\n",
    "    ax.set_title(title)\n",
    "    return ax\n",
    "\n",
    "\n",
    "f, axs = plt.subplots(1, 2, figsize=(15, 12))\n",
    "\n",
    "vmin = flows_and_damages.volume_tons[flows_and_damages.volume_tons > 0].quantile(0.1)\n",
    "vmax = flows_and_damages.volume_tons.max()\n",
    "plot_in_country_trade_flows(\n",
    "    axs[0],\n",
    "    flows_and_damages,\n",
    "    adm0,\n",
    "    \"10y return period\",\n",
    "    \"flow_td-1__jrc_flood_010\",\n",
    "    \"Flow volume [t/d]\",\n",
    "    vmin,\n",
    "    vmax,\n",
    "    False,\n",
    ")\n",
    "plot_in_country_trade_flows(\n",
    "    axs[1],\n",
    "    flows_and_damages,\n",
    "    adm0,\n",
    "    \"100y return period\",\n",
    "    \"flow_td-1__jrc_flood_100\",\n",
    "    \"Flow volume [t/d]\",\n",
    "    vmin,\n",
    "    vmax,\n",
    "    True,\n",
    ")\n",
    "f.tight_layout()\n",
    "f.savefig(base_dir / \"figures\" / \"rp_transport_disruption_010-100.png\")"
   ]
  },
  {
   "cell_type": "code",
   "execution_count": null,
   "metadata": {},
   "outputs": [],
   "source": [
    "flows_and_damages_with_ref = flows_and_damages  # .join(delta.set_index(\"join_id\")[[\"name_en\", \"ref\", \"osm_way_id\"]])\n",
    "flows_and_damages_with_ref.osm_way_id = flows_and_damages_with_ref.osm_way_id.fillna(\n",
    "    -1\n",
    ").astype(\"int\")\n",
    "flows_and_damages_with_ref.ref = flows_and_damages_with_ref.ref.fillna(\"-\").astype(\n",
    "    \"str\"\n",
    ")"
   ]
  },
  {
   "cell_type": "code",
   "execution_count": null,
   "metadata": {},
   "outputs": [],
   "source": [
    "vol_disruption = (\n",
    "    flows_and_damages_with_ref[\n",
    "        [\n",
    "            \"name_en\",\n",
    "            \"ref\",\n",
    "            \"tag_highway\",\n",
    "            \"osm_way_id\",\n",
    "            \"flow_td-1__jrc_flood_010\",\n",
    "            \"flow_td-1__jrc_flood_100\",\n",
    "            \"damage_usd__jrc_flood_010\",\n",
    "            \"damage_usd__jrc_flood_100\",\n",
    "        ]\n",
    "    ].sort_values(\"flow_td-1__jrc_flood_100\", ascending=False)\n",
    "    # .head(200)\n",
    ")\n",
    "vol_disruption.set_index(\"osm_way_id\").loc[1287965816, :]"
   ]
  },
  {
   "cell_type": "code",
   "execution_count": null,
   "metadata": {},
   "outputs": [],
   "source": [
    "flows_and_damages_with_ref[\n",
    "    flows_and_damages_with_ref[\"flow_td-1__jrc_flood_010\"]\n",
    "    < flows_and_damages_with_ref[\"flow_td-1__jrc_flood_500\"]\n",
    "].shape"
   ]
  },
  {
   "cell_type": "code",
   "execution_count": null,
   "metadata": {},
   "outputs": [],
   "source": [
    "vol_disruption = (\n",
    "    flows_and_damages_with_ref[\n",
    "        [\n",
    "            \"name_en\",\n",
    "            \"ref\",\n",
    "            \"tag_highway\",\n",
    "            \"osm_way_id\",\n",
    "            \"flow_td-1__jrc_flood_010\",\n",
    "            \"flow_td-1__jrc_flood_100\",\n",
    "            \"damage_usd__jrc_flood_010\",\n",
    "            \"damage_usd__jrc_flood_100\",\n",
    "        ]\n",
    "    ]\n",
    "    .groupby([\"name_en\"])\n",
    "    .agg(\n",
    "        {\n",
    "            \"ref\": \"first\",\n",
    "            \"osm_way_id\": \"first\",\n",
    "            \"tag_highway\": \"first\",\n",
    "            \"flow_td-1__jrc_flood_010\": \"max\",\n",
    "            \"flow_td-1__jrc_flood_100\": \"max\",\n",
    "            \"damage_usd__jrc_flood_010\": \"sum\",\n",
    "            \"damage_usd__jrc_flood_100\": \"sum\",\n",
    "        }\n",
    "    )\n",
    "    .sort_values(\"flow_td-1__jrc_flood_100\", ascending=False)\n",
    "    .reset_index()\n",
    "    # .drop_duplicates(subset=\"name_en\")\n",
    "    .head(20)[\n",
    "        [\n",
    "            \"osm_way_id\",\n",
    "            \"flow_td-1__jrc_flood_010\",\n",
    "            \"damage_usd__jrc_flood_010\",\n",
    "            \"flow_td-1__jrc_flood_100\",\n",
    "            \"damage_usd__jrc_flood_100\",\n",
    "            \"name_en\",\n",
    "            \"ref\",\n",
    "            \"tag_highway\",\n",
    "        ]\n",
    "    ]\n",
    ")\n",
    "\n",
    "for col in [\"flow_td-1__jrc_flood_010\", \"flow_td-1__jrc_flood_100\"]:\n",
    "    vol_disruption[col] = vol_disruption[col].round(-1).astype(int)\n",
    "for col in [\"damage_usd__jrc_flood_010\", \"damage_usd__jrc_flood_100\"]:\n",
    "    vol_disruption[col] = (vol_disruption[col] * 1e-3).round(-1).astype(int)\n",
    "\n",
    "\n",
    "vol_disruption.to_csv(base_dir / \"figures\" / \"rp_transport_disruption_010-100.csv\")\n",
    "vol_disruption"
   ]
  },
  {
   "cell_type": "markdown",
   "metadata": {},
   "source": [
    "# Buildings exposure and damage calculations\n"
   ]
  },
  {
   "cell_type": "code",
   "execution_count": null,
   "metadata": {},
   "outputs": [],
   "source": [
    "# Input value in terms of built capital from GIRI BEM\n",
    "# rr_val_5x5_tif = base_dir / \"processed_data/giri-bem/bem_5x5_valfis_res__THA.tif\"\n",
    "# nr_val_5x5_tif = base_dir / \"processed_data/giri-bem/bem_5x5_valfis_nres__THA.tif\"\n",
    "\n",
    "# Input volume in terms of building volume from JRC GHSL\n",
    "# rr_vol_3ss_tif = base_dir / \"processed_data/ghsl/ghs_built_v_res_3ss__THA.tif\"\n",
    "# nr_vol_3ss_tif = base_dir / \"processed_data/ghsl/ghs_built_v_nres_3ss__THA.tif\"\n",
    "\n",
    "# Processed into value in terms of built capital, downscaled on volume\n",
    "# see notebooks/built-capital-gva.ipynb and scripts/building_damages.py\n",
    "rr_val_3ss_tif = base_dir / \"processed_data/giri-bem/bem_3ss_valfis_nres__THA.tif\"\n",
    "nr_val_3ss_tif = base_dir / \"processed_data/giri-bem/bem_3ss_valfis_nres__THA.tif\""
   ]
  },
  {
   "cell_type": "code",
   "execution_count": null,
   "metadata": {},
   "outputs": [],
   "source": [
    "rr_val, rr_ds = read_raster_ds(rr_val_3ss_tif)\n",
    "nr_val, nr_ds = read_raster_ds(nr_val_3ss_tif)"
   ]
  },
  {
   "cell_type": "code",
   "execution_count": null,
   "metadata": {},
   "outputs": [],
   "source": [
    "rr_damage_curve = PiecewiseLinearDamageCurve.from_csv(\n",
    "    \"../config/damage_curves/flood/residential_asia.csv\",\n",
    "    intensity_col=\"inundation_depth_(m)\",\n",
    "    damage_col=\"damage_fraction\",\n",
    ")\n",
    "nr_damage_curve = PiecewiseLinearDamageCurve.from_csv(\n",
    "    \"../config/damage_curves/flood/commercial_asia.csv\",\n",
    "    intensity_col=\"inundation_depth_(m)\",\n",
    "    damage_col=\"damage_fraction\",\n",
    ")"
   ]
  },
  {
   "cell_type": "code",
   "execution_count": null,
   "metadata": {},
   "outputs": [],
   "source": [
    "list(rasters_3ss.path)"
   ]
  },
  {
   "cell_type": "code",
   "execution_count": null,
   "metadata": {},
   "outputs": [],
   "source": [
    "def calculate_damage_val(depth, value, damage_curve):\n",
    "    damage_fraction = damage_curve.damage_fraction(depth)\n",
    "    damage_value = value * damage_fraction\n",
    "    return damage_value"
   ]
  },
  {
   "cell_type": "code",
   "execution_count": null,
   "metadata": {},
   "outputs": [],
   "source": [
    "rr_rp = {}\n",
    "nr_rp = {}\n",
    "for row in rasters_3ss.itertuples():\n",
    "    print(row)\n",
    "    rp_depth, rp_depth_ds = read_raster_ds(row.path)\n",
    "    transform = rp_depth_ds.transform\n",
    "    rr_dmg = calculate_damage_val(rp_depth, rr_val, rr_damage_curve)\n",
    "    nr_dmg = calculate_damage_val(rp_depth, nr_val, nr_damage_curve)\n",
    "    write_raster_ds(\n",
    "        base_dir / \"buildings_flood\" / f\"dmg_val_res__{row.key}.tif\", rr_dmg, transform\n",
    "    )\n",
    "    write_raster_ds(\n",
    "        base_dir / \"buildings_flood\" / f\"dmg_val_nres__{row.key}.tif\", nr_dmg, transform\n",
    "    )\n",
    "    rr_rp[row.rp] = rr_dmg\n",
    "    nr_rp[row.rp] = nr_dmg"
   ]
  },
  {
   "cell_type": "code",
   "execution_count": null,
   "metadata": {},
   "outputs": [],
   "source": [
    "rps = []\n",
    "rr = []\n",
    "nr = []\n",
    "for rp, rr_dmg in rr_rp.items():\n",
    "    rps.append(rp)\n",
    "    rr.append(rr_dmg.sum() * 1e-9)\n",
    "    nr.append(nr_rp[rp].sum() * 1e-9)"
   ]
  },
  {
   "cell_type": "code",
   "execution_count": null,
   "metadata": {},
   "outputs": [],
   "source": [
    "fig, ax = plt.subplots(facecolor=\"white\", layout=\"constrained\")\n",
    "fig.patch.set_facecolor(\"white\")\n",
    "\n",
    "ax.set_title(\n",
    "    \"\"\"Total direct damages to built capital in Thailand\n",
    "for river floods of varying return periods\"\"\"\n",
    ")\n",
    "probabilities = [1 / rp for rp in rps]\n",
    "ax.set_xticks(probabilities, rps, rotation=90)\n",
    "ax.set_xlabel(\"Return Period (years)\")\n",
    "\n",
    "ax.set_ylabel(\"Total Damage (billion USD)\")\n",
    "# ax.set_yscale('log')\n",
    "\n",
    "line_res = ax.plot(probabilities, rr, marker=\".\", zorder=2.5, label=\"Residential\")\n",
    "line_nres = ax.plot(probabilities, nr, marker=\".\", zorder=2.5, label=\"Non-residential\")\n",
    "\n",
    "\n",
    "fig.legend(\n",
    "    handles=[line_nres[0], line_res[0]],\n",
    "    loc=\"center right\",\n",
    "    bbox_to_anchor=(0.9, 0.75),\n",
    ")\n",
    "plt.savefig(base_dir / \"figures\" / \"rp_damage_jrc-flood_buildings.png\")\n",
    "None"
   ]
  }
 ],
 "metadata": {
  "kernelspec": {
   "display_name": "Python 3",
   "language": "python",
   "name": "python3"
  },
  "language_info": {
   "codemirror_mode": {
    "name": "ipython",
    "version": 3
   },
   "file_extension": ".py",
   "mimetype": "text/x-python",
   "name": "python",
   "nbconvert_exporter": "python",
   "pygments_lexer": "ipython3",
   "version": "3.10.13"
  }
 },
 "nbformat": 4,
 "nbformat_minor": 2
}
