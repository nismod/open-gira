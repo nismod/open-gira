{
 "cells": [
  {
   "cell_type": "code",
   "execution_count": null,
   "metadata": {},
   "outputs": [],
   "source": [
    "import csv\n",
    "import re\n",
    "from pathlib import Path\n",
    "\n",
    "import pandas\n",
    "import matplotlib.pyplot as plt"
   ]
  },
  {
   "cell_type": "code",
   "execution_count": null,
   "metadata": {},
   "outputs": [],
   "source": [
    "base_path = Path(\"/data/incoming/\")"
   ]
  },
  {
   "cell_type": "markdown",
   "metadata": {},
   "source": [
    "Note on columns:\n",
    "- `v` is value in thousand USD.\n",
    "- `q` is quantity in metric tons.\n",
    "- `hs` codes are strings (can start with zero, if they get mangled into integers they can be left-zero-padded to recover the n-digit string, and can extract shorter codes from the first n digits of the longer code). There are different editions every few years. Assuming these are HS2017."
   ]
  },
  {
   "cell_type": "code",
   "execution_count": null,
   "metadata": {},
   "outputs": [],
   "source": [
    "df = pandas.read_csv(\n",
    "    base_path\n",
    "    / \"verschuur-2024-baci-mode-prediction\"\n",
    "    / \"baci_mode_prediction_2020_HS6.csv\",\n",
    "    usecols=[\n",
    "        \"iso3_O\",\n",
    "        \"iso3_D\",\n",
    "        \"v\",\n",
    "        \"q\",\n",
    "        \"hs6\",\n",
    "        \"hs4\",\n",
    "        \"hs2\",\n",
    "        \"v_air_predict\",\n",
    "        \"v_sea_predict\",\n",
    "        \"v_land_predict\",\n",
    "        \"q_air_predict\",\n",
    "        \"q_sea_predict\",\n",
    "        \"q_land_predict\",\n",
    "    ],\n",
    "    dtype={\n",
    "        \"hs6\": \"str\",\n",
    "        \"hs4\": \"str\",\n",
    "        \"hs2\": \"str\",\n",
    "    },\n",
    ")\n",
    "df"
   ]
  },
  {
   "cell_type": "code",
   "execution_count": null,
   "metadata": {},
   "outputs": [],
   "source": [
    "df.hs6 = df.hs6.str.zfill(6)\n",
    "df.hs4 = df.hs4.str.zfill(4)\n",
    "df.hs2 = df.hs2.str.zfill(2)"
   ]
  },
  {
   "cell_type": "code",
   "execution_count": null,
   "metadata": {},
   "outputs": [],
   "source": [
    "# df = df.query(\"iso3_O == 'THA' | iso3_D == 'THA'\")"
   ]
  },
  {
   "cell_type": "code",
   "execution_count": null,
   "metadata": {},
   "outputs": [],
   "source": [
    "! cd {base_path / \"BACI\"} && wget -q -nc https://unstats.un.org/unsd/classifications/Econ/tables/CPC/CPCv21_HS2017/CPC21-HS2017.csv\n",
    "! cd {base_path / \"BACI\"} && wget -q -nc https://unstats.un.org/unsd/classifications/Econ/tables/ISIC/ISIC4_CPCv21/isic4-cpc21.txt\n",
    "! cd {base_path / \"BACI\"} && wget -q -nc https://unstats.un.org/unsd/classifications/Econ/Download/In%20Text/ISIC_Rev_4_english_structure.Txt"
   ]
  },
  {
   "cell_type": "code",
   "execution_count": null,
   "metadata": {},
   "outputs": [],
   "source": [
    "codes_cpc21_hs17 = pandas.read_csv(\n",
    "    base_path / \"BACI\" / \"CPC21-HS2017.csv\", dtype=\"str\"\n",
    ").rename(columns={\"HS 2017\": \"hs17_6\", \"CPC Ver. 2.1\": \"cpc21\"})[[\"hs17_6\", \"cpc21\"]]\n",
    "codes_cpc21_hs17.hs17_6 = codes_cpc21_hs17.hs17_6.str.replace(\".\", \"\")\n",
    "codes_isic4_cpc21 = pandas.read_csv(\n",
    "    base_path / \"BACI\" / \"isic4-cpc21.txt\", dtype=\"str\"\n",
    ").rename(columns={\"ISIC4code\": \"isic_rev4_4\", \"CPC21code\": \"cpc21\"})[\n",
    "    [\"isic_rev4_4\", \"cpc21\"]\n",
    "]\n",
    "codes_hs17_isic = codes_cpc21_hs17.merge(codes_isic4_cpc21, on=\"cpc21\", how=\"left\")\n",
    "codes_hs17_isic[\"isic_rev4_2\"] = codes_hs17_isic.isic_rev4_4.str.slice(stop=2)\n",
    "codes_hs17_isic[\"hs17_4\"] = codes_hs17_isic.hs17_6.str.slice(stop=4)\n",
    "codes_hs17_4_isic = (\n",
    "    codes_hs17_isic.groupby(\"hs17_4\")\n",
    "    .first()\n",
    "    .reset_index()\n",
    "    .drop(columns=[\"hs17_6\", \"cpc21\"])\n",
    ")\n",
    "codes_hs17_isic[\"hs17_2\"] = codes_hs17_isic.hs17_6.str.slice(stop=2)\n",
    "codes_hs17_2_isic = (\n",
    "    codes_hs17_isic.groupby(\"hs17_2\")\n",
    "    .first()\n",
    "    .reset_index()\n",
    "    .drop(columns=[\"hs17_6\", \"hs17_4\", \"cpc21\", \"isic_rev4_4\"])\n",
    ")\n",
    "codes_hs17_2_isic"
   ]
  },
  {
   "cell_type": "code",
   "execution_count": null,
   "metadata": {},
   "outputs": [],
   "source": [
    "merge_via_cpc_hs4 = df.merge(\n",
    "    codes_hs17_2_isic, left_on=\"hs2\", right_on=\"hs17_2\", how=\"left\"\n",
    ")\n",
    "merge_via_cpc_hs4_success = merge_via_cpc_hs4[\n",
    "    ~merge_via_cpc_hs4.isic_rev4_2.isna()\n",
    "].drop(columns=[\"hs17_2\"])\n",
    "merge_via_cpc_hs4_fail = merge_via_cpc_hs4[merge_via_cpc_hs4.isic_rev4_2.isna()].drop(\n",
    "    columns=[\"isic_rev4_2\", \"hs17_2\"]\n",
    ")"
   ]
  },
  {
   "cell_type": "code",
   "execution_count": null,
   "metadata": {},
   "outputs": [],
   "source": [
    "merged = merge_via_cpc_hs4_success\n",
    "assert len(merged) == len(df)"
   ]
  },
  {
   "cell_type": "code",
   "execution_count": null,
   "metadata": {},
   "outputs": [],
   "source": [
    "with open(base_path / \"BACI\" / \"ISIC_Rev_4_english_structure.Txt\") as fh:\n",
    "    r = csv.DictReader(fh)\n",
    "    sector = \"\"\n",
    "    letter = \"\"\n",
    "    two_digit = \"\"\n",
    "    three_digit = \"\"\n",
    "    sector = \"\"\n",
    "    data = []\n",
    "\n",
    "    for row in r:\n",
    "        code = row[\"Code\"]\n",
    "        desc = row[\"Description\"]\n",
    "        is_numeric = re.match(\"^[0-9]+$\", code) is not None\n",
    "        num_digits = len(code)\n",
    "        if not is_numeric:\n",
    "            letter = code\n",
    "            if letter == \"A\":\n",
    "                sector = \"ag\"\n",
    "            elif letter in (\"B\", \"C\", \"D\", \"E\", \"F\"):\n",
    "                sector = \"man\"  ## and other industry\n",
    "            else:\n",
    "                sector = \"serv\"\n",
    "        elif num_digits == 2:\n",
    "            two_digit = code\n",
    "        elif num_digits == 3:\n",
    "            three_digit = code\n",
    "        else:\n",
    "            assert num_digits == 4\n",
    "            data.append(\n",
    "                {\n",
    "                    \"broad_sector\": sector,\n",
    "                    \"isic_rev4_1\": letter,\n",
    "                    \"isic_rev4_2\": two_digit,\n",
    "                    \"isic_rev4_4\": code,\n",
    "                    \"isic_rev4_desc\": desc,\n",
    "                }\n",
    "            )\n",
    "\n",
    "isic4_letter = pandas.DataFrame(data)\n",
    "isic4_letter.to_csv(base_path / \"BACI\" / \"ISIC_Rev_4_english_structure_clean.csv\")"
   ]
  },
  {
   "cell_type": "code",
   "execution_count": null,
   "metadata": {},
   "outputs": [],
   "source": [
    "isic4_letter_2 = (\n",
    "    isic4_letter[[\"broad_sector\", \"isic_rev4_1\", \"isic_rev4_2\"]]\n",
    "    .groupby(\"isic_rev4_2\")\n",
    "    .first()\n",
    ")"
   ]
  },
  {
   "cell_type": "code",
   "execution_count": null,
   "metadata": {},
   "outputs": [],
   "source": [
    "merged_with_sector = merged.merge(isic4_letter_2, on=\"isic_rev4_2\", how=\"left\")"
   ]
  },
  {
   "cell_type": "code",
   "execution_count": null,
   "metadata": {},
   "outputs": [],
   "source": [
    "merged_with_sector.columns"
   ]
  },
  {
   "cell_type": "code",
   "execution_count": null,
   "metadata": {},
   "outputs": [],
   "source": [
    "merged_with_sector.to_parquet(\n",
    "    \"../results/input/giri/THA/trade/baci_mode_split_matched_codes.parquet\", index=False\n",
    ")"
   ]
  },
  {
   "cell_type": "code",
   "execution_count": null,
   "metadata": {},
   "outputs": [],
   "source": [
    "grouped = (\n",
    "    merged_with_sector[\n",
    "        [\n",
    "            \"iso3_O\",\n",
    "            \"iso3_D\",\n",
    "            \"broad_sector\",\n",
    "            \"v\",\n",
    "            \"q\",\n",
    "            \"v_air_predict\",\n",
    "            \"v_sea_predict\",\n",
    "            \"v_land_predict\",\n",
    "            \"q_air_predict\",\n",
    "            \"q_sea_predict\",\n",
    "            \"q_land_predict\",\n",
    "        ]\n",
    "    ]\n",
    "    .groupby([\"iso3_O\", \"iso3_D\"])\n",
    "    .sum()\n",
    "    .reset_index()\n",
    ")\n",
    "\n",
    "grouped_sector = (\n",
    "    merged_with_sector[\n",
    "        [\n",
    "            \"iso3_O\",\n",
    "            \"iso3_D\",\n",
    "            \"broad_sector\",\n",
    "            \"v\",\n",
    "            \"q\",\n",
    "            \"v_air_predict\",\n",
    "            \"v_sea_predict\",\n",
    "            \"v_land_predict\",\n",
    "            \"q_air_predict\",\n",
    "            \"q_sea_predict\",\n",
    "            \"q_land_predict\",\n",
    "        ]\n",
    "    ]\n",
    "    .groupby([\"iso3_O\", \"iso3_D\", \"broad_sector\"])\n",
    "    .sum()\n",
    "    .reset_index()\n",
    ")"
   ]
  },
  {
   "cell_type": "code",
   "execution_count": null,
   "metadata": {},
   "outputs": [],
   "source": [
    "tha_trade = grouped.query(\"iso3_O == 'THA' | iso3_D == 'THA'\")\n",
    "tha_trade_sector = grouped_sector.query(\"iso3_O == 'THA' | iso3_D == 'THA'\")"
   ]
  },
  {
   "cell_type": "code",
   "execution_count": null,
   "metadata": {},
   "outputs": [],
   "source": [
    "tmp = tha_trade_sector.copy()\n",
    "\n",
    "\n",
    "def get_partner(row):\n",
    "    if row.iso3_O == \"THA\":\n",
    "        return row.iso3_D\n",
    "    return row.iso3_O\n",
    "\n",
    "\n",
    "tmp[\"iso3_partner\"] = tmp.apply(get_partner, axis=1)\n",
    "tmp.groupby([\"iso3_partner\"]).sum().query(\"(v > 1e9)\")[\n",
    "    [\"v_air_predict\", \"v_sea_predict\", \"v_land_predict\"]\n",
    "].plot(kind=\"bar\", title=\"THA trade mode split (value)\", ylabel=\"Value ('000 USD)\")\n",
    "plt.savefig(\"../results/input/giri/THA/trade/mode_split_THA_v_partners.png\")"
   ]
  },
  {
   "cell_type": "code",
   "execution_count": null,
   "metadata": {},
   "outputs": [],
   "source": [
    "tmp = tha_trade_sector.copy()\n",
    "\n",
    "\n",
    "def get_partner(row):\n",
    "    if row.iso3_O == \"THA\":\n",
    "        return row.iso3_D\n",
    "    return row.iso3_O\n",
    "\n",
    "\n",
    "tmp[\"iso3_partner\"] = tmp.apply(get_partner, axis=1)\n",
    "tmp.groupby([\"iso3_partner\"]).sum().query(\"(q > 1e6)\")[\n",
    "    [\"q_air_predict\", \"q_sea_predict\", \"q_land_predict\"]\n",
    "].plot(kind=\"bar\", title=\"THA trade mode split (volume)\", ylabel=\"Volume (metric tons)\")\n",
    "plt.savefig(\"../results/input/giri/THA/trade/mode_split_THA_q_partners.png\")"
   ]
  },
  {
   "cell_type": "code",
   "execution_count": null,
   "metadata": {},
   "outputs": [],
   "source": [
    "for sector in (\"ag\", \"man\"):\n",
    "    tmp = tha_trade_sector.query(\n",
    "        f\"iso3_D != 'THA' & broad_sector == '{sector}' & (v > 1e9)\"\n",
    "    )\n",
    "    tmp.set_index(\"iso3_D\")[\n",
    "        [\"broad_sector\", \"v_air_predict\", \"v_sea_predict\", \"v_land_predict\"]\n",
    "    ].plot(\n",
    "        kind=\"bar\",\n",
    "        title=f\"THA '{sector}' sector exports\",\n",
    "        ylabel=\"Value ('000 USD)\",\n",
    "        xlabel=\"Destination\",\n",
    "    )"
   ]
  },
  {
   "cell_type": "code",
   "execution_count": null,
   "metadata": {},
   "outputs": [],
   "source": [
    "tmp = tha_trade.query(\"iso3_O != 'THA' & (v > 1e9)\")\n",
    "tmp.set_index(\"iso3_O\")[[\"v_air_predict\", \"v_sea_predict\", \"v_land_predict\"]].plot(\n",
    "    kind=\"bar\", title=\"THA imports\", ylabel=\"Value ('000 USD)\", xlabel=\"Source\"\n",
    ")\n",
    "\n",
    "tmp = tha_trade.query(\"iso3_D != 'THA' & (v > 1e9)\")\n",
    "tmp.set_index(\"iso3_D\")[[\"v_air_predict\", \"v_sea_predict\", \"v_land_predict\"]].plot(\n",
    "    kind=\"bar\", title=\"THA exports\", ylabel=\"Value ('000 USD)\", xlabel=\"Destination\"\n",
    ")"
   ]
  },
  {
   "cell_type": "code",
   "execution_count": null,
   "metadata": {},
   "outputs": [],
   "source": [
    "# each way, value\n",
    "tha_import_split_v = (\n",
    "    merged_with_sector.query(\"iso3_D == 'THA'\")[\n",
    "        [\n",
    "            \"broad_sector\",\n",
    "            \"v_air_predict\",\n",
    "            \"v_sea_predict\",\n",
    "            \"v_land_predict\",\n",
    "        ]\n",
    "    ]\n",
    "    .groupby([\"broad_sector\"])\n",
    "    .sum()\n",
    "    .reset_index()\n",
    ")\n",
    "\n",
    "tha_export_split_v = (\n",
    "    merged_with_sector.query(\"iso3_O == 'THA'\")[\n",
    "        [\n",
    "            \"broad_sector\",\n",
    "            \"v_air_predict\",\n",
    "            \"v_sea_predict\",\n",
    "            \"v_land_predict\",\n",
    "        ]\n",
    "    ]\n",
    "    .groupby([\"broad_sector\"])\n",
    "    .sum()\n",
    "    .reset_index()\n",
    ")\n",
    "\n",
    "# each way, volume\n",
    "tha_import_split_q = (\n",
    "    merged_with_sector.query(\"iso3_D == 'THA'\")[\n",
    "        [\"broad_sector\", \"q_air_predict\", \"q_sea_predict\", \"q_land_predict\"]\n",
    "    ]\n",
    "    .groupby([\"broad_sector\"])\n",
    "    .sum()\n",
    "    .reset_index()\n",
    ")\n",
    "\n",
    "tha_export_split_q = (\n",
    "    merged_with_sector.query(\"iso3_O == 'THA'\")[\n",
    "        [\"broad_sector\", \"q_air_predict\", \"q_sea_predict\", \"q_land_predict\"]\n",
    "    ]\n",
    "    .groupby([\"broad_sector\"])\n",
    "    .sum()\n",
    "    .reset_index()\n",
    ")\n",
    "\n",
    "# either way\n",
    "tha_trade_split_q = (\n",
    "    merged_with_sector.query(\"iso3_O == 'THA' | iso3_D == 'THA'\")[\n",
    "        [\"broad_sector\", \"q_air_predict\", \"q_sea_predict\", \"q_land_predict\"]\n",
    "    ]\n",
    "    .groupby([\"broad_sector\"])\n",
    "    .sum()\n",
    "    .reset_index()\n",
    ")\n",
    "\n",
    "tha_trade_split_v = (\n",
    "    merged_with_sector.query(\"iso3_O == 'THA' | iso3_D == 'THA'\")[\n",
    "        [\n",
    "            \"broad_sector\",\n",
    "            \"v_air_predict\",\n",
    "            \"v_sea_predict\",\n",
    "            \"v_land_predict\",\n",
    "        ]\n",
    "    ]\n",
    "    .groupby([\"broad_sector\"])\n",
    "    .sum()\n",
    "    .reset_index()\n",
    ")"
   ]
  },
  {
   "cell_type": "code",
   "execution_count": null,
   "metadata": {},
   "outputs": [],
   "source": [
    "tha_import_split_v.set_index(\"broad_sector\").plot(\n",
    "    kind=\"bar\", title=\"THA import mode split (value)\", ylabel=\"Value ('000 USD)\"\n",
    ")\n",
    "tha_export_split_v.set_index(\"broad_sector\").plot(\n",
    "    kind=\"bar\", title=\"THA export mode split (value)\", ylabel=\"Value ('000 USD)\"\n",
    ")\n",
    "tha_import_split_q.set_index(\"broad_sector\").plot(\n",
    "    kind=\"bar\", title=\"THA import mode split (volume)\", ylabel=\"Volume (metric tons)\"\n",
    ")\n",
    "tha_export_split_q.set_index(\"broad_sector\").plot(\n",
    "    kind=\"bar\", title=\"THA export mode split (volume)\", ylabel=\"Volume (metric tons)\"\n",
    ")"
   ]
  },
  {
   "cell_type": "code",
   "execution_count": null,
   "metadata": {},
   "outputs": [],
   "source": [
    "tha_trade_split_v.set_index(\"broad_sector\").plot(\n",
    "    kind=\"bar\", title=\"THA trade mode split (value)\", ylabel=\"Value ('000 USD)\"\n",
    ")\n",
    "plt.savefig(\"../results/input/giri/THA/trade/mode_split_THA_v.png\")\n",
    "tha_trade_split_q.set_index(\"broad_sector\").plot(\n",
    "    kind=\"bar\", title=\"THA trade mode split (volume)\", ylabel=\"Volume (metric tons)\"\n",
    ")\n",
    "plt.savefig(\"../results/input/giri/THA/trade/mode_split_THA_q.png\")"
   ]
  },
  {
   "cell_type": "code",
   "execution_count": null,
   "metadata": {},
   "outputs": [],
   "source": [
    "tha_trade_sector_to_save = tha_trade_sector.rename(\n",
    "    columns={\n",
    "        \"broad_sector\": \"sector\",\n",
    "        \"iso3_O\": \"export_country_code\",\n",
    "        \"iso3_D\": \"import_country_code\",\n",
    "        \"v\": \"trade_value_thousandUSD\",\n",
    "        \"q\": \"trade_quantity_tons\",\n",
    "        \"v_air_predict\": \"trade_value_thousandUSD__air\",\n",
    "        \"q_air_predict\": \"trade_quantity_tons__air\",\n",
    "        \"v_land_predict\": \"trade_value_thousandUSD__land\",\n",
    "        \"q_land_predict\": \"trade_quantity_tons__land\",\n",
    "        \"v_sea_predict\": \"trade_value_thousandUSD__sea\",\n",
    "        \"q_sea_predict\": \"trade_quantity_tons__sea\",\n",
    "    }\n",
    ")\n",
    "\n",
    "tha_trade_sector_to_save.to_csv(\n",
    "    \"../results/input/giri/THA/trade/baci_sector_trade_THA_from_mode_split.csv\",\n",
    "    index=False,\n",
    ")\n",
    "tha_trade_sector_to_save.head()"
   ]
  }
 ],
 "metadata": {
  "kernelspec": {
   "display_name": "Python 3",
   "language": "python",
   "name": "python3"
  },
  "language_info": {
   "codemirror_mode": {
    "name": "ipython",
    "version": 3
   },
   "file_extension": ".py",
   "mimetype": "text/x-python",
   "name": "python",
   "nbconvert_exporter": "python",
   "pygments_lexer": "ipython3",
   "version": "3.10.13"
  }
 },
 "nbformat": 4,
 "nbformat_minor": 2
}
