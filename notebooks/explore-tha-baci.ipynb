{
 "cells": [
  {
   "cell_type": "code",
   "execution_count": null,
   "id": "0",
   "metadata": {},
   "outputs": [],
   "source": [
    "import matplotlib.pyplot as plt\n",
    "import numpy as np\n",
    "import pandas"
   ]
  },
  {
   "cell_type": "code",
   "execution_count": null,
   "id": "1",
   "metadata": {},
   "outputs": [],
   "source": [
    "! exa -l"
   ]
  },
  {
   "cell_type": "markdown",
   "id": "2",
   "metadata": {},
   "source": [
    "# Thailand extract from Raghav"
   ]
  },
  {
   "cell_type": "code",
   "execution_count": null,
   "id": "3",
   "metadata": {},
   "outputs": [],
   "source": [
    "df = (\n",
    "    pandas.read_csv(\"baci_trade_THA.csv\", dtype={\"product_code\": \"str\"})\n",
    "    .drop(\n",
    "        columns=[\n",
    "            \"t\",\n",
    "            \"i\",\n",
    "            \"j\",\n",
    "            \"export_country_name\",\n",
    "            \"import_country_name\",\n",
    "            \"refining_stage\",\n",
    "            \"export_continent\",\n",
    "            \"import_continent\",\n",
    "        ]\n",
    "    )\n",
    "    .rename(columns={\"product_code\": \"product_code_h5\"})\n",
    ")\n",
    "\n",
    "df.export_country_code = df.export_country_code.fillna(\"TWN\")  # Other Asia, n.e.s.\n",
    "df.import_country_code = df.import_country_code.fillna(\"TWN\")  # Other Asia, n.e.s.\n",
    "df.trade_quantity_tons = df.trade_quantity_tons.fillna(\n",
    "    0\n",
    ")  # code 271600 is electrical energy, recorded as NaN tons\n",
    "df.product_code_h5 = df.product_code_h5.str.zfill(6)\n",
    "df.shape, df.dropna().shape"
   ]
  },
  {
   "cell_type": "code",
   "execution_count": null,
   "id": "4",
   "metadata": {},
   "outputs": [],
   "source": [
    "product_codes_hs_to_isic_with_desc = pandas.read_csv(\n",
    "    \"JobID-64_Concordance_HS_to_I3.CSV\", encoding=\"latin-1\", dtype=\"str\"\n",
    ").rename(\n",
    "    columns={\n",
    "        \"HS - Combined  Product Code\": \"product_code_hs\",\n",
    "        \"HS - Combined  Product Description\": \"product_desc_hs\",\n",
    "        \"ISIC Revision 3 Product Code\": \"isic_code\",\n",
    "        \"ISIC Revision 3 Product Description\": \"isic_desc\",\n",
    "    }\n",
    ")\n",
    "product_codes_hs_to_isic = product_codes_hs_to_isic_with_desc[\n",
    "    [\"product_code_hs\", \"isic_code\"]\n",
    "]"
   ]
  },
  {
   "cell_type": "code",
   "execution_count": null,
   "id": "5",
   "metadata": {},
   "outputs": [],
   "source": [
    "product_codes_h5_to_h4_with_desc = pandas.read_csv(\n",
    "    \"JobID-92_Concordance_H5_to_H4.CSV\", encoding=\"latin-1\", dtype=\"str\"\n",
    ").rename(\n",
    "    columns={\n",
    "        \"HS 2017 Product Code\": \"product_code_h5\",\n",
    "        \"HS 2017 Product Description\": \"product_desc_h5\",\n",
    "        \"HS 2012 Product Code\": \"product_code_h4\",\n",
    "        \"HS 2012 Product Description\": \"product_desc_h4\",\n",
    "    }\n",
    ")\n",
    "product_codes_h5_to_h4 = product_codes_h5_to_h4_with_desc[\n",
    "    [\"product_code_h5\", \"product_code_h4\"]\n",
    "]"
   ]
  },
  {
   "cell_type": "code",
   "execution_count": null,
   "id": "6",
   "metadata": {},
   "outputs": [],
   "source": [
    "product_codes_h4_to_isic = pandas.read_csv(\n",
    "    \"JobID-81_Concordance_H4_to_I3.CSV\", encoding=\"latin-1\", dtype=\"str\"\n",
    ").rename(\n",
    "    columns={\n",
    "        \"HS 2012 Product Code\": \"product_code_h4\",\n",
    "        \"HS 2012 Product Description\": \"product_desc_h4\",\n",
    "        \"ISIC Revision 3 Product Code\": \"isic_code\",\n",
    "        \"ISIC Revision 3 Product Description\": \"isic_desc\",\n",
    "    }\n",
    ")[\n",
    "    [\"product_code_h4\", \"isic_code\"]\n",
    "]"
   ]
  },
  {
   "cell_type": "code",
   "execution_count": null,
   "id": "7",
   "metadata": {},
   "outputs": [],
   "source": [
    "extra_codes_to_isic = pandas.read_csv(\"extra_concordance.csv\", dtype=\"str\")[\n",
    "    [\"product_code\", \"isic_code\"]\n",
    "]"
   ]
  },
  {
   "cell_type": "code",
   "execution_count": null,
   "id": "8",
   "metadata": {},
   "outputs": [],
   "source": [
    "df = df.merge(\n",
    "    product_codes_h5_to_h4, on=\"product_code_h5\", validate=\"many_to_one\", how=\"left\"\n",
    ").merge(\n",
    "    product_codes_h4_to_isic, on=\"product_code_h4\", validate=\"many_to_one\", how=\"left\"\n",
    ")\n",
    "df.shape"
   ]
  },
  {
   "cell_type": "code",
   "execution_count": null,
   "id": "9",
   "metadata": {},
   "outputs": [],
   "source": [
    "df1 = df[~df.isic_code.isna()].copy()\n",
    "df2 = (\n",
    "    df[df.isic_code.isna()]\n",
    "    .drop(columns=[\"isic_code\"])\n",
    "    .copy()\n",
    "    .merge(\n",
    "        product_codes_hs_to_isic,\n",
    "        left_on=\"product_code_h5\",\n",
    "        right_on=\"product_code_hs\",\n",
    "        validate=\"many_to_one\",\n",
    "        how=\"left\",\n",
    "    )\n",
    ")\n",
    "df2_clean = df2[~df2.isic_code.isna()].copy()\n",
    "df3 = (\n",
    "    df2[df2.isic_code.isna()]\n",
    "    .drop(columns=[\"isic_code\"])\n",
    "    .copy()\n",
    "    .merge(\n",
    "        extra_codes_to_isic,\n",
    "        left_on=\"product_code_h5\",\n",
    "        right_on=\"product_code\",\n",
    "        validate=\"many_to_one\",\n",
    "        how=\"left\",\n",
    "    )\n",
    ")\n",
    "df3_clean = df3[~df3.isic_code.isna()].copy()"
   ]
  },
  {
   "cell_type": "code",
   "execution_count": null,
   "id": "10",
   "metadata": {},
   "outputs": [],
   "source": [
    "len(df1), len(df2), len(df3), len(df3[df3.isic_code.isna()])"
   ]
  },
  {
   "cell_type": "code",
   "execution_count": null,
   "id": "11",
   "metadata": {},
   "outputs": [],
   "source": [
    "all = pandas.concat([df1, df2_clean, df3])"
   ]
  },
  {
   "cell_type": "code",
   "execution_count": null,
   "id": "12",
   "metadata": {},
   "outputs": [],
   "source": [
    "isic_trade = (\n",
    "    all[\n",
    "        [\n",
    "            \"isic_code\",\n",
    "            \"export_country_code\",\n",
    "            \"import_country_code\",\n",
    "            \"trade_value_thousandUSD\",\n",
    "            \"trade_quantity_tons\",\n",
    "        ]\n",
    "    ]\n",
    "    .groupby([\"isic_code\", \"export_country_code\", \"import_country_code\"])\n",
    "    .sum()\n",
    ")"
   ]
  },
  {
   "cell_type": "code",
   "execution_count": null,
   "id": "13",
   "metadata": {},
   "outputs": [],
   "source": [
    "(\n",
    "    isic_trade.trade_value_thousandUSD.sum(),\n",
    "    all.trade_value_thousandUSD.sum(),\n",
    "    df.trade_value_thousandUSD.sum(),\n",
    ")"
   ]
  },
  {
   "cell_type": "code",
   "execution_count": null,
   "id": "14",
   "metadata": {},
   "outputs": [],
   "source": [
    "partner_trade = (\n",
    "    all[\n",
    "        [\n",
    "            \"export_country_code\",\n",
    "            \"import_country_code\",\n",
    "            \"trade_value_thousandUSD\",\n",
    "            \"trade_quantity_tons\",\n",
    "        ]\n",
    "    ]\n",
    "    .groupby([\"export_country_code\", \"import_country_code\"])\n",
    "    .sum()\n",
    ")"
   ]
  },
  {
   "cell_type": "code",
   "execution_count": null,
   "id": "15",
   "metadata": {},
   "outputs": [],
   "source": [
    "# major_partner_trade = partner_trade.query('trade_value_thousandUSD > 1e6')\n",
    "\n",
    "tha_exports = partner_trade.loc[\"THA\"].rename(\n",
    "    columns={\n",
    "        \"trade_value_thousandUSD\": \"THA_export_trade_value_thousandUSD\",\n",
    "        \"trade_quantity_tons\": \"THA_export_trade_quantity_tons\",\n",
    "    }\n",
    ")\n",
    "tha_exports.index.name = \"country_code\"\n",
    "tha_exports\n",
    "\n",
    "tha_imports = (\n",
    "    partner_trade.reset_index()\n",
    "    .query(\"import_country_code == 'THA'\")\n",
    "    .set_index(\"export_country_code\")\n",
    "    .drop(columns=[\"import_country_code\"])\n",
    "    .rename(\n",
    "        columns={\n",
    "            \"trade_value_thousandUSD\": \"THA_import_trade_value_thousandUSD\",\n",
    "            \"trade_quantity_tons\": \"THA_import_trade_quantity_tons\",\n",
    "        }\n",
    "    )\n",
    ")\n",
    "\n",
    "tha_imports.index.name = \"country_code\"\n",
    "tha_trade_balance = tha_exports.join(tha_imports)"
   ]
  },
  {
   "cell_type": "code",
   "execution_count": null,
   "id": "16",
   "metadata": {},
   "outputs": [],
   "source": [
    "tha_trade_balance.query(\"THA_export_trade_value_thousandUSD > 1e6\")[\n",
    "    [\"THA_import_trade_value_thousandUSD\", \"THA_export_trade_value_thousandUSD\"]\n",
    "].plot(kind=\"bar\")\n",
    "\n",
    "plt.savefig(\"baci_major_trade_balance_tha.png\")"
   ]
  },
  {
   "cell_type": "code",
   "execution_count": null,
   "id": "17",
   "metadata": {},
   "outputs": [],
   "source": [
    "mat_df = (\n",
    "    partner_trade.query(\"trade_value_thousandUSD > 1e7\")\n",
    "    .reset_index()\n",
    "    .pivot(\n",
    "        index=\"export_country_code\",\n",
    "        columns=\"import_country_code\",\n",
    "        values=\"trade_value_thousandUSD\",\n",
    "    )\n",
    ")"
   ]
  },
  {
   "cell_type": "code",
   "execution_count": null,
   "id": "18",
   "metadata": {},
   "outputs": [],
   "source": [
    "fig, ax = plt.subplots()\n",
    "im = ax.imshow(mat_df)\n",
    "cbar = ax.figure.colorbar(im, ax=ax, label=\"1e7 thousand USD\")\n",
    "\n",
    "ax.set_xticks(np.arange(len(mat_df.columns)), labels=mat_df.columns, fontsize=\"small\")\n",
    "ax.set_xlabel(\"Country importing\")\n",
    "ax.set_yticks(np.arange(len(mat_df.index)), labels=mat_df.index, fontsize=\"small\")\n",
    "ax.set_ylabel(\"Country exporting\")\n",
    "# Rotate the tick labels and set their alignment.\n",
    "plt.setp(ax.get_xticklabels(), rotation=90, ha=\"right\", rotation_mode=\"anchor\")\n",
    "ax.set_title(\"Value of trade over 1bn USD, 2021\")\n",
    "\n",
    "plt.savefig(\"baci_major_trade_tha.png\")"
   ]
  },
  {
   "cell_type": "code",
   "execution_count": null,
   "id": "19",
   "metadata": {},
   "outputs": [],
   "source": [
    "isic_structure = pandas.read_csv(\"ISIC_Rev_3_english_structure.csv\")\n",
    "isic_structure"
   ]
  },
  {
   "cell_type": "code",
   "execution_count": null,
   "id": "20",
   "metadata": {},
   "outputs": [],
   "source": [
    "sector_trade = (\n",
    "    isic_trade.reset_index()\n",
    "    .merge(\n",
    "        isic_structure[[\"sector\", \"code\"]],\n",
    "        left_on=\"isic_code\",\n",
    "        right_on=\"code\",\n",
    "        how=\"left\",\n",
    "    )\n",
    "    .drop(columns=[\"isic_code\", \"code\"])\n",
    "    .groupby([\"sector\", \"export_country_code\", \"import_country_code\"])\n",
    "    .sum()\n",
    ")"
   ]
  },
  {
   "cell_type": "code",
   "execution_count": null,
   "id": "21",
   "metadata": {},
   "outputs": [],
   "source": [
    "summary = sector_trade.reset_index()\n",
    "summary[\"export\"] = summary.export_country_code == \"THA\"\n",
    "summary.drop(columns=[\"export_country_code\", \"import_country_code\"]).groupby(\n",
    "    [\"export\", \"sector\"]\n",
    ").sum()"
   ]
  },
  {
   "cell_type": "code",
   "execution_count": null,
   "id": "22",
   "metadata": {},
   "outputs": [],
   "source": [
    "sector_trade.to_csv(\"baci_sector_trade_THA.csv\")"
   ]
  },
  {
   "cell_type": "code",
   "execution_count": null,
   "id": "23",
   "metadata": {},
   "outputs": [],
   "source": [
    "! exa ~/projects/open-gira/results/input/capital-stocks/"
   ]
  },
  {
   "cell_type": "code",
   "execution_count": null,
   "id": "24",
   "metadata": {},
   "outputs": [],
   "source": [
    "! exa /data/incoming/wenz-2023-dose-reported-subnational-output/"
   ]
  },
  {
   "cell_type": "code",
   "execution_count": null,
   "id": "25",
   "metadata": {},
   "outputs": [],
   "source": []
  },
  {
   "cell_type": "code",
   "execution_count": null,
   "id": "26",
   "metadata": {},
   "outputs": [],
   "source": []
  },
  {
   "cell_type": "code",
   "execution_count": null,
   "id": "27",
   "metadata": {},
   "outputs": [],
   "source": []
  },
  {
   "cell_type": "code",
   "execution_count": null,
   "id": "28",
   "metadata": {},
   "outputs": [],
   "source": []
  },
  {
   "cell_type": "code",
   "execution_count": null,
   "id": "29",
   "metadata": {},
   "outputs": [],
   "source": []
  },
  {
   "cell_type": "code",
   "execution_count": null,
   "id": "30",
   "metadata": {},
   "outputs": [],
   "source": []
  },
  {
   "cell_type": "code",
   "execution_count": null,
   "id": "31",
   "metadata": {},
   "outputs": [],
   "source": []
  }
 ],
 "metadata": {
  "kernelspec": {
   "display_name": "Python 3 (ipykernel)",
   "language": "python",
   "name": "python3"
  },
  "language_info": {
   "codemirror_mode": {
    "name": "ipython",
    "version": 3
   },
   "file_extension": ".py",
   "mimetype": "text/x-python",
   "name": "python",
   "nbconvert_exporter": "python",
   "pygments_lexer": "ipython3",
   "version": "3.10.14"
  }
 },
 "nbformat": 4,
 "nbformat_minor": 5
}
