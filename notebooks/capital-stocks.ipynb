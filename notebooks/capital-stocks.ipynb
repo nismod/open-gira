{
 "cells": [
  {
   "cell_type": "code",
   "execution_count": null,
   "id": "0",
   "metadata": {},
   "outputs": [],
   "source": [
    "import pandas"
   ]
  },
  {
   "cell_type": "code",
   "execution_count": null,
   "id": "1",
   "metadata": {},
   "outputs": [],
   "source": [
    "icsd = pandas.read_csv(\"../results/input/capital-stocks/icsd.csv\")\n",
    "icsd.tail(2)"
   ]
  },
  {
   "cell_type": "code",
   "execution_count": null,
   "id": "2",
   "metadata": {},
   "outputs": [],
   "source": [
    "pwt = pandas.read_csv(\"../results/input/capital-stocks/pwt.csv\")\n",
    "pwt.tail(2)"
   ]
  },
  {
   "cell_type": "code",
   "execution_count": null,
   "id": "3",
   "metadata": {},
   "outputs": [],
   "source": [
    "cwon = pandas.read_csv(\"../results/input/capital-stocks/CWON2021.csv\")\n",
    "cwon.tail(2)"
   ]
  },
  {
   "cell_type": "code",
   "execution_count": null,
   "id": "4",
   "metadata": {},
   "outputs": [],
   "source": [
    "bem = pandas.read_csv(\"../results/input/giri/bem_5x5_valfis_adm0.csv\")"
   ]
  },
  {
   "cell_type": "code",
   "execution_count": null,
   "id": "5",
   "metadata": {},
   "outputs": [],
   "source": [
    "df = bem.set_index(\"GID_0\")\n",
    "df = df.join(\n",
    "    icsd.query(\"year == 2018\").drop(columns=[\"year\", \"country\"]).set_index(\"isocode\")\n",
    ")\n",
    "df = df.join(\n",
    "    cwon.query(\"year == 2018\")\n",
    "    .drop(columns=[\"year\", \"wb_name\", \"unit\"])\n",
    "    .set_index(\"wb_code\")\n",
    ")\n",
    "df = df.join(\n",
    "    pwt.query(\"year == 2018\").drop(columns=[\"year\", \"country\"]).set_index(\"countrycode\")\n",
    ")\n",
    "# df = df.dropna()\n",
    "df.kppp_rppp = df.kppp_rppp.fillna(0)\n",
    "\n",
    "df[\"giri__valfis\"] = (df.res_sum + df.nres_sum) * 1e-9  # convert unit to billion\n",
    "df[\"cwon__pk\"] = df.pk * 1e-9  # convert unit to billion\n",
    "df[\"icsd__k\"] = df.kgov_rppp + df.kpriv_rppp + df.kppp_rppp  # assume in billions\n",
    "df[\"pwt__cn\"] = df.cn * 1e-3  # convert from million to billion\n",
    "\n",
    "df.loc[[\"THA\", \"PHL\", \"VNM\", \"IDN\"]][\n",
    "    [\"giri__valfis\", \"cwon__pk\", \"icsd__k\", \"pwt__cn\"]\n",
    "].plot(kind=\"bar\")"
   ]
  },
  {
   "cell_type": "code",
   "execution_count": null,
   "id": "6",
   "metadata": {},
   "outputs": [],
   "source": [
    "df[\"giri_cwon\"] = df.giri__valfis / df.cwon__pk\n",
    "df[\"giri_icsd\"] = df.giri__valfis / df.icsd__k\n",
    "df[\"giri_pwt\"] = df.giri__valfis / df.pwt__cn\n",
    "\n",
    "df[\"cwon_icsd\"] = df.cwon__pk / df.icsd__k\n",
    "df[\"cwon_pwt\"] = df.cwon__pk / df.pwt__cn\n",
    "\n",
    "df[[\"giri_cwon\", \"giri_icsd\", \"giri_pwt\", \"cwon_icsd\", \"cwon_pwt\"]].plot.box(\n",
    "    ylabel=\"Ratio\"\n",
    ")"
   ]
  },
  {
   "cell_type": "code",
   "execution_count": null,
   "id": "7",
   "metadata": {},
   "outputs": [],
   "source": [
    "df[[\"giri__valfis\", \"cwon__pk\", \"res_sum\", \"nres_sum\"]].loc[\"THA\"]"
   ]
  }
 ],
 "metadata": {
  "kernelspec": {
   "display_name": "Python 3 (ipykernel)",
   "language": "python",
   "name": "python3"
  },
  "language_info": {
   "codemirror_mode": {
    "name": "ipython",
    "version": 3
   },
   "file_extension": ".py",
   "mimetype": "text/x-python",
   "name": "python",
   "nbconvert_exporter": "python",
   "pygments_lexer": "ipython3",
   "version": "3.10.13"
  }
 },
 "nbformat": 4,
 "nbformat_minor": 5
}
