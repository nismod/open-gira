{
 "cells": [
  {
   "cell_type": "code",
   "execution_count": null,
   "id": "0",
   "metadata": {},
   "outputs": [],
   "source": [
    "from pathlib import Path\n",
    "import pandas\n",
    "base_path = Path() / \"..\" / \"results\"/ \"input\" / \"capital-stocks\""
   ]
  },
  {
   "cell_type": "code",
   "execution_count": null,
   "id": "1",
   "metadata": {},
   "outputs": [],
   "source": [
    "icsd = pandas.read_csv(base_path / \"icsd.csv\")\n",
    "icsd.tail(2)"
   ]
  },
  {
   "cell_type": "code",
   "execution_count": null,
   "id": "2",
   "metadata": {},
   "outputs": [],
   "source": [
    "pwt = pandas.read_csv(base_path / \"pwt.csv\")\n",
    "pwt.tail(2)"
   ]
  },
  {
   "cell_type": "code",
   "execution_count": null,
   "id": "3",
   "metadata": {},
   "outputs": [],
   "source": [
    "cwon = pandas.read_csv(base_path / \"CWON2021.csv\")\n",
    "cwon.tail(2)"
   ]
  },
  {
   "cell_type": "code",
   "execution_count": null,
   "id": "4",
   "metadata": {},
   "outputs": [],
   "source": [
    "bem = pandas.read_csv(base_path / \"..\" / \"giri\" / \"bem_5x5_valfis_adm0.csv\")"
   ]
  },
  {
   "cell_type": "code",
   "execution_count": null,
   "id": "5",
   "metadata": {},
   "outputs": [],
   "source": [
    "df = bem.set_index(\"GID_0\")\n",
    "df = df.join(icsd.query('year == 2018').drop(columns=['year', 'country']).set_index('isocode'))\n",
    "df = df.join(cwon.query('year == 2018').drop(columns=['year', 'wb_name', 'unit']).set_index('wb_code'))\n",
    "df = df.join(pwt.query('year == 2018').drop(columns=['year', 'country']).set_index('countrycode'))\n",
    "# df = df.dropna()\n",
    "df.kppp_rppp = df.kppp_rppp.fillna(0)\n",
    "\n",
    "df[\"giri__valfis\"] = (df.res_sum + df.nres_sum) * 1e-9 # convert unit to billion\n",
    "df[\"cwon__pk\"] = df.pk * 1e-9 # convert unit to billion\n",
    "df[\"icsd__k\"] = (df.kgov_rppp + df.kpriv_rppp + df.kppp_rppp)  # assume in billions\n",
    "df[\"pwt__cn\"] = df.cn * 1e-3 # convert from million to billion\n",
    "\n",
    "df.loc[[\"THA\", \"PHL\", \"VNM\", \"IDN\"]][[\"giri__valfis\",\"cwon__pk\",\"icsd__k\",\"pwt__cn\"]].plot(kind=\"bar\")\n"
   ]
  },
  {
   "cell_type": "code",
   "execution_count": null,
   "id": "6",
   "metadata": {},
   "outputs": [],
   "source": [
    "df.shape"
   ]
  },
  {
   "cell_type": "code",
   "execution_count": null,
   "id": "7",
   "metadata": {},
   "outputs": [],
   "source": [
    "df_subset = df.dropna(subset=[\"giri__valfis\", \"cwon__pk\", \"icsd__k\", \"pwt__cn\"]).copy()\n",
    "df_subset.shape"
   ]
  },
  {
   "cell_type": "code",
   "execution_count": null,
   "id": "8",
   "metadata": {},
   "outputs": [],
   "source": [
    "df_subset[\"GIRI / CWON\"] = (df_subset.giri__valfis / df_subset.cwon__pk)\n",
    "df_subset[\"GIRI / ICSD\"] = (df_subset.giri__valfis / df_subset.icsd__k)\n",
    "df_subset[\"GIRI / PWT\"] = (df_subset.giri__valfis / df_subset.pwt__cn)\n",
    "\n",
    "df_subset[\"CWON / ICSD\"] = (df_subset.cwon__pk / df_subset.icsd__k)\n",
    "df_subset[\"CWON / PWT\"] = (df_subset.cwon__pk / df_subset.pwt__cn)\n",
    "\n",
    "ax = df_subset[[\"GIRI / CWON\", \"GIRI / ICSD\", \"GIRI / PWT\", \"CWON / ICSD\", \"CWON / PWT\"]].plot.box(ylabel=\"Ratio\")\n",
    "ax.set_title(f\"Ratios of Capital Stock Estimates, 2018, n={df_subset.shape[0]} countries\")"
   ]
  }
 ],
 "metadata": {
  "kernelspec": {
   "display_name": "Python 3",
   "language": "python",
   "name": "python3"
  },
  "language_info": {
   "codemirror_mode": {
    "name": "ipython",
    "version": 3
   },
   "file_extension": ".py",
   "mimetype": "text/x-python",
   "name": "python",
   "nbconvert_exporter": "python",
   "pygments_lexer": "ipython3",
   "version": "3.12.9"
  }
 },
 "nbformat": 4,
 "nbformat_minor": 5
}
